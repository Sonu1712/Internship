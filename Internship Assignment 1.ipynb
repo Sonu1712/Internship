{
 "cells": [
  {
   "cell_type": "markdown",
   "id": "692bb73c",
   "metadata": {},
   "source": [
    "##### 1. Write a Python program to replace all occurrences of a space, comma, or dot with a colon.\n",
    "Sample Text- 'Python Exercises, PHP exercises.'\n",
    "\n",
    "Expected Output: Python:Exercises::PHP:exercises:\n"
   ]
  },
  {
   "cell_type": "code",
   "execution_count": 3,
   "id": "634fb2cf",
   "metadata": {},
   "outputs": [],
   "source": [
    "import re\n",
    "import pandas as pd\n",
    "import numpy as np"
   ]
  },
  {
   "cell_type": "code",
   "execution_count": 1,
   "id": "19c54c07",
   "metadata": {},
   "outputs": [],
   "source": [
    "Question = 'Python exercises, PHP Exercises.'"
   ]
  },
  {
   "cell_type": "code",
   "execution_count": 2,
   "id": "94b90061",
   "metadata": {},
   "outputs": [
    {
     "name": "stdout",
     "output_type": "stream",
     "text": [
      "Python:exercises::PHP:Exercises:\n"
     ]
    }
   ],
   "source": [
    "def replace_symbols(text):\n",
    "    pattern= r'[ ,.]'\n",
    "    matching = re.sub(pattern,':', text)\n",
    "    return matching\n",
    "\n",
    "answer= replace_symbols(Question)\n",
    "print(answer)  "
   ]
  },
  {
   "cell_type": "code",
   "execution_count": null,
   "id": "e339be30",
   "metadata": {},
   "outputs": [],
   "source": []
  },
  {
   "cell_type": "markdown",
   "id": "04bbad71",
   "metadata": {},
   "source": [
    "##### 2. Write a Python program to find all words starting with 'a' or 'e' in a given string."
   ]
  },
  {
   "cell_type": "code",
   "execution_count": 6,
   "id": "34d5c347",
   "metadata": {},
   "outputs": [
    {
     "name": "stdout",
     "output_type": "stream",
     "text": [
      "['Expressions', 'also', 'as', 'and']\n"
     ]
    }
   ],
   "source": [
    "def find_a_e(text):\n",
    "    pattern = r'\\b[aeAE]\\w+'\n",
    "    matches = re.findall(pattern,text)\n",
    "    return matches\n",
    "example = \"Regular Expressions also known as regex or RegEx is a powerful tool for pattern matching and data manipulation\"\n",
    "answer = find_a_e(example)\n",
    "print(answer)"
   ]
  },
  {
   "cell_type": "code",
   "execution_count": null,
   "id": "99dca9a3",
   "metadata": {},
   "outputs": [],
   "source": []
  },
  {
   "cell_type": "markdown",
   "id": "1458c3d3",
   "metadata": {},
   "source": [
    "##### 3. Create a function in python to find all words that are at least 4 characters long in a string. The use of the re.compile() method is mandatory."
   ]
  },
  {
   "cell_type": "code",
   "execution_count": 7,
   "id": "fa8b22a9",
   "metadata": {},
   "outputs": [
    {
     "name": "stdout",
     "output_type": "stream",
     "text": [
      "['Regular', 'Expressions', 'also', 'known', 'regex', 'RegEx', 'powerful', 'tool', 'pattern', 'matching', 'data', 'manipulation']\n"
     ]
    }
   ],
   "source": [
    "def words_4_letter(text):\n",
    "    pattern = re.compile(r'\\b\\w{4,}\\b')\n",
    "    matches = pattern.findall(text)\n",
    "    return matches\n",
    "\n",
    "example = \"Regular Expressions also known as regex or RegEx is a powerful tool for pattern matching and data manipulation\"\n",
    "answer = words_4_letter(example)\n",
    "print(answer)"
   ]
  },
  {
   "cell_type": "code",
   "execution_count": null,
   "id": "1f30dd33",
   "metadata": {},
   "outputs": [],
   "source": []
  },
  {
   "cell_type": "markdown",
   "id": "625497b3",
   "metadata": {},
   "source": [
    "##### 4. Create a function in python to find all three, four, and five character words in a string. The use of the re.compile() method is mandatory."
   ]
  },
  {
   "cell_type": "code",
   "execution_count": 8,
   "id": "4090a4ed",
   "metadata": {},
   "outputs": [
    {
     "name": "stdout",
     "output_type": "stream",
     "text": [
      "['also', 'known', 'regex', 'RegEx', 'tool', 'for', 'and', 'data']\n"
     ]
    }
   ],
   "source": [
    "def words_345letter(text):\n",
    "    pattern = re.compile(r'\\b\\w{3,5}\\b')  \n",
    "    matches = pattern.findall(text)\n",
    "    return matches\n",
    "\n",
    "example = \"Regular Expressions also known as regex or RegEx is a powerful tool for pattern matching and data manipulation\"\n",
    "answer = words_345letter(example)\n",
    "print(answer)"
   ]
  },
  {
   "cell_type": "code",
   "execution_count": null,
   "id": "bef23419",
   "metadata": {},
   "outputs": [],
   "source": []
  },
  {
   "cell_type": "markdown",
   "id": "1171dce9",
   "metadata": {},
   "source": [
    "##### 5. Create a function in Python to remove the parenthesis in a list of strings. The use of the re.compile() method is mandatory.\n",
    "\n",
    "Sample Text: [\"example (.com)\", \"hr@fliprobo (.com)\", \"github (.com)\", \"Hello (Data Science World)\", \"Data (Scientist)\"]\n",
    "\n",
    "Expected Output:\n",
    "\n",
    "example.com\n",
    "\n",
    "hr@fliprobo.com\n",
    "\n",
    "github.com\n",
    "\n",
    "Hello Data Science World\n",
    "\n",
    "Data Scientist"
   ]
  },
  {
   "cell_type": "code",
   "execution_count": 14,
   "id": "485b0794",
   "metadata": {},
   "outputs": [
    {
     "name": "stdout",
     "output_type": "stream",
     "text": [
      "['example .com', 'hr@fliprobo .com', 'github .com', 'Hello Data Science World', 'Data Scientist']\n"
     ]
    }
   ],
   "source": [
    "def remove_brackets(strings):\n",
    "    pattern = re.compile(r'[\\[\\](){}]') \n",
    "    \n",
    "    expected_strings = []\n",
    "    for string in strings:\n",
    "        expected_string = pattern.sub('', string)\n",
    "        expected_strings.append(expected_string)\n",
    "    \n",
    "    return expected_strings\n",
    "\n",
    "sample_text = [\n",
    "    \"example (.com)\",\n",
    "    \"hr@fliprobo (.com)\",\n",
    "    \"github (.com)\",\n",
    "    \"Hello (Data Science World)\",\n",
    "    \"Data (Scientist)\"\n",
    "]\n",
    "\n",
    "output = remove_brackets(sample_text)\n",
    "print(output)"
   ]
  },
  {
   "cell_type": "code",
   "execution_count": null,
   "id": "5e389665",
   "metadata": {},
   "outputs": [],
   "source": []
  },
  {
   "cell_type": "markdown",
   "id": "3eb6f7fc",
   "metadata": {},
   "source": [
    "##### 6. Write a python program to remove the parenthesis area from the text stored in the text file using Regular Expression.\n",
    "\n",
    "Sample Text: [\"example (.com)\", \"hr@fliprobo (.com)\", \"github (.com)\", \"Hello (Data Science World)\", \"Data (Scientist)\"]\n",
    "\n",
    "Expected Output: [\"example\", \"hr@fliprobo\", \"github\", \"Hello\", \"Data\"]\n",
    "\n",
    "Note- Store given sample text in the text file and then to remove the parenthesis area from the text.\n"
   ]
  },
  {
   "cell_type": "code",
   "execution_count": 42,
   "id": "b5f370c5",
   "metadata": {},
   "outputs": [
    {
     "name": "stdout",
     "output_type": "stream",
     "text": [
      "File 'sample_text.txt' has been created with the sample text.\n"
     ]
    }
   ],
   "source": [
    "sample_text = [\"example (.com)\", \"hr@fliprobo (.com)\", \"github (.com)\", \"Hello (Data Science World)\", \"Data (Scientist)\"]\n",
    "\n",
    "with open(\"sample_text.txt\", \"w\") as file:\n",
    "    for line in sample_text:\n",
    "        file.write(line + \"\\n\")\n",
    "\n",
    "print(\"File 'sample_text.txt' has been created with the sample text.\")"
   ]
  },
  {
   "cell_type": "code",
   "execution_count": 43,
   "id": "dd1925b0",
   "metadata": {},
   "outputs": [
    {
     "name": "stdout",
     "output_type": "stream",
     "text": [
      "Expected Output:\n",
      "example\n",
      "hr@fliprobo\n",
      "github\n",
      "Hello\n",
      "Data\n"
     ]
    }
   ],
   "source": [
    "def remove_parenthesis_area(text):\n",
    "    pattern = re.compile(r'\\s*\\([^)]*\\)')  # Regular expression pattern to match parenthesis area\n",
    "    cleaned_text = [pattern.sub('', line) for line in text]\n",
    "    return cleaned_text\n",
    "\n",
    "input_file = 'sample_text.txt'\n",
    "\n",
    "with open(input_file, 'r') as file:\n",
    "    content = file.readlines()\n",
    "\n",
    "cleaned_text = remove_parenthesis_area(content)\n",
    "\n",
    "print(\"Expected Output:\")\n",
    "for line in cleaned_text:\n",
    "    print(line.strip())"
   ]
  },
  {
   "cell_type": "markdown",
   "id": "2231222a",
   "metadata": {},
   "source": [
    "##### 7. Write a regular expression in Python to split a string into uppercase letters.\n",
    "\n",
    "Sample text: “ImportanceOfRegularExpressionsInPython”\n",
    "\n",
    "Expected Output: [‘Importance’, ‘Of’, ‘Regular’, ‘Expression’, ‘In’, ‘Python’]"
   ]
  },
  {
   "cell_type": "code",
   "execution_count": 16,
   "id": "3090ff0a",
   "metadata": {},
   "outputs": [
    {
     "name": "stdout",
     "output_type": "stream",
     "text": [
      "['Importance', 'Of', 'Regular', 'Expressions', 'In', 'Python']\n"
     ]
    }
   ],
   "source": [
    "sample_text = \"ImportanceOfRegularExpressionsInPython\"\n",
    "split_string = re.findall(r'[A-Z][a-z]*', sample_text)\n",
    "\n",
    "print(split_string)"
   ]
  },
  {
   "cell_type": "code",
   "execution_count": null,
   "id": "ab8b4f0c",
   "metadata": {},
   "outputs": [],
   "source": []
  },
  {
   "cell_type": "markdown",
   "id": "81d2194b",
   "metadata": {},
   "source": [
    "##### 8.Create a function in python to insert spaces between words starting with numbers.\n",
    "\n",
    "Sample Text: “RegularExpression1IsAn2ImportantTopic3InPython\"\n",
    "\n",
    "Expected Output: RegularExpression 1IsAn 2ImportantTopic 3InPython"
   ]
  },
  {
   "cell_type": "code",
   "execution_count": 17,
   "id": "494c1944",
   "metadata": {},
   "outputs": [
    {
     "name": "stdout",
     "output_type": "stream",
     "text": [
      "RegularExpression1 IsAn2 ImportantTopic3 InPython\n"
     ]
    }
   ],
   "source": [
    "def space_with_nos(text):\n",
    "    pattern = re.compile(r'([0-9])([A-Za-z])') \n",
    "    spaced_text = pattern.sub(r'\\1 \\2', text)\n",
    "    return spaced_text\n",
    "\n",
    "sample_text = \"RegularExpression1IsAn2ImportantTopic3InPython\"\n",
    "result = space_with_nos(sample_text)\n",
    "print(result)"
   ]
  },
  {
   "cell_type": "code",
   "execution_count": null,
   "id": "f05a02b3",
   "metadata": {},
   "outputs": [],
   "source": []
  },
  {
   "cell_type": "markdown",
   "id": "958c88b5",
   "metadata": {},
   "source": [
    "##### 9.Create a function in python to insert spaces between words starting with capital letters or with numbers.\n",
    "\n",
    "Sample Text: “RegularExpression1IsAn2ImportantTopic3InPython\"\n",
    "\n",
    "Expected Output:  RegularExpression 1 IsAn 2 ImportantTopic 3 InPython\n"
   ]
  },
  {
   "cell_type": "code",
   "execution_count": 18,
   "id": "c91a4260",
   "metadata": {},
   "outputs": [
    {
     "name": "stdout",
     "output_type": "stream",
     "text": [
      "Regular Expression 1 Is An 2 Important Topic 3 In Python\n"
     ]
    }
   ],
   "source": [
    "def spaces_caps_nos(text):\n",
    "    pattern = re.compile(r'(?<=[a-z])(?=[A-Z0-9])|(?<=[A-Z])(?=[A-Z0-9])|(?<=\\d)(?=[A-Z0-9])')  \n",
    "    spaced_text = pattern.sub(' ', text)\n",
    "    return spaced_text\n",
    "\n",
    "sample_text = \"RegularExpression1IsAn2ImportantTopic3InPython\"\n",
    "result = spaces_caps_nos(sample_text)\n",
    "print(result)"
   ]
  },
  {
   "cell_type": "code",
   "execution_count": null,
   "id": "cbd104c6",
   "metadata": {},
   "outputs": [],
   "source": []
  },
  {
   "cell_type": "markdown",
   "id": "3cf5bae0",
   "metadata": {},
   "source": [
    "##### 10. Write a python program to extract email address from the text stored in the text file using Regular Expression.\n",
    "\n",
    "Sample Text- Hello my name is Data Science and my email address is xyz@domain.com and alternate email address is xyz.abc@sdomain.domain.com. \n",
    "\n",
    "Please contact us at hr@fliprobo.com for further information. \n",
    "\n",
    "Expected Output: \n",
    "['xyz@domain.com', 'xyz.abc@sdomain.domain.com']\n",
    "['hr@fliprobo.com']\n",
    "\n",
    "Note- Store given sample text in the text file and then extract email addresses."
   ]
  },
  {
   "cell_type": "code",
   "execution_count": null,
   "id": "1d7d4026",
   "metadata": {},
   "outputs": [],
   "source": [
    "sample_text = '''Hello my name is Data Science and my email address is xyz@domain.com and alternate email address is xyz.abc@sdomain.domain.com.\n",
    "Please contact us at hr@fliprobo.com for further information.'''\n",
    "\n",
    "with open(\"sample_text.txt\", \"w\") as file:\n",
    "    file.write(sample_text)\n",
    "\n",
    "print(\"File 'sample_text.txt' has been created with the sample text.\")"
   ]
  },
  {
   "cell_type": "code",
   "execution_count": 19,
   "id": "9a5fdc4d",
   "metadata": {},
   "outputs": [
    {
     "data": {
      "text/plain": [
       "['xyz@domain.com', 'xyz.abc@sdomain.domain.com', 'hr@fliprobo.com']"
      ]
     },
     "execution_count": 19,
     "metadata": {},
     "output_type": "execute_result"
    }
   ],
   "source": [
    "def extract_emails(text):\n",
    "    pattern = re.compile(r'\\b[A-Za-z0-9._%+-]+@[A-Za-z0-9.-]+\\.[A-Z|a-z]{2,7}\\b')  # Regular expression pattern\n",
    "    emails = pattern.findall(text)\n",
    "    return emails\n",
    "\n",
    "input_file = 'sample_text.txt'  \n",
    "with open(input_file, 'r') as file:\n",
    "    content = file.read()\n",
    "\n",
    "email_addresses = extract_emails(content)\n",
    "\n",
    "email_addresses"
   ]
  },
  {
   "cell_type": "code",
   "execution_count": null,
   "id": "f91481a3",
   "metadata": {},
   "outputs": [],
   "source": []
  },
  {
   "cell_type": "markdown",
   "id": "ba5163c6",
   "metadata": {},
   "source": [
    "##### 11.Write a Python program to match a string that contains only upper and lowercase letters, numbers, and underscores."
   ]
  },
  {
   "cell_type": "code",
   "execution_count": 20,
   "id": "f15b7ce9",
   "metadata": {},
   "outputs": [
    {
     "name": "stdout",
     "output_type": "stream",
     "text": [
      "'RegEx999' is a valid string.\n",
      "'Python_DataScience' is a valid string.\n",
      "'123_456_798' is a valid string.\n",
      "'Assignment_1' is a valid string.\n",
      "'Alpha$Numeric' is not a valid string.\n"
     ]
    }
   ],
   "source": [
    "def valid_string(text):\n",
    "    pattern = re.compile(r'^[A-Za-z0-9_]+$')  \n",
    "    return bool(pattern.match(text))\n",
    "\n",
    "test_strings = [\"RegEx999\", \"Python_DataScience\", \"123_456_798\", \"Assignment_1\" , \"Alpha$Numeric\"]\n",
    "\n",
    "for string in test_strings:\n",
    "    if valid_string(string):\n",
    "        print(f\"'{string}' is a valid string.\")\n",
    "    else:\n",
    "        print(f\"'{string}' is not a valid string.\")"
   ]
  },
  {
   "cell_type": "code",
   "execution_count": null,
   "id": "5e5b5da8",
   "metadata": {},
   "outputs": [],
   "source": []
  },
  {
   "cell_type": "markdown",
   "id": "fbe00297",
   "metadata": {},
   "source": [
    "##### 12. Write a Python program where a string will start with a specific number. "
   ]
  },
  {
   "cell_type": "code",
   "execution_count": 15,
   "id": "06a948cc",
   "metadata": {},
   "outputs": [
    {
     "name": "stdout",
     "output_type": "stream",
     "text": [
      "The string '123read' starts with the number 123.\n",
      "The string '999python' starts with the number 999.\n",
      "The string '5348n' does not start with the number 789.\n",
      "The string '100score' starts with the number 10.\n",
      "The string '1231as' does not start with the number 888.\n"
     ]
    }
   ],
   "source": [
    "def starts_specific_number(text, number):\n",
    "    return text.startswith(str(number))\n",
    "\n",
    "examples = [ \n",
    "    (\"123read\", 123),\n",
    "    (\"999python\", 999),\n",
    "    (\"5348n\",789),\n",
    "    (\"100score\", 10),\n",
    "    (\"1231as\", 888)\n",
    "]\n",
    " \n",
    "for test_string, specific_number in examples:\n",
    "    if starts_specific_number(test_string, specific_number):\n",
    "        print(f\"The string '{test_string}' starts with the number {specific_number}.\")\n",
    "    else:\n",
    "        print(f\"The string '{test_string}' does not start with the number {specific_number}.\")"
   ]
  },
  {
   "cell_type": "code",
   "execution_count": null,
   "id": "77b3e427",
   "metadata": {},
   "outputs": [],
   "source": []
  },
  {
   "cell_type": "markdown",
   "id": "f2422819",
   "metadata": {},
   "source": [
    "##### 13. Write a Python program to remove leading zeros from an IP address"
   ]
  },
  {
   "cell_type": "code",
   "execution_count": 21,
   "id": "dea9ae3d",
   "metadata": {},
   "outputs": [
    {
     "name": "stdout",
     "output_type": "stream",
     "text": [
      "199.167.1.1\n",
      "10.10.10.10\n",
      "225.1.1.1\n"
     ]
    }
   ],
   "source": [
    "def remove_zeros(ip_address):\n",
    "    components = ip_address.split('.')\n",
    "    cleaned_components = [str(int(component)) for component in components]\n",
    "    cleaned_ip = '.'.join(cleaned_components)\n",
    "    return cleaned_ip\n",
    "\n",
    "ip_addresses = [\n",
    "    \"199.167.001.001\",\n",
    "    \"010.010.010.010\",\n",
    "    \"225.001.001.001\"\n",
    "]\n",
    "\n",
    "for ip_address in ip_addresses:\n",
    "    cleaned_ip = remove_zeros(ip_address)\n",
    "    print(cleaned_ip)"
   ]
  },
  {
   "cell_type": "code",
   "execution_count": null,
   "id": "9e95624f",
   "metadata": {},
   "outputs": [],
   "source": []
  },
  {
   "cell_type": "markdown",
   "id": "8417f868",
   "metadata": {},
   "source": [
    "##### 14. Write a regular expression in python to match a date string in the form of Month name followed by day number and year stored in a text file.\n",
    "\n",
    "Sample text :  ' On August 15th 1947 that India was declared independent from British colonialism, and the reins of control were handed over to the leaders of the Country’.\n",
    "\n",
    "Expected Output- August 15th 1947\n",
    "\n",
    "Note- Store given sample text in the text file and then extract the date string asked format."
   ]
  },
  {
   "cell_type": "code",
   "execution_count": 22,
   "id": "331db2c5",
   "metadata": {},
   "outputs": [
    {
     "name": "stdout",
     "output_type": "stream",
     "text": [
      "File 'sample_text.txt' has been created with the sample text.\n"
     ]
    }
   ],
   "source": [
    "sample_text = \"On August 15th 1947 that India was declared independent from British colonialism, and the reins of control were handed over to the leaders of the Country.\"\n",
    "\n",
    "with open(\"sample_text.txt\", \"w\") as file:\n",
    "    file.write(sample_text)\n",
    "\n",
    "print(\"File 'sample_text.txt' has been created with the sample text.\")"
   ]
  },
  {
   "cell_type": "code",
   "execution_count": 23,
   "id": "0e0c19cf",
   "metadata": {},
   "outputs": [
    {
     "name": "stdout",
     "output_type": "stream",
     "text": [
      "August 15th 1947\n"
     ]
    }
   ],
   "source": [
    "import re\n",
    "\n",
    "def extract_date(text):\n",
    "    pattern = re.compile(r'\\b(?:January|February|March|April|May|June|July|August|September|October|November|December)\\s+\\d{1,2}(?:st|nd|rd|th)?\\s+\\d{4}\\b')  # Regular expression pattern\n",
    "    match = pattern.search(text)\n",
    "    if match:\n",
    "        return match.group()\n",
    "\n",
    "input_file = 'sample_text.txt'\n",
    "\n",
    "with open(input_file, 'r') as file:\n",
    "    content = file.read()\n",
    "\n",
    "date = extract_date(content)\n",
    "\n",
    "if date:\n",
    "    print(date)\n",
    "else:\n",
    "    print(\"Date not found.\")"
   ]
  },
  {
   "cell_type": "code",
   "execution_count": null,
   "id": "14430fe5",
   "metadata": {},
   "outputs": [],
   "source": []
  },
  {
   "cell_type": "markdown",
   "id": "b6a1e298",
   "metadata": {},
   "source": [
    "##### 15. Write a Python program to search some literals strings in a string. \n",
    "\n",
    "Sample text : 'The quick brown fox jumps over the lazy dog.'\n",
    "\n",
    "Searched words : 'fox', 'dog', 'horse'\n"
   ]
  },
  {
   "cell_type": "code",
   "execution_count": 24,
   "id": "7239248f",
   "metadata": {},
   "outputs": [
    {
     "name": "stdout",
     "output_type": "stream",
     "text": [
      "'fox' found in the text.\n",
      "'dog' found in the text.\n"
     ]
    }
   ],
   "source": [
    "def search_words(text, words):\n",
    "    found_words = [word for word in words if word in text]\n",
    "    return found_words\n",
    "\n",
    "sample_text = 'The quick brown fox jumps over the lazy dog.'\n",
    "searched_words = ['fox', 'dog', 'horse']\n",
    "\n",
    "found_words = search_words(sample_text, searched_words)\n",
    "\n",
    "for word in found_words:\n",
    "    print(f\"'{word}' found in the text.\")"
   ]
  },
  {
   "cell_type": "code",
   "execution_count": null,
   "id": "3ff3f4bc",
   "metadata": {},
   "outputs": [],
   "source": []
  },
  {
   "cell_type": "markdown",
   "id": "70760868",
   "metadata": {},
   "source": [
    "##### 16. Write a Python program to search a literals string in a string and also find the location within the original string where the pattern occurs\n",
    "Sample text : 'The quick brown fox jumps over the lazy dog.'\n",
    "\n",
    "Searched words : 'fox'"
   ]
  },
  {
   "cell_type": "code",
   "execution_count": 25,
   "id": "89846bbf",
   "metadata": {},
   "outputs": [
    {
     "name": "stdout",
     "output_type": "stream",
     "text": [
      "'fox' found at positions: [16]\n"
     ]
    }
   ],
   "source": [
    "def search_and_find_location(text, word):\n",
    "    found_positions = []\n",
    "    start = 0\n",
    "\n",
    "    while start < len(text):\n",
    "        position = text.find(word, start)\n",
    "        if position == -1:\n",
    "            break\n",
    "        found_positions.append(position)\n",
    "        start = position + 1\n",
    "\n",
    "    return found_positions\n",
    "\n",
    "sample_text = 'The quick brown fox jumps over the lazy dog.'\n",
    "searched_word = 'fox'\n",
    "\n",
    "found_positions = search_and_find_location(sample_text, searched_word)\n",
    "\n",
    "if found_positions:\n",
    "    print(f\"'{searched_word}' found at positions: {found_positions}\")\n",
    "else:\n",
    "    print(f\"'{searched_word}' not found in the text.\")"
   ]
  },
  {
   "cell_type": "code",
   "execution_count": null,
   "id": "acc0df16",
   "metadata": {},
   "outputs": [],
   "source": []
  },
  {
   "cell_type": "markdown",
   "id": "dbd73d05",
   "metadata": {},
   "source": [
    "##### 17. Write a Python program to find the substrings within a string.\n",
    "\n",
    "Sample text : 'Python exercises, PHP exercises, C# exercises'\n",
    "\n",
    "Pattern : 'exercises'.\n"
   ]
  },
  {
   "cell_type": "code",
   "execution_count": 26,
   "id": "58b59f9d",
   "metadata": {},
   "outputs": [
    {
     "name": "stdout",
     "output_type": "stream",
     "text": [
      "'exercises' found at indices: [7, 22, 36]\n"
     ]
    }
   ],
   "source": [
    "def find_substrings(text, pattern):\n",
    "    found_indices = []\n",
    "    start = 0\n",
    "\n",
    "    while start < len(text):\n",
    "        index = text.find(pattern, start)\n",
    "        if index == -1:\n",
    "            break\n",
    "        found_indices.append(index)\n",
    "        start = index + 1\n",
    "\n",
    "    return found_indices\n",
    "\n",
    "sample_text = 'Python exercises, PHP exercises, C# exercises'\n",
    "pattern = 'exercises'\n",
    "\n",
    "found_indices = find_substrings(sample_text, pattern)\n",
    "\n",
    "if found_indices:\n",
    "    print(f\"'{pattern}' found at indices: {found_indices}\")\n",
    "else:\n",
    "    print(f\"'{pattern}' not found in the text.\")"
   ]
  },
  {
   "cell_type": "code",
   "execution_count": null,
   "id": "ed33f6e4",
   "metadata": {},
   "outputs": [],
   "source": []
  },
  {
   "cell_type": "markdown",
   "id": "bc00ac43",
   "metadata": {},
   "source": [
    "##### 18.Write a Python program to find the occurrence and position of the substrings within a string."
   ]
  },
  {
   "cell_type": "code",
   "execution_count": 27,
   "id": "da8fbc64",
   "metadata": {},
   "outputs": [
    {
     "name": "stdout",
     "output_type": "stream",
     "text": [
      "'exercises' found:\n",
      " - Occurrence at position 7\n",
      " - Occurrence at position 22\n",
      " - Occurrence at position 36\n",
      "\n",
      "'Python' found:\n",
      " - Occurrence at position 0\n",
      "\n",
      "'PHP' found:\n",
      " - Occurrence at position 18\n",
      "\n"
     ]
    }
   ],
   "source": [
    "def find_substrings(text, pattern):\n",
    "    occurrences = []\n",
    "    start = 0\n",
    "\n",
    "    while start < len(text):\n",
    "        index = text.find(pattern, start)\n",
    "        if index == -1:\n",
    "            break\n",
    "        occurrences.append((pattern, index))\n",
    "        start = index + 1\n",
    "\n",
    "    return occurrences\n",
    "\n",
    "sample_text = 'Python exercises, PHP exercises, C# exercises'\n",
    "patterns = ['exercises', 'Python', 'PHP']\n",
    "\n",
    "for pattern in patterns:\n",
    "    occurrences = find_substrings(sample_text, pattern)\n",
    "    if occurrences:\n",
    "        print(f\"'{pattern}' found:\")\n",
    "        for pattern, index in occurrences:\n",
    "            print(f\" - Occurrence at position {index}\")\n",
    "    else:\n",
    "        print(f\"'{pattern}' not found in the text.\")\n",
    "    print()"
   ]
  },
  {
   "cell_type": "code",
   "execution_count": null,
   "id": "2bb81a42",
   "metadata": {},
   "outputs": [],
   "source": []
  },
  {
   "cell_type": "markdown",
   "id": "8e58ad5a",
   "metadata": {},
   "source": [
    "##### 19. Write a Python program to convert a date of yyyy-mm-dd format to dd-mm-yyyy format."
   ]
  },
  {
   "cell_type": "code",
   "execution_count": 28,
   "id": "33b8d0bc",
   "metadata": {},
   "outputs": [
    {
     "name": "stdout",
     "output_type": "stream",
     "text": [
      "Enter a date in yyyy-mm-dd format: 1997-12-17\n",
      "Converted date: 17-12-1997\n"
     ]
    }
   ],
   "source": [
    "def convert_date(date):\n",
    "    parts = date.split('-')\n",
    "    if len(parts) == 3:\n",
    "        yyyy, mm, dd = parts\n",
    "        return f\"{dd}-{mm}-{yyyy}\"\n",
    "    else:\n",
    "        return \"Invalid date format\"\n",
    "\n",
    "date_input = input(\"Enter a date in yyyy-mm-dd format: \")\n",
    "\n",
    "converted_date = convert_date(date_input)\n",
    "print(f\"Converted date: {converted_date}\")"
   ]
  },
  {
   "cell_type": "code",
   "execution_count": null,
   "id": "a3404f53",
   "metadata": {},
   "outputs": [],
   "source": []
  },
  {
   "cell_type": "markdown",
   "id": "2e9906f4",
   "metadata": {},
   "source": [
    "##### 20. Create a function in python to find all decimal numbers with a precision of 1 or 2 in a string. The use of the re.compile() method is mandatory.\n",
    "\n",
    "Sample Text: \"01.12 0132.123 2.31875 145.8 3.01 27.25 0.25\"\n",
    "\n",
    "Expected Output: ['01.12', '145.8', '3.01', '27.25', '0.25']"
   ]
  },
  {
   "cell_type": "code",
   "execution_count": 29,
   "id": "2df900a4",
   "metadata": {},
   "outputs": [
    {
     "name": "stdout",
     "output_type": "stream",
     "text": [
      "['01.12', '145.8', '3.01', '27.25', '0.25']\n"
     ]
    }
   ],
   "source": [
    "def find_decimal_numbers(text):\n",
    "    pattern = re.compile(r'\\b\\d+\\.\\d{1,2}\\b')  # Regular expression pattern\n",
    "    decimal_numbers = pattern.findall(text)\n",
    "    return decimal_numbers\n",
    "\n",
    "sample_text = \"01.12 0132.123 2.31875 145.8 3.01 27.25 0.25\"\n",
    "decimal_numbers = find_decimal_numbers(sample_text)\n",
    "print(decimal_numbers)"
   ]
  },
  {
   "cell_type": "code",
   "execution_count": null,
   "id": "241f48cb",
   "metadata": {},
   "outputs": [],
   "source": []
  },
  {
   "cell_type": "markdown",
   "id": "deccfb42",
   "metadata": {},
   "source": [
    "##### 21. Write a Python program to separate and print the numbers and their position of a given string."
   ]
  },
  {
   "cell_type": "code",
   "execution_count": 30,
   "id": "3b5d513f",
   "metadata": {},
   "outputs": [
    {
     "name": "stdout",
     "output_type": "stream",
     "text": [
      "Number: 01.12, Position: 0\n",
      "Number: 0132.123, Position: 6\n",
      "Number: 2.31875, Position: 15\n",
      "Number: 145.8, Position: 23\n",
      "Number: 3.01, Position: 29\n",
      "Number: 27.25, Position: 34\n"
     ]
    }
   ],
   "source": [
    "def separate_numbers(text):\n",
    "    numbers = []\n",
    "    positions = []\n",
    "    current_number = \"\"\n",
    "    \n",
    "    for index, char in enumerate(text):\n",
    "        if char.isdigit() or char == '.':\n",
    "            current_number += char\n",
    "        elif current_number:\n",
    "            numbers.append(current_number)\n",
    "            positions.append(index - len(current_number))\n",
    "            current_number = \"\"\n",
    "    \n",
    "    return numbers, positions\n",
    "\n",
    "sample_text = \"01.12 0132.123 2.31875 145.8 3.01 27.25 0.25\"\n",
    "numbers, positions = separate_numbers(sample_text)\n",
    "\n",
    "for num, pos in zip(numbers, positions):\n",
    "    print(f\"Number: {num}, Position: {pos}\")"
   ]
  },
  {
   "cell_type": "code",
   "execution_count": null,
   "id": "38ca39c3",
   "metadata": {},
   "outputs": [],
   "source": []
  },
  {
   "cell_type": "markdown",
   "id": "d48e3776",
   "metadata": {},
   "source": [
    "##### 22. Write a regular expression in python program to extract maximum/largest numeric value from a string.\n",
    "\n",
    "Sample Text:  'My marks in each semester are: 947, 896, 926, 524, 734, 950, 642'\n",
    "\n",
    "Expected Output: 950\n"
   ]
  },
  {
   "cell_type": "code",
   "execution_count": 31,
   "id": "1c5de61b",
   "metadata": {},
   "outputs": [
    {
     "name": "stdout",
     "output_type": "stream",
     "text": [
      "The maximum number is: 950\n"
     ]
    }
   ],
   "source": [
    "def extract_max_number(text):\n",
    "    numbers = re.findall(r'\\d+', text)  # Find all numeric values in the text\n",
    "    if numbers:\n",
    "        max_number = max(map(int, numbers))\n",
    "        return max_number\n",
    "    else:\n",
    "        return None\n",
    "\n",
    "sample_text = \"My marks in each semester are: 947, 896, 926, 524, 734, 950, 642\"\n",
    "maximum_number = extract_max_number(sample_text)\n",
    "\n",
    "if maximum_number is not None:\n",
    "    print(f\"The maximum number is: {maximum_number}\")\n",
    "else:\n",
    "    print(\"No numeric values found in the text.\")"
   ]
  },
  {
   "cell_type": "code",
   "execution_count": null,
   "id": "d7a41ba8",
   "metadata": {},
   "outputs": [],
   "source": []
  },
  {
   "cell_type": "markdown",
   "id": "ceb67be2",
   "metadata": {},
   "source": [
    "##### 23. Create a function in python to insert spaces between words starting with capital letters.\n",
    "\n",
    "Sample Text: “RegularExpressionIsAnImportantTopicInPython\"\n",
    "\n",
    "Expected Output: Regular Expression Is An Important Topic In Python"
   ]
  },
  {
   "cell_type": "code",
   "execution_count": 32,
   "id": "d6f0ee80",
   "metadata": {},
   "outputs": [
    {
     "name": "stdout",
     "output_type": "stream",
     "text": [
      "Regular Expression Is An Important Topic In Python\n"
     ]
    }
   ],
   "source": [
    "def insert_spaces(text):\n",
    "    result = re.sub(r'(?<=[a-z])(?=[A-Z])', ' ', text)\n",
    "    return result\n",
    "\n",
    "sample_text = \"RegularExpressionIsAnImportantTopicInPython\"\n",
    "output_text = insert_spaces(sample_text)\n",
    "\n",
    "print(output_text)"
   ]
  },
  {
   "cell_type": "code",
   "execution_count": null,
   "id": "9f66f481",
   "metadata": {},
   "outputs": [],
   "source": []
  },
  {
   "cell_type": "markdown",
   "id": "0f32fda3",
   "metadata": {},
   "source": [
    "##### 24. Python regex to find sequences of one upper case letter followed by lower case letters"
   ]
  },
  {
   "cell_type": "code",
   "execution_count": 33,
   "id": "f66b75ce",
   "metadata": {},
   "outputs": [
    {
     "name": "stdout",
     "output_type": "stream",
     "text": [
      "['Regular', 'Expressions', 'Reg', 'Ex', 'Data']\n"
     ]
    }
   ],
   "source": [
    "example = \"Regular Expressions also known as regex or RegEx is a powerful tool for pattern matching and Data manipulation.\"\n",
    "\n",
    "pattern = re.compile(r'[A-Z][a-z]+')\n",
    "matches = pattern.findall(example)\n",
    "\n",
    "print(matches)"
   ]
  },
  {
   "cell_type": "code",
   "execution_count": null,
   "id": "ab92b7ff",
   "metadata": {},
   "outputs": [],
   "source": []
  },
  {
   "cell_type": "markdown",
   "id": "a20cff08",
   "metadata": {},
   "source": [
    "##### 25. Write a Python program to remove continuous duplicate words from Sentence using Regular Expression.\n"
   ]
  },
  {
   "cell_type": "code",
   "execution_count": 34,
   "id": "b9610d67",
   "metadata": {},
   "outputs": [
    {
     "name": "stdout",
     "output_type": "stream",
     "text": [
      "Hello world\n"
     ]
    }
   ],
   "source": [
    "def remove_duplicate(sentence):\n",
    "    pattern = re.compile(r'\\b(\\w+)\\s+\\1\\b', flags=re.IGNORECASE)  # Regular expression pattern\n",
    "    processed_string = pattern.sub(r'\\1', sentence)\n",
    "    return processed_string\n",
    "\n",
    "sample_text = \"Hello hello world world\"\n",
    "result = remove_duplicate(sample_text)\n",
    "print(result)"
   ]
  },
  {
   "cell_type": "code",
   "execution_count": null,
   "id": "4cfce171",
   "metadata": {},
   "outputs": [],
   "source": []
  },
  {
   "cell_type": "markdown",
   "id": "45528a5d",
   "metadata": {},
   "source": [
    "##### 26. Write a python program using RegEx to accept string ending with alphanumeric character."
   ]
  },
  {
   "cell_type": "code",
   "execution_count": 36,
   "id": "df5a22cc",
   "metadata": {},
   "outputs": [
    {
     "name": "stdout",
     "output_type": "stream",
     "text": [
      "'Hellomfld123' ends with an alphanumeric character.\n",
      "'Python3245' ends with an alphanumeric character.\n",
      "'shdbs123' ends with an alphanumeric character.\n"
     ]
    }
   ],
   "source": [
    "def ends_with_alphanumeric(text):\n",
    "    pattern = re.compile(r'\\w$') \n",
    "    return bool(pattern.search(text))\n",
    "\n",
    "test_strings = [\"Hellomfld123\", \"Python3245\", \"shdbs123\"]\n",
    "\n",
    "for string in test_strings:\n",
    "    if ends_with_alphanumeric(string):\n",
    "        print(f\"'{string}' ends with an alphanumeric character.\")\n"
   ]
  },
  {
   "cell_type": "code",
   "execution_count": null,
   "id": "7b36120a",
   "metadata": {},
   "outputs": [],
   "source": []
  },
  {
   "cell_type": "markdown",
   "id": "e65b7e39",
   "metadata": {},
   "source": [
    "##### 27. Write a python program using RegEx to extract the hashtags.\n",
    "Sample Text:  \"\"\"RT @kapil_kausik: #Doltiwal I mean #xyzabc is \"hurt\" by #Demonetization as the same has rendered USELESS <ed><U+00A0><U+00BD><ed><U+00B1><U+0089> \"acquired funds\" No wo\"\"\"\n",
    "Expected Output: ['#Doltiwal', '#xyzabc', '#Demonetization']"
   ]
  },
  {
   "cell_type": "code",
   "execution_count": 37,
   "id": "031f3ea3",
   "metadata": {},
   "outputs": [
    {
     "name": "stdout",
     "output_type": "stream",
     "text": [
      "['#Doltiwal', '#xyzabc', '#Demonetization']\n"
     ]
    }
   ],
   "source": [
    "def extract_hashtags(text):\n",
    "    pattern = re.compile(r'#\\w+')  # Regular expression pattern for hashtags\n",
    "    hashtags = pattern.findall(text)\n",
    "    return hashtags\n",
    "\n",
    "sample_text = \"\"\"RT @kapil_kausik: #Doltiwal I mean #xyzabc is \"hurt\" by #Demonetization as the same has rendered USELESS <ed><U+00A0><U+00BD><ed><U+00B1><U+0089> \"acquired funds\" No wo\"\"\"\n",
    "hashtags = extract_hashtags(sample_text)\n",
    "print(hashtags)"
   ]
  },
  {
   "cell_type": "code",
   "execution_count": null,
   "id": "14d1da2f",
   "metadata": {},
   "outputs": [],
   "source": []
  },
  {
   "cell_type": "markdown",
   "id": "0c433156",
   "metadata": {},
   "source": [
    "##### 28. Write a python program using RegEx to remove <U+..> like symbols\n",
    "\n",
    "Check the below sample text, there are strange symbols something of the sort <U+..> all over the place. You need to come up with a general Regex expression that will cover all such symbols.\n",
    "\n",
    "Sample Text: \"@Jags123456 Bharat band on 28??<ed><U+00A0><U+00BD><ed><U+00B8><U+0082>Those who  are protesting #demonetization  are all different party leaders\"\n",
    "\n",
    "Expected Output: @Jags123456 Bharat band on 28??<ed><ed>Those who  are protesting #demonetization  are all different party leaders\n"
   ]
  },
  {
   "cell_type": "code",
   "execution_count": 38,
   "id": "ee999a29",
   "metadata": {},
   "outputs": [
    {
     "name": "stdout",
     "output_type": "stream",
     "text": [
      "@Jags123456 Bharat band on 28??<ed><ed>Those who  are protesting #demonetization  are all different party leaders\n"
     ]
    }
   ],
   "source": [
    "def remove_unicode_symbols(text):\n",
    "    pattern = re.compile(r'<U\\+\\w+>')  # Regular expression pattern for <U+..> symbols\n",
    "    cleaned_text = pattern.sub('', text)\n",
    "    return cleaned_text\n",
    "\n",
    "sample_text = \"@Jags123456 Bharat band on 28??<ed><U+00A0><U+00BD><ed><U+00B8><U+0082>Those who  are protesting #demonetization  are all different party leaders\"\n",
    "cleaned_text = remove_unicode_symbols(sample_text)\n",
    "print(cleaned_text)"
   ]
  },
  {
   "cell_type": "code",
   "execution_count": null,
   "id": "56b09ef7",
   "metadata": {},
   "outputs": [],
   "source": []
  },
  {
   "cell_type": "markdown",
   "id": "94dbab62",
   "metadata": {},
   "source": [
    "##### 29. Write a python program to extract dates from the text stored in the text file.\n",
    "\n",
    "Sample Text: Ron was born on 12-09-1992 and he was admitted to school 15-12-1999.\n",
    "\n",
    "Note- Store this sample text in the file and then extract dates."
   ]
  },
  {
   "cell_type": "code",
   "execution_count": 39,
   "id": "d8f540f2",
   "metadata": {},
   "outputs": [
    {
     "name": "stdout",
     "output_type": "stream",
     "text": [
      "File 'sample_text.txt' has been created with the sample text.\n"
     ]
    }
   ],
   "source": [
    "sample_text = \"Ron was born on 12-09-1992 and he was admitted to school 15-12-1999.\"\n",
    "\n",
    "with open(\"sample_text.txt\", \"w\") as file:\n",
    "    file.write(sample_text)\n",
    "\n",
    "print(\"File 'sample_text.txt' has been created with the sample text.\")"
   ]
  },
  {
   "cell_type": "code",
   "execution_count": 40,
   "id": "ea9f955e",
   "metadata": {},
   "outputs": [
    {
     "name": "stdout",
     "output_type": "stream",
     "text": [
      "Extracted dates:\n",
      "12-09-1992\n",
      "15-12-1999\n"
     ]
    }
   ],
   "source": [
    "def extract_dates(text):\n",
    "    pattern = re.compile(r'\\d{2}-\\d{2}-\\d{4}')  # Regular expression pattern for dates\n",
    "    dates = pattern.findall(text)\n",
    "    return dates\n",
    "\n",
    "input_file = 'sample_text.txt'\n",
    "\n",
    "with open(input_file, 'r') as file:\n",
    "    content = file.read()\n",
    "\n",
    "dates = extract_dates(content)\n",
    "\n",
    "if dates:\n",
    "    print(\"Extracted dates:\")\n",
    "    for date in dates:\n",
    "        print(date)\n",
    "else:\n",
    "    print(\"No dates found.\")"
   ]
  },
  {
   "cell_type": "code",
   "execution_count": null,
   "id": "985f7002",
   "metadata": {},
   "outputs": [],
   "source": []
  },
  {
   "cell_type": "markdown",
   "id": "fa5c2591",
   "metadata": {},
   "source": [
    "##### 30. Create a function in python to remove all words from a string of length between 2 and 4.\n",
    "\n",
    "The use of the re.compile() method is mandatory.\n",
    "\n",
    "Sample Text: \"The following example creates an ArrayList with a capacity of 50 elements. 4 elements are then added to the ArrayList and the ArrayList is trimmed accordingly.\"\n",
    "\n",
    "Expected Output:  following example creates ArrayList a capacity elements. 4 elements added ArrayList ArrayList trimmed accordingly.\n"
   ]
  },
  {
   "cell_type": "code",
   "execution_count": 41,
   "id": "59dd9667",
   "metadata": {},
   "outputs": [
    {
     "name": "stdout",
     "output_type": "stream",
     "text": [
      " following example creates  ArrayList  a capacity   elements. 4 elements   added   ArrayList   ArrayList  trimmed accordingly.\n"
     ]
    }
   ],
   "source": [
    "def remove_words(text):\n",
    "    pattern = re.compile(r'\\b\\w{2,4}\\b')\n",
    "    cleaned_text = pattern.sub('', text)\n",
    "    return cleaned_text\n",
    "\n",
    "sample_text = \"The following example creates an ArrayList with a capacity of 50 elements. 4 elements are then added to the ArrayList and the ArrayList is trimmed accordingly.\"\n",
    "cleaned_text = remove_words(sample_text)\n",
    "print(cleaned_text)"
   ]
  },
  {
   "cell_type": "code",
   "execution_count": null,
   "id": "ae624578",
   "metadata": {},
   "outputs": [],
   "source": []
  },
  {
   "cell_type": "code",
   "execution_count": null,
   "id": "ecdb7be2",
   "metadata": {},
   "outputs": [],
   "source": []
  },
  {
   "cell_type": "code",
   "execution_count": null,
   "id": "b500ff2d",
   "metadata": {},
   "outputs": [],
   "source": []
  },
  {
   "cell_type": "code",
   "execution_count": null,
   "id": "00157ef8",
   "metadata": {},
   "outputs": [],
   "source": []
  },
  {
   "cell_type": "code",
   "execution_count": null,
   "id": "39292ac0",
   "metadata": {},
   "outputs": [],
   "source": []
  },
  {
   "cell_type": "code",
   "execution_count": null,
   "id": "5dee4310",
   "metadata": {},
   "outputs": [],
   "source": []
  },
  {
   "cell_type": "code",
   "execution_count": null,
   "id": "a339111d",
   "metadata": {},
   "outputs": [],
   "source": []
  },
  {
   "cell_type": "code",
   "execution_count": null,
   "id": "146e81b7",
   "metadata": {},
   "outputs": [],
   "source": []
  },
  {
   "cell_type": "code",
   "execution_count": null,
   "id": "9f115845",
   "metadata": {},
   "outputs": [],
   "source": []
  },
  {
   "cell_type": "code",
   "execution_count": null,
   "id": "10504c69",
   "metadata": {},
   "outputs": [],
   "source": []
  },
  {
   "cell_type": "code",
   "execution_count": null,
   "id": "4c5c3d18",
   "metadata": {},
   "outputs": [],
   "source": []
  },
  {
   "cell_type": "code",
   "execution_count": null,
   "id": "c9010794",
   "metadata": {},
   "outputs": [],
   "source": []
  },
  {
   "cell_type": "code",
   "execution_count": null,
   "id": "cfad1d2f",
   "metadata": {},
   "outputs": [],
   "source": []
  },
  {
   "cell_type": "code",
   "execution_count": null,
   "id": "681b646b",
   "metadata": {},
   "outputs": [],
   "source": []
  }
 ],
 "metadata": {
  "kernelspec": {
   "display_name": "Python 3 (ipykernel)",
   "language": "python",
   "name": "python3"
  },
  "language_info": {
   "codemirror_mode": {
    "name": "ipython",
    "version": 3
   },
   "file_extension": ".py",
   "mimetype": "text/x-python",
   "name": "python",
   "nbconvert_exporter": "python",
   "pygments_lexer": "ipython3",
   "version": "3.11.4"
  }
 },
 "nbformat": 4,
 "nbformat_minor": 5
}
