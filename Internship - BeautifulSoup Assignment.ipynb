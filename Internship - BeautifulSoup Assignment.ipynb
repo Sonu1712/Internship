{
 "cells": [
  {
   "cell_type": "code",
   "execution_count": null,
   "id": "1f343deb",
   "metadata": {},
   "outputs": [],
   "source": [
    "!pip install bs4\n",
    "!pip install requests"
   ]
  },
  {
   "cell_type": "code",
   "execution_count": null,
   "id": "58f3f527",
   "metadata": {},
   "outputs": [],
   "source": [
    "#importing required libraries\n",
    "from bs4 import BeautifulSoup\n",
    "import requests"
   ]
  },
  {
   "cell_type": "markdown",
   "id": "f55e21bb",
   "metadata": {},
   "source": [
    "#### 1) Write a python program to display all the header tags from wikipedia.org and make data frame.\n"
   ]
  },
  {
   "cell_type": "code",
   "execution_count": null,
   "id": "cd62d261",
   "metadata": {},
   "outputs": [],
   "source": [
    "page = requests.get('https://www.wikipedia.org/')\n",
    "page"
   ]
  },
  {
   "cell_type": "code",
   "execution_count": null,
   "id": "4f33c8a1",
   "metadata": {},
   "outputs": [],
   "source": [
    "soup = BeautifulSoup(page.content,\"html.parser\")"
   ]
  },
  {
   "cell_type": "code",
   "execution_count": null,
   "id": "72d9d0fa",
   "metadata": {},
   "outputs": [],
   "source": [
    "header = []\n",
    "\n",
    "for i in soup.find_all(['h1','h2','h3','h4','h5','h6']):\n",
    "    header.append(i.text)\n",
    "\n",
    "header"
   ]
  },
  {
   "cell_type": "code",
   "execution_count": null,
   "id": "27e216e0",
   "metadata": {},
   "outputs": [],
   "source": [
    "import pandas as pd\n",
    "\n",
    "df = pd.DataFrame({'Headers': header})\n",
    "\n",
    "print(df)"
   ]
  },
  {
   "cell_type": "markdown",
   "id": "a68cc4a6",
   "metadata": {},
   "source": [
    "#### 2) Write s python program to display list of respected former presidents of India(i.e. Name , Term ofoffice) from https://currentaffairs.adda247.com/list-of-presidents-of-india/ and make data frame."
   ]
  },
  {
   "cell_type": "code",
   "execution_count": null,
   "id": "d586f818",
   "metadata": {},
   "outputs": [],
   "source": [
    "page = requests.get('https://currentaffairs.adda247.com/list-of-presidents-of-india/')\n",
    "page"
   ]
  },
  {
   "cell_type": "code",
   "execution_count": null,
   "id": "befac76e",
   "metadata": {},
   "outputs": [],
   "source": [
    "soup = BeautifulSoup(page.content)\n",
    "soup"
   ]
  },
  {
   "cell_type": "code",
   "execution_count": null,
   "id": "c051f445",
   "metadata": {},
   "outputs": [],
   "source": [
    "Names = []\n",
    "for i in soup.find_all('td',width=\"220\"):\n",
    "    Names.append(i.text)\n",
    "    \n",
    "Names"
   ]
  },
  {
   "cell_type": "code",
   "execution_count": null,
   "id": "977da37b",
   "metadata": {},
   "outputs": [],
   "source": [
    "Start_Date = []\n",
    "for v in soup.find_all('td',width=\"180\"):\n",
    "    Start_Date.append(v.text)\n",
    "    \n",
    "Start_Date "
   ]
  },
  {
   "cell_type": "code",
   "execution_count": null,
   "id": "937ec7c1",
   "metadata": {},
   "outputs": [],
   "source": [
    "End_Date = []\n",
    "for v in soup.find_all('td',width=\"201\"):\n",
    "    End_Date.append(v.text)\n",
    "    \n",
    "End_Date  "
   ]
  },
  {
   "cell_type": "code",
   "execution_count": null,
   "id": "1b85fc92",
   "metadata": {},
   "outputs": [],
   "source": [
    "import pandas as pd\n",
    "df = pd.DataFrame({'President Names':Names,'Term Start date':Start_Date,'Term End Date':End_Date})\n",
    "df"
   ]
  },
  {
   "cell_type": "markdown",
   "id": "42b0751d",
   "metadata": {},
   "source": [
    "#### 3) Write a python program to scrape cricket rankings from icc-cricket.com. You have to scrape and make data frame"
   ]
  },
  {
   "cell_type": "markdown",
   "id": "d84f0325",
   "metadata": {},
   "source": [
    "##### a) Top 10 ODI teams in men’s cricket along with the records for matches, points and rating."
   ]
  },
  {
   "cell_type": "code",
   "execution_count": null,
   "id": "e6856727",
   "metadata": {},
   "outputs": [],
   "source": [
    "page = requests.get('https://www.icc-cricket.com/rankings/mens/team-rankings/odi')\n",
    "page"
   ]
  },
  {
   "cell_type": "code",
   "execution_count": null,
   "id": "045195d1",
   "metadata": {},
   "outputs": [],
   "source": [
    "soup = BeautifulSoup(page.content)\n",
    "soup"
   ]
  },
  {
   "cell_type": "code",
   "execution_count": null,
   "id": "179d1fce",
   "metadata": {},
   "outputs": [],
   "source": [
    "ODI_teams = []\n",
    "\n",
    "for i in soup.select('td',class_=\"u-hide-phablet\"):\n",
    "    ODI_teams.append(i.text)\n",
    "    \n",
    "ODI_teams"
   ]
  },
  {
   "cell_type": "code",
   "execution_count": null,
   "id": "71005ccd",
   "metadata": {},
   "outputs": [],
   "source": [
    "import pandas as pd\n",
    "df= pd.DataFrame({\"Country\":ODI_teams[1:47:5],'Points':ODI_teams[3:49:5],'Rating':ODI_teams[4:50:5]})"
   ]
  },
  {
   "cell_type": "code",
   "execution_count": null,
   "id": "7f576b2f",
   "metadata": {},
   "outputs": [],
   "source": [
    "df"
   ]
  },
  {
   "cell_type": "markdown",
   "id": "d0b4b8f1",
   "metadata": {},
   "source": [
    "##### b) Top 10 ODI Batsmen along with the records of their team andrating."
   ]
  },
  {
   "cell_type": "code",
   "execution_count": null,
   "id": "d47640f1",
   "metadata": {},
   "outputs": [],
   "source": [
    "page = requests.get('https://www.icc-cricket.com/rankings/mens/player-rankings/odi/batting')\n",
    "page"
   ]
  },
  {
   "cell_type": "code",
   "execution_count": null,
   "id": "a21780c4",
   "metadata": {},
   "outputs": [],
   "source": [
    "soup = BeautifulSoup(page.content)\n",
    "soup"
   ]
  },
  {
   "cell_type": "code",
   "execution_count": null,
   "id": "3abebea7",
   "metadata": {},
   "outputs": [],
   "source": [
    "first_name = []\n",
    "\n",
    "for i in soup.find_all('div',class_=\"rankings-block__banner--name-large\"):\n",
    "    first_name.append(i.text)\n",
    "    \n",
    "first_name"
   ]
  },
  {
   "cell_type": "code",
   "execution_count": null,
   "id": "94ba4332",
   "metadata": {},
   "outputs": [],
   "source": [
    "first_team = []\n",
    "for i in soup.find_all('div',class_=\"rankings-block__banner--nationality\"):\n",
    "    first_team.append(i.text)\n",
    "    \n",
    "first_team"
   ]
  },
  {
   "cell_type": "code",
   "execution_count": null,
   "id": "bceb2deb",
   "metadata": {},
   "outputs": [],
   "source": [
    "first_rating = []\n",
    "\n",
    "for i in soup.find_all('div',class_=\"rankings-block__banner--rating\"):\n",
    "    first_rating.append(i.text)\n",
    "    \n",
    "first_rating"
   ]
  },
  {
   "cell_type": "code",
   "execution_count": null,
   "id": "d25e5340",
   "metadata": {},
   "outputs": [],
   "source": [
    "Name = []\n",
    "\n",
    "for i in soup.find_all('td',class_=\"table-body__cell rankings-table__name name\"):\n",
    "    Name.append(i.text)\n",
    "    \n",
    "Name[:9]"
   ]
  },
  {
   "cell_type": "code",
   "execution_count": null,
   "id": "29a7059d",
   "metadata": {},
   "outputs": [],
   "source": [
    "team = []\n",
    "\n",
    "for i in soup.find_all('td',class_=\"table-body__cell nationality-logo rankings-table__team\"):\n",
    "    team.append(i.text)\n",
    "    \n",
    "team[:9]"
   ]
  },
  {
   "cell_type": "code",
   "execution_count": null,
   "id": "a65b3cc6",
   "metadata": {},
   "outputs": [],
   "source": [
    "rating = [] \n",
    "\n",
    "for i in soup.find_all('td',class_=\"table-body__cell rating\"):\n",
    "    rating.append(i.text)\n",
    "    \n",
    "rating[:9]"
   ]
  },
  {
   "cell_type": "code",
   "execution_count": null,
   "id": "bb2dd76c",
   "metadata": {},
   "outputs": [],
   "source": [
    "name = first_name + Name[:9]\n",
    "\n",
    "name"
   ]
  },
  {
   "cell_type": "code",
   "execution_count": null,
   "id": "7f66039b",
   "metadata": {},
   "outputs": [],
   "source": [
    "team= first_team + team[:9]\n",
    "team"
   ]
  },
  {
   "cell_type": "code",
   "execution_count": null,
   "id": "d440e2d7",
   "metadata": {},
   "outputs": [],
   "source": [
    "Rating = first_rating + rating[:9]\n",
    "Rating"
   ]
  },
  {
   "cell_type": "code",
   "execution_count": null,
   "id": "81a4afd4",
   "metadata": {},
   "outputs": [],
   "source": [
    "import pandas as pd\n",
    "df = pd.DataFrame({\"Name\":name,\"Team\":team,\"Rating\":Rating})\n",
    "df"
   ]
  },
  {
   "cell_type": "markdown",
   "id": "8cf7e5c1",
   "metadata": {},
   "source": [
    "##### c) Top 10 ODI bowlers along with the records of their team andrating."
   ]
  },
  {
   "cell_type": "code",
   "execution_count": null,
   "id": "3eb80765",
   "metadata": {},
   "outputs": [],
   "source": [
    "page = requests.get('https://www.icc-cricket.com/rankings/mens/player-rankings/odi/bowling')\n",
    "page"
   ]
  },
  {
   "cell_type": "code",
   "execution_count": null,
   "id": "5b619b75",
   "metadata": {},
   "outputs": [],
   "source": [
    "soup = BeautifulSoup(page.content)\n",
    "soup"
   ]
  },
  {
   "cell_type": "code",
   "execution_count": null,
   "id": "6ff9a0c8",
   "metadata": {},
   "outputs": [],
   "source": [
    "first_name = []\n",
    "\n",
    "for i in soup.find_all('div',class_=\"rankings-block__banner--name-large\"):\n",
    "    first_name.append(i.text)\n",
    "    \n",
    "first_name"
   ]
  },
  {
   "cell_type": "code",
   "execution_count": null,
   "id": "aeb5cd01",
   "metadata": {},
   "outputs": [],
   "source": [
    "first_team = []\n",
    "for i in soup.find_all('div',class_=\"rankings-block__banner--nationality\"):\n",
    "    first_team.append(i.text)\n",
    "    \n",
    "first_team"
   ]
  },
  {
   "cell_type": "code",
   "execution_count": null,
   "id": "27eb1d1d",
   "metadata": {},
   "outputs": [],
   "source": [
    "first_rating = []\n",
    "\n",
    "for i in soup.find_all('div',class_=\"rankings-block__banner--rating\"):\n",
    "    first_rating.append(i.text)\n",
    "    \n",
    "first_rating"
   ]
  },
  {
   "cell_type": "code",
   "execution_count": null,
   "id": "072e7027",
   "metadata": {},
   "outputs": [],
   "source": [
    "Name = []\n",
    "\n",
    "for i in soup.find_all('td',class_=\"table-body__cell rankings-table__name name\"):\n",
    "    Name.append(i.text)\n",
    "    \n",
    "Name[:9]"
   ]
  },
  {
   "cell_type": "code",
   "execution_count": null,
   "id": "d4c8d5fc",
   "metadata": {},
   "outputs": [],
   "source": [
    "team = []\n",
    "\n",
    "for i in soup.find_all('td',class_=\"table-body__cell nationality-logo rankings-table__team\"):\n",
    "    team.append(i.text)\n",
    "    \n",
    "team[:9]"
   ]
  },
  {
   "cell_type": "code",
   "execution_count": null,
   "id": "07be166e",
   "metadata": {},
   "outputs": [],
   "source": [
    "rating = [] \n",
    "\n",
    "for i in soup.find_all('td',class_=\"table-body__cell rating\"):\n",
    "    rating.append(i.text)\n",
    "    \n",
    "rating[:9]"
   ]
  },
  {
   "cell_type": "code",
   "execution_count": null,
   "id": "7c53da02",
   "metadata": {},
   "outputs": [],
   "source": [
    "name = first_name + Name[:9]\n",
    "\n",
    "name"
   ]
  },
  {
   "cell_type": "code",
   "execution_count": null,
   "id": "1a0bef20",
   "metadata": {},
   "outputs": [],
   "source": [
    "team= first_team + team[:9]\n",
    "team"
   ]
  },
  {
   "cell_type": "code",
   "execution_count": null,
   "id": "86bc8fe0",
   "metadata": {},
   "outputs": [],
   "source": [
    "Rating = first_rating + rating[:9]\n"
   ]
  },
  {
   "cell_type": "code",
   "execution_count": null,
   "id": "df019c10",
   "metadata": {},
   "outputs": [],
   "source": [
    "import pandas as pd\n",
    "df= pd.DataFrame({\"Name\":name,\"Team\":team,\"Rating\":Rating})\n",
    "df"
   ]
  },
  {
   "cell_type": "code",
   "execution_count": null,
   "id": "25b31e06",
   "metadata": {},
   "outputs": [],
   "source": []
  },
  {
   "cell_type": "code",
   "execution_count": null,
   "id": "608cee70",
   "metadata": {},
   "outputs": [],
   "source": []
  },
  {
   "cell_type": "code",
   "execution_count": null,
   "id": "1d7ae573",
   "metadata": {},
   "outputs": [],
   "source": []
  },
  {
   "cell_type": "code",
   "execution_count": null,
   "id": "9ffb072e",
   "metadata": {},
   "outputs": [],
   "source": []
  },
  {
   "cell_type": "markdown",
   "id": "3510d589",
   "metadata": {},
   "source": [
    "#### 4) Write a python program to scrape cricket rankings from icc-cricket.com. You have to scrape and make data frame\u0002\n"
   ]
  },
  {
   "cell_type": "markdown",
   "id": "c2a445fd",
   "metadata": {},
   "source": [
    "##### a) Top 10 ODI teams in women’s cricket along with the records for matches, points and rating"
   ]
  },
  {
   "cell_type": "code",
   "execution_count": null,
   "id": "dcb6e67b",
   "metadata": {},
   "outputs": [],
   "source": [
    "page = requests.get('https://www.icc-cricket.com/rankings/womens/team-rankings/odi')\n",
    "page"
   ]
  },
  {
   "cell_type": "code",
   "execution_count": null,
   "id": "4a7d1bd3",
   "metadata": {},
   "outputs": [],
   "source": [
    "soup = BeautifulSoup(page.content)\n",
    "soup"
   ]
  },
  {
   "cell_type": "code",
   "execution_count": null,
   "id": "b1c78962",
   "metadata": {},
   "outputs": [],
   "source": [
    "ODI_Womens = []\n",
    "\n",
    "for i in soup.find_all('span',class_=\"u-hide-phablet\"):\n",
    "    ODI_Womens.append(i.text)\n",
    "    \n",
    "ODI_Womens"
   ]
  },
  {
   "cell_type": "code",
   "execution_count": null,
   "id": "5febd792",
   "metadata": {},
   "outputs": [],
   "source": [
    "Points = []\n",
    "\n",
    "for i in soup.find_all('td',class_=\"table-body__cell u-center-text\"):\n",
    "    Points.append(i.text)\n",
    "    \n",
    "Points"
   ]
  },
  {
   "cell_type": "code",
   "execution_count": null,
   "id": "32184e04",
   "metadata": {},
   "outputs": [],
   "source": [
    "Rating= []\n",
    "for i in soup.find_all('td',class_=\"table-body__cell u-text-right rating\"):\n",
    "    Rating.append(i.text)\n",
    "    \n",
    "Rating"
   ]
  },
  {
   "cell_type": "code",
   "execution_count": null,
   "id": "ffd2bfd4",
   "metadata": {},
   "outputs": [],
   "source": [
    "import pandas as pd\n",
    "df = pd.DataFrame({\"Matches\":ODI_Womens[:10],\"Points\":Points[1:21:2],\"Rating\":Rating[:10]})"
   ]
  },
  {
   "cell_type": "code",
   "execution_count": null,
   "id": "4bb7cb2e",
   "metadata": {},
   "outputs": [],
   "source": [
    "df"
   ]
  },
  {
   "cell_type": "markdown",
   "id": "ecfc6259",
   "metadata": {},
   "source": [
    "##### b) Top 10 women’s ODI Batting players along with the records of their team and rating.\n"
   ]
  },
  {
   "cell_type": "code",
   "execution_count": null,
   "id": "f326a926",
   "metadata": {},
   "outputs": [],
   "source": [
    "page = requests.get('https://www.icc-cricket.com/rankings/womens/player-rankings/odi/batting')\n",
    "page"
   ]
  },
  {
   "cell_type": "code",
   "execution_count": null,
   "id": "c148f6fb",
   "metadata": {},
   "outputs": [],
   "source": [
    "soup = BeautifulSoup(page.content)\n",
    "soup"
   ]
  },
  {
   "cell_type": "code",
   "execution_count": null,
   "id": "43e4a030",
   "metadata": {},
   "outputs": [],
   "source": [
    "first_name = []\n",
    "\n",
    "for i in soup.find_all('div',class_=\"rankings-block__banner--name-large\"):\n",
    "    first_name.append(i.text)\n",
    "    \n",
    "first_name"
   ]
  },
  {
   "cell_type": "code",
   "execution_count": null,
   "id": "e4c43c90",
   "metadata": {},
   "outputs": [],
   "source": [
    "first_team = []\n",
    "for i in soup.find_all('div',class_=\"rankings-block__banner--nationality\"):\n",
    "    first_team.append(i.text)\n",
    "    \n",
    "first_team"
   ]
  },
  {
   "cell_type": "code",
   "execution_count": null,
   "id": "2a02a447",
   "metadata": {},
   "outputs": [],
   "source": [
    "first_rating = []\n",
    "\n",
    "for i in soup.find_all('div',class_=\"rankings-block__banner--rating\"):\n",
    "    first_rating.append(i.text)\n",
    "    \n",
    "first_rating"
   ]
  },
  {
   "cell_type": "code",
   "execution_count": null,
   "id": "2874fab6",
   "metadata": {},
   "outputs": [],
   "source": [
    "Name = []\n",
    "\n",
    "for i in soup.find_all('td',class_=\"table-body__cell rankings-table__name name\"):\n",
    "    Name.append(i.text)\n",
    "    \n",
    "Name[:8]"
   ]
  },
  {
   "cell_type": "code",
   "execution_count": null,
   "id": "635496d5",
   "metadata": {},
   "outputs": [],
   "source": [
    "team = []\n",
    "\n",
    "for i in soup.find_all('td',class_=\"table-body__cell nationality-logo rankings-table__team\"):\n",
    "    team.append(i.text)\n",
    "    \n",
    "team[:8]"
   ]
  },
  {
   "cell_type": "code",
   "execution_count": null,
   "id": "bde43e0f",
   "metadata": {},
   "outputs": [],
   "source": [
    "rating = [] \n",
    "\n",
    "for i in soup.find_all('td',class_=\"table-body__cell rating\"):\n",
    "    rating.append(i.text)\n",
    "    \n",
    "rating[:8]"
   ]
  },
  {
   "cell_type": "code",
   "execution_count": null,
   "id": "7ac41d10",
   "metadata": {},
   "outputs": [],
   "source": [
    "name = first_name + Name[:9]"
   ]
  },
  {
   "cell_type": "code",
   "execution_count": null,
   "id": "5a6aa05d",
   "metadata": {},
   "outputs": [],
   "source": [
    "team= first_team + team[:9]"
   ]
  },
  {
   "cell_type": "code",
   "execution_count": null,
   "id": "8a665f57",
   "metadata": {},
   "outputs": [],
   "source": [
    "Rating = first_rating + rating[:9]"
   ]
  },
  {
   "cell_type": "code",
   "execution_count": null,
   "id": "72639f3f",
   "metadata": {},
   "outputs": [],
   "source": [
    "import pandas as pd\n",
    "df = pd.DataFrame({\"Name\":name,\"Team\":team,\"Rating\":Rating})\n",
    "df"
   ]
  },
  {
   "cell_type": "markdown",
   "id": "0ac5d754",
   "metadata": {},
   "source": [
    "##### c) Top 10 women’s ODI all-rounder along with the records of their team and rating."
   ]
  },
  {
   "cell_type": "code",
   "execution_count": null,
   "id": "8d34ebac",
   "metadata": {},
   "outputs": [],
   "source": [
    "page = requests.get('https://www.icc-cricket.com/rankings/womens/player-rankings/odi/all-rounder')\n",
    "page"
   ]
  },
  {
   "cell_type": "code",
   "execution_count": null,
   "id": "fff1dca3",
   "metadata": {},
   "outputs": [],
   "source": [
    "soup = BeautifulSoup(page.content)\n",
    "soup"
   ]
  },
  {
   "cell_type": "code",
   "execution_count": null,
   "id": "def1f1c3",
   "metadata": {},
   "outputs": [],
   "source": [
    "first_name = []\n",
    "\n",
    "for i in soup.find_all('div',class_=\"rankings-block__banner--name-large\"):\n",
    "    first_name.append(i.text)\n",
    "    \n",
    "first_name"
   ]
  },
  {
   "cell_type": "code",
   "execution_count": null,
   "id": "de233f63",
   "metadata": {},
   "outputs": [],
   "source": [
    "first_team = []\n",
    "for i in soup.find_all('div',class_=\"rankings-block__banner--nationality\"):\n",
    "    first_team.append(i.text)\n",
    "    \n",
    "first_team"
   ]
  },
  {
   "cell_type": "code",
   "execution_count": null,
   "id": "32de7add",
   "metadata": {},
   "outputs": [],
   "source": [
    "first_rating = []\n",
    "\n",
    "for i in soup.find_all('div',class_=\"rankings-block__banner--rating\"):\n",
    "    first_rating.append(i.text)\n",
    "    \n",
    "first_rating"
   ]
  },
  {
   "cell_type": "code",
   "execution_count": null,
   "id": "47b34823",
   "metadata": {},
   "outputs": [],
   "source": [
    "Name = []\n",
    "\n",
    "for i in soup.find_all('td',class_=\"table-body__cell rankings-table__name name\"):\n",
    "    Name.append(i.text)\n",
    "    \n",
    "Name[:9]"
   ]
  },
  {
   "cell_type": "code",
   "execution_count": null,
   "id": "92f49ba0",
   "metadata": {},
   "outputs": [],
   "source": [
    "team = []\n",
    "\n",
    "for i in soup.find_all('td',class_=\"table-body__cell nationality-logo rankings-table__team\"):\n",
    "    team.append(i.text)\n",
    "    \n",
    "team[:9]"
   ]
  },
  {
   "cell_type": "code",
   "execution_count": null,
   "id": "251a7010",
   "metadata": {},
   "outputs": [],
   "source": [
    "rating = [] \n",
    "\n",
    "for i in soup.find_all('td',class_=\"table-body__cell rating\"):\n",
    "    rating.append(i.text)\n",
    "    \n",
    "rating[:9]"
   ]
  },
  {
   "cell_type": "code",
   "execution_count": null,
   "id": "38bd1583",
   "metadata": {},
   "outputs": [],
   "source": [
    "name = first_name + Name[:9]\n",
    "\n",
    "name"
   ]
  },
  {
   "cell_type": "code",
   "execution_count": null,
   "id": "95838086",
   "metadata": {},
   "outputs": [],
   "source": [
    "team= first_team + team[:9]\n",
    "team"
   ]
  },
  {
   "cell_type": "code",
   "execution_count": null,
   "id": "49a66127",
   "metadata": {},
   "outputs": [],
   "source": [
    "Rating = first_rating + rating[:9]\n",
    "Rating"
   ]
  },
  {
   "cell_type": "code",
   "execution_count": null,
   "id": "7df6b125",
   "metadata": {},
   "outputs": [],
   "source": [
    "import pandas as pd\n",
    "df = pd.DataFrame({\"Name\":name,\"Team\":team,\"Rating\":Rating})\n",
    "df"
   ]
  },
  {
   "cell_type": "code",
   "execution_count": null,
   "id": "a14c47d2",
   "metadata": {},
   "outputs": [],
   "source": []
  },
  {
   "cell_type": "markdown",
   "id": "7c4dc06b",
   "metadata": {},
   "source": [
    "#### 5) Write a python program to scrape mentioned news details from https://www.cnbc.com/world/?region=world and make data frame\n",
    "i) Headline ii) Time iii) News Link"
   ]
  },
  {
   "cell_type": "code",
   "execution_count": null,
   "id": "81f63f2d",
   "metadata": {},
   "outputs": [],
   "source": [
    "page = requests.get('https://www.cnbc.com/world/?region=world')\n",
    "page"
   ]
  },
  {
   "cell_type": "code",
   "execution_count": null,
   "id": "bc59b8d0",
   "metadata": {},
   "outputs": [],
   "source": [
    "soup = BeautifulSoup(page.content)\n",
    "soup"
   ]
  },
  {
   "cell_type": "code",
   "execution_count": null,
   "id": "d04877cf",
   "metadata": {},
   "outputs": [],
   "source": [
    "Headline = []\n",
    "\n",
    "for i in soup.find_all('a',class_=\"LatestNews-headline\"):\n",
    "    Headline.append(i.text)\n",
    "    \n",
    "Headline"
   ]
  },
  {
   "cell_type": "code",
   "execution_count": null,
   "id": "8ae4298c",
   "metadata": {},
   "outputs": [],
   "source": [
    "Time = []\n",
    "\n",
    "for i in soup.find_all('span',class_=\"LatestNews-wrapper\"):\n",
    "    Time.append(i.text)\n",
    "    \n",
    "Time"
   ]
  },
  {
   "cell_type": "code",
   "execution_count": null,
   "id": "1fcbcf73",
   "metadata": {},
   "outputs": [],
   "source": [
    "New_link=[]\n",
    "\n",
    "for i in soup.find_all('a'):\n",
    "    New_link.append(i.text)\n",
    "    \n",
    "New_link"
   ]
  },
  {
   "cell_type": "code",
   "execution_count": null,
   "id": "eb6a3d90",
   "metadata": {},
   "outputs": [],
   "source": [
    "print(len(Headline),len(Time))"
   ]
  },
  {
   "cell_type": "code",
   "execution_count": null,
   "id": "6c5d0d2b",
   "metadata": {},
   "outputs": [],
   "source": [
    "import pandas as pd\n",
    "df= pd.DataFrame({'Headlines': Headline,'Time':Time})"
   ]
  },
  {
   "cell_type": "code",
   "execution_count": null,
   "id": "6a058e13",
   "metadata": {},
   "outputs": [],
   "source": [
    "df"
   ]
  },
  {
   "cell_type": "code",
   "execution_count": null,
   "id": "e55dbec4",
   "metadata": {},
   "outputs": [],
   "source": []
  },
  {
   "cell_type": "markdown",
   "id": "991d8c5c",
   "metadata": {},
   "source": [
    "#### 6) Write a python program to scrape the details of most downloaded articles from AI in last 90\n",
    "days. https://www.theguardian.com/news/datablog/2012/aug/09/best-selling-books-all-time-fifty-shades-grey-compare Scrape below mentioned details and make data frame\n",
    "\n",
    "i) Paper Title ii) Authors iii) Published Date iv) Paper URL"
   ]
  },
  {
   "cell_type": "code",
   "execution_count": null,
   "id": "2a6d2e80",
   "metadata": {},
   "outputs": [],
   "source": [
    "page = requests.get('https://www.theguardian.com/news/datablog/2012/aug/09/best-selling-books-all-time-fifty-shades-grey-compare')\n",
    "page"
   ]
  },
  {
   "cell_type": "code",
   "execution_count": null,
   "id": "b26a6fa3",
   "metadata": {},
   "outputs": [],
   "source": [
    "soup = BeautifulSoup(page.content)\n",
    "soup"
   ]
  },
  {
   "cell_type": "code",
   "execution_count": null,
   "id": "d293990e",
   "metadata": {},
   "outputs": [],
   "source": [
    "title = []\n",
    "\n",
    "for i in soup.find_all('td'):\n",
    "    title.append(i.text)\n",
    "    \n",
    "title"
   ]
  },
  {
   "cell_type": "code",
   "execution_count": null,
   "id": "4b913344",
   "metadata": {},
   "outputs": [],
   "source": [
    "import pandas as pd\n",
    "df= pd.DataFrame({'Books':title[2::6],'Authors':title[3::6],'Volume Sales':title[4::6],'Genre':title[6::6]})\n",
    "df"
   ]
  },
  {
   "cell_type": "code",
   "execution_count": null,
   "id": "db03613e",
   "metadata": {},
   "outputs": [],
   "source": []
  },
  {
   "cell_type": "code",
   "execution_count": null,
   "id": "b9c8cd4b",
   "metadata": {},
   "outputs": [],
   "source": []
  },
  {
   "cell_type": "markdown",
   "id": "ae66aa3f",
   "metadata": {},
   "source": [
    "#### 7) Write a python program to scrape mentioned details from dineout.co.in and make data frame\n",
    "i) Restaurant name ii) Cuisine iii) Location iv) Ratings v) Image URL"
   ]
  },
  {
   "cell_type": "code",
   "execution_count": null,
   "id": "6b58252b",
   "metadata": {},
   "outputs": [],
   "source": [
    "page = requests.get('https://www.dineout.co.in/hyderabad?loc=Hyderabad')"
   ]
  },
  {
   "cell_type": "code",
   "execution_count": null,
   "id": "d830811c",
   "metadata": {},
   "outputs": [],
   "source": [
    "page"
   ]
  },
  {
   "cell_type": "code",
   "execution_count": null,
   "id": "06241a48",
   "metadata": {},
   "outputs": [],
   "source": [
    "soup = BeautifulSoup(page.content)\n",
    "soup"
   ]
  },
  {
   "cell_type": "code",
   "execution_count": null,
   "id": "477fa3cf",
   "metadata": {},
   "outputs": [],
   "source": [
    "Restaurant=[]\n",
    "\n",
    "for i in soup.find_all('div',class_=\"restnt-info cursor\"):\n",
    "    Restaurant.append(i.text)\n",
    "    \n",
    "Restaurant"
   ]
  },
  {
   "cell_type": "code",
   "execution_count": null,
   "id": "3e0a63fb",
   "metadata": {},
   "outputs": [],
   "source": [
    "cusine = []\n",
    "\n",
    "for n in soup.find_all('span',class_=\"double-line-ellipsis\"):\n",
    "    cusine.append(n.text)\n",
    "    \n",
    "cusine"
   ]
  },
  {
   "cell_type": "code",
   "execution_count": null,
   "id": "32782bb5",
   "metadata": {},
   "outputs": [],
   "source": [
    "location =[]\n",
    "\n",
    "for i in soup.find_all('div',class_=\"restnt-loc ellipsis\"):\n",
    "    location.append(i.text)\n",
    "    \n",
    "location"
   ]
  },
  {
   "cell_type": "code",
   "execution_count": null,
   "id": "34137e00",
   "metadata": {},
   "outputs": [],
   "source": [
    "Ratings = []\n",
    "\n",
    "for v in soup.find_all('div',class_=\"restnt-rating rating-4\"):\n",
    "    Ratings.append(v.text)\n",
    "    \n",
    "Ratings"
   ]
  },
  {
   "cell_type": "code",
   "execution_count": null,
   "id": "c3390bc8",
   "metadata": {},
   "outputs": [],
   "source": [
    "Img_url = []\n",
    "\n",
    "for v in soup.find_all('img',class_=\"no-img\"):\n",
    "    Img_url.append(v['data-src'])\n",
    "    \n",
    "Img_url"
   ]
  },
  {
   "cell_type": "code",
   "execution_count": null,
   "id": "536aeed5",
   "metadata": {},
   "outputs": [],
   "source": [
    "print(len(Restaurant),len(cusine),len(location),len(Ratings),len(Img_url))"
   ]
  },
  {
   "cell_type": "code",
   "execution_count": null,
   "id": "6edd93b4",
   "metadata": {},
   "outputs": [],
   "source": [
    "import pandas as pd\n",
    "df = pd.DataFrame({'Restaurant name':Restaurant,'Cusine':cusine,'Location':location,'Ratings':Ratings,'Img_url':Img_url})\n",
    "df"
   ]
  },
  {
   "cell_type": "code",
   "execution_count": null,
   "id": "db098a5c",
   "metadata": {},
   "outputs": [],
   "source": []
  },
  {
   "cell_type": "code",
   "execution_count": null,
   "id": "5defafc6",
   "metadata": {},
   "outputs": [],
   "source": []
  }
 ],
 "metadata": {
  "kernelspec": {
   "display_name": "Python 3 (ipykernel)",
   "language": "python",
   "name": "python3"
  },
  "language_info": {
   "codemirror_mode": {
    "name": "ipython",
    "version": 3
   },
   "file_extension": ".py",
   "mimetype": "text/x-python",
   "name": "python",
   "nbconvert_exporter": "python",
   "pygments_lexer": "ipython3",
   "version": "3.11.4"
  }
 },
 "nbformat": 4,
 "nbformat_minor": 5
}
