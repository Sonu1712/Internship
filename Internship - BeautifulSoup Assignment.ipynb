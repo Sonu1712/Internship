{
 "cells": [
  {
   "cell_type": "code",
   "execution_count": 94,
   "id": "1300d98f",
   "metadata": {},
   "outputs": [
    {
     "name": "stdout",
     "output_type": "stream",
     "text": [
      "Requirement already satisfied: bs4 in c:\\users\\rathods\\anaconda3\\lib\\site-packages (0.0.1)\n",
      "Requirement already satisfied: beautifulsoup4 in c:\\users\\rathods\\anaconda3\\lib\\site-packages (from bs4) (4.12.2)\n",
      "Requirement already satisfied: soupsieve>1.2 in c:\\users\\rathods\\anaconda3\\lib\\site-packages (from beautifulsoup4->bs4) (2.4)\n",
      "Requirement already satisfied: requests in c:\\users\\rathods\\anaconda3\\lib\\site-packages (2.31.0)\n",
      "Requirement already satisfied: charset-normalizer<4,>=2 in c:\\users\\rathods\\anaconda3\\lib\\site-packages (from requests) (2.0.4)\n",
      "Requirement already satisfied: idna<4,>=2.5 in c:\\users\\rathods\\anaconda3\\lib\\site-packages (from requests) (3.4)\n",
      "Requirement already satisfied: urllib3<3,>=1.21.1 in c:\\users\\rathods\\anaconda3\\lib\\site-packages (from requests) (1.26.16)\n",
      "Requirement already satisfied: certifi>=2017.4.17 in c:\\users\\rathods\\anaconda3\\lib\\site-packages (from requests) (2023.7.22)\n"
     ]
    }
   ],
   "source": [
    "!pip install bs4\n",
    "!pip install requests"
   ]
  },
  {
   "cell_type": "code",
   "execution_count": 96,
   "id": "d2820a4d",
   "metadata": {},
   "outputs": [],
   "source": [
    "#importing required libraries\n",
    "from bs4 import BeautifulSoup\n",
    "import requests"
   ]
  },
  {
   "cell_type": "markdown",
   "id": "81fc0f05",
   "metadata": {},
   "source": [
    "#### 1) Write a python program to display all the header tags from wikipedia.org and make data frame.\n"
   ]
  },
  {
   "cell_type": "code",
   "execution_count": 97,
   "id": "3962ffec",
   "metadata": {},
   "outputs": [
    {
     "data": {
      "text/plain": [
       "<Response [200]>"
      ]
     },
     "execution_count": 97,
     "metadata": {},
     "output_type": "execute_result"
    }
   ],
   "source": [
    "page = requests.get('https://www.wikipedia.org/')\n",
    "page"
   ]
  },
  {
   "cell_type": "code",
   "execution_count": 98,
   "id": "bfa5a483",
   "metadata": {},
   "outputs": [],
   "source": [
    "soup = BeautifulSoup(page.content,\"html.parser\")"
   ]
  },
  {
   "cell_type": "code",
   "execution_count": 99,
   "id": "fc0572f1",
   "metadata": {},
   "outputs": [
    {
     "data": {
      "text/plain": [
       "['\\n\\nWikipedia\\n\\nThe Free Encyclopedia\\n',\n",
       " '\\n\\n\\n\\n1\\xa0000\\xa0000+\\n\\n\\narticles\\n\\n\\n\\n',\n",
       " '\\n\\n\\n\\n100\\xa0000+\\n\\n\\narticles\\n\\n\\n\\n',\n",
       " '\\n\\n\\n\\n10\\xa0000+\\n\\n\\narticles\\n\\n\\n\\n',\n",
       " '\\n\\n\\n\\n1\\xa0000+\\n\\n\\narticles\\n\\n\\n\\n',\n",
       " '\\n\\n\\n\\n100+\\n\\n\\narticles\\n\\n\\n\\n']"
      ]
     },
     "execution_count": 99,
     "metadata": {},
     "output_type": "execute_result"
    }
   ],
   "source": [
    "header = []\n",
    "\n",
    "for i in soup.find_all(['h1','h2','h3','h4','h5','h6']):\n",
    "    header.append(i.text)\n",
    "\n",
    "header"
   ]
  },
  {
   "cell_type": "code",
   "execution_count": 100,
   "id": "45f51922",
   "metadata": {},
   "outputs": [
    {
     "name": "stdout",
     "output_type": "stream",
     "text": [
      "                                    Headers\n",
      "0  \\n\\nWikipedia\\n\\nThe Free Encyclopedia\\n\n",
      "1  \\n\\n\\n\\n1 000 000+\\n\\n\\narticles\\n\\n\\n\\n\n",
      "2    \\n\\n\\n\\n100 000+\\n\\n\\narticles\\n\\n\\n\\n\n",
      "3     \\n\\n\\n\\n10 000+\\n\\n\\narticles\\n\\n\\n\\n\n",
      "4      \\n\\n\\n\\n1 000+\\n\\n\\narticles\\n\\n\\n\\n\n",
      "5        \\n\\n\\n\\n100+\\n\\n\\narticles\\n\\n\\n\\n\n"
     ]
    }
   ],
   "source": [
    "import pandas as pd\n",
    "\n",
    "df = pd.DataFrame({'Headers': header})\n",
    "\n",
    "print(df)"
   ]
  },
  {
   "cell_type": "markdown",
   "id": "8286b628",
   "metadata": {},
   "source": [
    "#### 2) Write s python program to display list of respected former presidents of India(i.e. Name , Term ofoffice) from https://currentaffairs.adda247.com/list-of-presidents-of-india/ and make data frame."
   ]
  },
  {
   "cell_type": "code",
   "execution_count": 101,
   "id": "e2f390eb",
   "metadata": {},
   "outputs": [
    {
     "data": {
      "text/plain": [
       "<Response [200]>"
      ]
     },
     "execution_count": 101,
     "metadata": {},
     "output_type": "execute_result"
    }
   ],
   "source": [
    "page = requests.get('https://currentaffairs.adda247.com/list-of-presidents-of-india/')\n",
    "page"
   ]
  },
  {
   "cell_type": "code",
   "execution_count": null,
   "id": "9d943950",
   "metadata": {},
   "outputs": [],
   "source": [
    "soup = BeautifulSoup(page.content)\n",
    "soup"
   ]
  },
  {
   "cell_type": "code",
   "execution_count": 103,
   "id": "42b3e6b7",
   "metadata": {},
   "outputs": [
    {
     "data": {
      "text/plain": [
       "['\\nName\\n',\n",
       " 'Dr. Rajendra Prasad',\n",
       " 'Dr. Sarvepalli Radhakrishnan',\n",
       " 'Dr. Zakir Hussain',\n",
       " 'Varahagiri Venkata Giri',\n",
       " 'Varahagiri Venkata Giri',\n",
       " 'Fakhruddin Ali Ahmed',\n",
       " 'Neelam Sanjiva Reddy',\n",
       " 'Giani Zali Singh',\n",
       " 'Ramaswamy Venkataraman',\n",
       " 'Shankar Dayal Sharma',\n",
       " 'Kocheril Raman Narayanan',\n",
       " 'Dr. A.P.J. Abdul Kalam',\n",
       " 'Pratibha Patil',\n",
       " 'Pranab Mukherjee',\n",
       " 'Shri Ram Nath Kovind',\n",
       " 'Draupadi Murmu']"
      ]
     },
     "execution_count": 103,
     "metadata": {},
     "output_type": "execute_result"
    }
   ],
   "source": [
    "Names = []\n",
    "for i in soup.find_all('td',width=\"220\"):\n",
    "    Names.append(i.text)\n",
    "    \n",
    "Names"
   ]
  },
  {
   "cell_type": "code",
   "execution_count": 104,
   "id": "18f1e690",
   "metadata": {},
   "outputs": [
    {
     "data": {
      "text/plain": [
       "['\\nStart Date\\n',\n",
       " '26 January 1950',\n",
       " '13 May 1962',\n",
       " '13 May 1967',\n",
       " '3 May 1969',\n",
       " '24 August 1969',\n",
       " '24 August 1974',\n",
       " '25 July 1977',\n",
       " '25 July 1982',\n",
       " '25 July 1987',\n",
       " '25 July 1992',\n",
       " '25 July 1997',\n",
       " '25 July 2002',\n",
       " '25 July 2007',\n",
       " '25 July 2012',\n",
       " '25 July 2017',\n",
       " '21 July 2022']"
      ]
     },
     "execution_count": 104,
     "metadata": {},
     "output_type": "execute_result"
    }
   ],
   "source": [
    "Start_Date = []\n",
    "for v in soup.find_all('td',width=\"180\"):\n",
    "    Start_Date.append(v.text)\n",
    "    \n",
    "Start_Date "
   ]
  },
  {
   "cell_type": "code",
   "execution_count": 105,
   "id": "2962b216",
   "metadata": {},
   "outputs": [
    {
     "data": {
      "text/plain": [
       "['Closing date',\n",
       " '13 May 1962',\n",
       " '13 May 1967',\n",
       " '3 May 1969',\n",
       " '20 July 1969',\n",
       " '24 August 1974',\n",
       " '11 February 1977',\n",
       " '25 July 1982',\n",
       " '25 July 1987',\n",
       " '25 July 1992',\n",
       " '25 July 1997',\n",
       " '25 July 2002',\n",
       " '25 July 2007',\n",
       " '25 July 2012',\n",
       " '25 July 2017',\n",
       " '21 July 2022',\n",
       " 'Working']"
      ]
     },
     "execution_count": 105,
     "metadata": {},
     "output_type": "execute_result"
    }
   ],
   "source": [
    "End_Date = []\n",
    "for v in soup.find_all('td',width=\"201\"):\n",
    "    End_Date.append(v.text)\n",
    "    \n",
    "End_Date  "
   ]
  },
  {
   "cell_type": "code",
   "execution_count": 106,
   "id": "118b6269",
   "metadata": {},
   "outputs": [
    {
     "data": {
      "text/html": [
       "<div>\n",
       "<style scoped>\n",
       "    .dataframe tbody tr th:only-of-type {\n",
       "        vertical-align: middle;\n",
       "    }\n",
       "\n",
       "    .dataframe tbody tr th {\n",
       "        vertical-align: top;\n",
       "    }\n",
       "\n",
       "    .dataframe thead th {\n",
       "        text-align: right;\n",
       "    }\n",
       "</style>\n",
       "<table border=\"1\" class=\"dataframe\">\n",
       "  <thead>\n",
       "    <tr style=\"text-align: right;\">\n",
       "      <th></th>\n",
       "      <th>President Names</th>\n",
       "      <th>Term Start date</th>\n",
       "      <th>Term End Date</th>\n",
       "    </tr>\n",
       "  </thead>\n",
       "  <tbody>\n",
       "    <tr>\n",
       "      <th>0</th>\n",
       "      <td>\\nName\\n</td>\n",
       "      <td>\\nStart Date\\n</td>\n",
       "      <td>Closing date</td>\n",
       "    </tr>\n",
       "    <tr>\n",
       "      <th>1</th>\n",
       "      <td>Dr. Rajendra Prasad</td>\n",
       "      <td>26 January 1950</td>\n",
       "      <td>13 May 1962</td>\n",
       "    </tr>\n",
       "    <tr>\n",
       "      <th>2</th>\n",
       "      <td>Dr. Sarvepalli Radhakrishnan</td>\n",
       "      <td>13 May 1962</td>\n",
       "      <td>13 May 1967</td>\n",
       "    </tr>\n",
       "    <tr>\n",
       "      <th>3</th>\n",
       "      <td>Dr. Zakir Hussain</td>\n",
       "      <td>13 May 1967</td>\n",
       "      <td>3 May 1969</td>\n",
       "    </tr>\n",
       "    <tr>\n",
       "      <th>4</th>\n",
       "      <td>Varahagiri Venkata Giri</td>\n",
       "      <td>3 May 1969</td>\n",
       "      <td>20 July 1969</td>\n",
       "    </tr>\n",
       "    <tr>\n",
       "      <th>5</th>\n",
       "      <td>Varahagiri Venkata Giri</td>\n",
       "      <td>24 August 1969</td>\n",
       "      <td>24 August 1974</td>\n",
       "    </tr>\n",
       "    <tr>\n",
       "      <th>6</th>\n",
       "      <td>Fakhruddin Ali Ahmed</td>\n",
       "      <td>24 August 1974</td>\n",
       "      <td>11 February 1977</td>\n",
       "    </tr>\n",
       "    <tr>\n",
       "      <th>7</th>\n",
       "      <td>Neelam Sanjiva Reddy</td>\n",
       "      <td>25 July 1977</td>\n",
       "      <td>25 July 1982</td>\n",
       "    </tr>\n",
       "    <tr>\n",
       "      <th>8</th>\n",
       "      <td>Giani Zali Singh</td>\n",
       "      <td>25 July 1982</td>\n",
       "      <td>25 July 1987</td>\n",
       "    </tr>\n",
       "    <tr>\n",
       "      <th>9</th>\n",
       "      <td>Ramaswamy Venkataraman</td>\n",
       "      <td>25 July 1987</td>\n",
       "      <td>25 July 1992</td>\n",
       "    </tr>\n",
       "    <tr>\n",
       "      <th>10</th>\n",
       "      <td>Shankar Dayal Sharma</td>\n",
       "      <td>25 July 1992</td>\n",
       "      <td>25 July 1997</td>\n",
       "    </tr>\n",
       "    <tr>\n",
       "      <th>11</th>\n",
       "      <td>Kocheril Raman Narayanan</td>\n",
       "      <td>25 July 1997</td>\n",
       "      <td>25 July 2002</td>\n",
       "    </tr>\n",
       "    <tr>\n",
       "      <th>12</th>\n",
       "      <td>Dr. A.P.J. Abdul Kalam</td>\n",
       "      <td>25 July 2002</td>\n",
       "      <td>25 July 2007</td>\n",
       "    </tr>\n",
       "    <tr>\n",
       "      <th>13</th>\n",
       "      <td>Pratibha Patil</td>\n",
       "      <td>25 July 2007</td>\n",
       "      <td>25 July 2012</td>\n",
       "    </tr>\n",
       "    <tr>\n",
       "      <th>14</th>\n",
       "      <td>Pranab Mukherjee</td>\n",
       "      <td>25 July 2012</td>\n",
       "      <td>25 July 2017</td>\n",
       "    </tr>\n",
       "    <tr>\n",
       "      <th>15</th>\n",
       "      <td>Shri Ram Nath Kovind</td>\n",
       "      <td>25 July 2017</td>\n",
       "      <td>21 July 2022</td>\n",
       "    </tr>\n",
       "    <tr>\n",
       "      <th>16</th>\n",
       "      <td>Draupadi Murmu</td>\n",
       "      <td>21 July 2022</td>\n",
       "      <td>Working</td>\n",
       "    </tr>\n",
       "  </tbody>\n",
       "</table>\n",
       "</div>"
      ],
      "text/plain": [
       "                 President Names  Term Start date     Term End Date\n",
       "0                       \\nName\\n   \\nStart Date\\n      Closing date\n",
       "1            Dr. Rajendra Prasad  26 January 1950       13 May 1962\n",
       "2   Dr. Sarvepalli Radhakrishnan      13 May 1962       13 May 1967\n",
       "3              Dr. Zakir Hussain      13 May 1967        3 May 1969\n",
       "4        Varahagiri Venkata Giri       3 May 1969      20 July 1969\n",
       "5        Varahagiri Venkata Giri   24 August 1969    24 August 1974\n",
       "6           Fakhruddin Ali Ahmed   24 August 1974  11 February 1977\n",
       "7           Neelam Sanjiva Reddy     25 July 1977      25 July 1982\n",
       "8               Giani Zali Singh     25 July 1982      25 July 1987\n",
       "9         Ramaswamy Venkataraman     25 July 1987      25 July 1992\n",
       "10          Shankar Dayal Sharma     25 July 1992      25 July 1997\n",
       "11      Kocheril Raman Narayanan     25 July 1997      25 July 2002\n",
       "12        Dr. A.P.J. Abdul Kalam     25 July 2002      25 July 2007\n",
       "13                Pratibha Patil     25 July 2007      25 July 2012\n",
       "14              Pranab Mukherjee     25 July 2012      25 July 2017\n",
       "15          Shri Ram Nath Kovind     25 July 2017      21 July 2022\n",
       "16                Draupadi Murmu     21 July 2022           Working"
      ]
     },
     "execution_count": 106,
     "metadata": {},
     "output_type": "execute_result"
    }
   ],
   "source": [
    "import pandas as pd\n",
    "df = pd.DataFrame({'President Names':Names,'Term Start date':Start_Date,'Term End Date':End_Date})\n",
    "df"
   ]
  },
  {
   "cell_type": "markdown",
   "id": "b73f36b3",
   "metadata": {},
   "source": [
    "#### 3) Write a python program to scrape cricket rankings from icc-cricket.com. You have to scrape and make data frame"
   ]
  },
  {
   "cell_type": "markdown",
   "id": "19e7c47d",
   "metadata": {},
   "source": [
    "##### a) Top 10 ODI teams in men’s cricket along with the records for matches, points and rating."
   ]
  },
  {
   "cell_type": "code",
   "execution_count": 110,
   "id": "04f223c4",
   "metadata": {},
   "outputs": [
    {
     "data": {
      "text/plain": [
       "<Response [200]>"
      ]
     },
     "execution_count": 110,
     "metadata": {},
     "output_type": "execute_result"
    }
   ],
   "source": [
    "page = requests.get('https://www.icc-cricket.com/rankings/mens/team-rankings/odi')\n",
    "page"
   ]
  },
  {
   "cell_type": "code",
   "execution_count": null,
   "id": "28523c06",
   "metadata": {},
   "outputs": [],
   "source": [
    "soup = BeautifulSoup(page.content)\n",
    "soup"
   ]
  },
  {
   "cell_type": "code",
   "execution_count": 113,
   "id": "409f1ddd",
   "metadata": {},
   "outputs": [
    {
     "data": {
      "text/plain": [
       "['1',\n",
       " '\\n\\nAustralia\\nAUS\\n',\n",
       " '27',\n",
       " '3,112',\n",
       " '\\n                            115\\n                            \\n\\n',\n",
       " '2',\n",
       " '\\n\\nPakistan\\nPAK\\n',\n",
       " '27',\n",
       " '3,102',\n",
       " '115',\n",
       " '3',\n",
       " '\\n\\nIndia\\nIND\\n',\n",
       " '40',\n",
       " '4,558',\n",
       " '114',\n",
       " '4',\n",
       " '\\n\\nEngland\\nENG\\n',\n",
       " '28',\n",
       " '2,942',\n",
       " '105',\n",
       " '5',\n",
       " '\\n\\nSouth Africa\\nSA\\n',\n",
       " '23',\n",
       " '2,386',\n",
       " '104',\n",
       " '6',\n",
       " '\\n\\nNew Zealand\\nNZ\\n',\n",
       " '31',\n",
       " '3,110',\n",
       " '100',\n",
       " '7',\n",
       " '\\n\\nBangladesh\\nBAN\\n',\n",
       " '33',\n",
       " '3,107',\n",
       " '94',\n",
       " '8',\n",
       " '\\n\\nSri Lanka\\nSL\\n',\n",
       " '37',\n",
       " '3,448',\n",
       " '93',\n",
       " '9',\n",
       " '\\n\\nAfghanistan\\nAFG\\n',\n",
       " '21',\n",
       " '1,687',\n",
       " '80',\n",
       " '10',\n",
       " '\\n\\nWest Indies\\nWI\\n',\n",
       " '38',\n",
       " '2,582',\n",
       " '68',\n",
       " '11',\n",
       " '\\n\\nZimbabwe\\nZIM\\n',\n",
       " '30',\n",
       " '1,641',\n",
       " '55',\n",
       " '12',\n",
       " '\\n\\nScotland\\nSCO\\n',\n",
       " '33',\n",
       " '1,662',\n",
       " '50',\n",
       " '13',\n",
       " '\\n\\nIreland\\nIRE\\n',\n",
       " '24',\n",
       " '1,052',\n",
       " '44',\n",
       " '14',\n",
       " '\\n\\nNetherlands\\nNED\\n',\n",
       " '28',\n",
       " '1,044',\n",
       " '37',\n",
       " '15',\n",
       " '\\n\\nNepal\\nNEP\\n',\n",
       " '42',\n",
       " '1,446',\n",
       " '34',\n",
       " '16',\n",
       " '\\n\\nNamibia\\nNAM\\n',\n",
       " '28',\n",
       " '813',\n",
       " '29',\n",
       " '17',\n",
       " '\\n\\nUnited States\\nUSA\\n',\n",
       " '31',\n",
       " '808',\n",
       " '26',\n",
       " '18',\n",
       " '\\n\\nOman\\nOMA\\n',\n",
       " '24',\n",
       " '525',\n",
       " '22',\n",
       " '19',\n",
       " '\\n\\nUAE\\nUAE\\n',\n",
       " '41',\n",
       " '617',\n",
       " '15']"
      ]
     },
     "execution_count": 113,
     "metadata": {},
     "output_type": "execute_result"
    }
   ],
   "source": [
    "ODI_teams = []\n",
    "\n",
    "for i in soup.select('td',class_=\"u-hide-phablet\"):\n",
    "    ODI_teams.append(i.text)\n",
    "    \n",
    "ODI_teams"
   ]
  },
  {
   "cell_type": "code",
   "execution_count": 114,
   "id": "d051b264",
   "metadata": {},
   "outputs": [],
   "source": [
    "import pandas as pd\n",
    "df= pd.DataFrame({\"Country\":ODI_teams[1:47:5],'Points':ODI_teams[3:49:5],'Rating':ODI_teams[4:50:5]})"
   ]
  },
  {
   "cell_type": "code",
   "execution_count": 115,
   "id": "11e352ba",
   "metadata": {},
   "outputs": [
    {
     "data": {
      "text/html": [
       "<div>\n",
       "<style scoped>\n",
       "    .dataframe tbody tr th:only-of-type {\n",
       "        vertical-align: middle;\n",
       "    }\n",
       "\n",
       "    .dataframe tbody tr th {\n",
       "        vertical-align: top;\n",
       "    }\n",
       "\n",
       "    .dataframe thead th {\n",
       "        text-align: right;\n",
       "    }\n",
       "</style>\n",
       "<table border=\"1\" class=\"dataframe\">\n",
       "  <thead>\n",
       "    <tr style=\"text-align: right;\">\n",
       "      <th></th>\n",
       "      <th>Country</th>\n",
       "      <th>Points</th>\n",
       "      <th>Rating</th>\n",
       "    </tr>\n",
       "  </thead>\n",
       "  <tbody>\n",
       "    <tr>\n",
       "      <th>0</th>\n",
       "      <td>\\n\\nAustralia\\nAUS\\n</td>\n",
       "      <td>3,112</td>\n",
       "      <td>\\n                            115\\n           ...</td>\n",
       "    </tr>\n",
       "    <tr>\n",
       "      <th>1</th>\n",
       "      <td>\\n\\nPakistan\\nPAK\\n</td>\n",
       "      <td>3,102</td>\n",
       "      <td>115</td>\n",
       "    </tr>\n",
       "    <tr>\n",
       "      <th>2</th>\n",
       "      <td>\\n\\nIndia\\nIND\\n</td>\n",
       "      <td>4,558</td>\n",
       "      <td>114</td>\n",
       "    </tr>\n",
       "    <tr>\n",
       "      <th>3</th>\n",
       "      <td>\\n\\nEngland\\nENG\\n</td>\n",
       "      <td>2,942</td>\n",
       "      <td>105</td>\n",
       "    </tr>\n",
       "    <tr>\n",
       "      <th>4</th>\n",
       "      <td>\\n\\nSouth Africa\\nSA\\n</td>\n",
       "      <td>2,386</td>\n",
       "      <td>104</td>\n",
       "    </tr>\n",
       "    <tr>\n",
       "      <th>5</th>\n",
       "      <td>\\n\\nNew Zealand\\nNZ\\n</td>\n",
       "      <td>3,110</td>\n",
       "      <td>100</td>\n",
       "    </tr>\n",
       "    <tr>\n",
       "      <th>6</th>\n",
       "      <td>\\n\\nBangladesh\\nBAN\\n</td>\n",
       "      <td>3,107</td>\n",
       "      <td>94</td>\n",
       "    </tr>\n",
       "    <tr>\n",
       "      <th>7</th>\n",
       "      <td>\\n\\nSri Lanka\\nSL\\n</td>\n",
       "      <td>3,448</td>\n",
       "      <td>93</td>\n",
       "    </tr>\n",
       "    <tr>\n",
       "      <th>8</th>\n",
       "      <td>\\n\\nAfghanistan\\nAFG\\n</td>\n",
       "      <td>1,687</td>\n",
       "      <td>80</td>\n",
       "    </tr>\n",
       "    <tr>\n",
       "      <th>9</th>\n",
       "      <td>\\n\\nWest Indies\\nWI\\n</td>\n",
       "      <td>2,582</td>\n",
       "      <td>68</td>\n",
       "    </tr>\n",
       "  </tbody>\n",
       "</table>\n",
       "</div>"
      ],
      "text/plain": [
       "                  Country Points  \\\n",
       "0    \\n\\nAustralia\\nAUS\\n  3,112   \n",
       "1     \\n\\nPakistan\\nPAK\\n  3,102   \n",
       "2        \\n\\nIndia\\nIND\\n  4,558   \n",
       "3      \\n\\nEngland\\nENG\\n  2,942   \n",
       "4  \\n\\nSouth Africa\\nSA\\n  2,386   \n",
       "5   \\n\\nNew Zealand\\nNZ\\n  3,110   \n",
       "6   \\n\\nBangladesh\\nBAN\\n  3,107   \n",
       "7     \\n\\nSri Lanka\\nSL\\n  3,448   \n",
       "8  \\n\\nAfghanistan\\nAFG\\n  1,687   \n",
       "9   \\n\\nWest Indies\\nWI\\n  2,582   \n",
       "\n",
       "                                              Rating  \n",
       "0  \\n                            115\\n           ...  \n",
       "1                                                115  \n",
       "2                                                114  \n",
       "3                                                105  \n",
       "4                                                104  \n",
       "5                                                100  \n",
       "6                                                 94  \n",
       "7                                                 93  \n",
       "8                                                 80  \n",
       "9                                                 68  "
      ]
     },
     "execution_count": 115,
     "metadata": {},
     "output_type": "execute_result"
    }
   ],
   "source": [
    "df"
   ]
  },
  {
   "cell_type": "markdown",
   "id": "0d1cb721",
   "metadata": {},
   "source": [
    "##### b) Top 10 ODI Batsmen along with the records of their team andrating."
   ]
  },
  {
   "cell_type": "code",
   "execution_count": 116,
   "id": "26ed4fc5",
   "metadata": {},
   "outputs": [
    {
     "data": {
      "text/plain": [
       "<Response [200]>"
      ]
     },
     "execution_count": 116,
     "metadata": {},
     "output_type": "execute_result"
    }
   ],
   "source": [
    "page = requests.get('https://www.icc-cricket.com/rankings/mens/player-rankings/odi/batting')\n",
    "page"
   ]
  },
  {
   "cell_type": "code",
   "execution_count": null,
   "id": "dd95cead",
   "metadata": {},
   "outputs": [],
   "source": [
    "soup = BeautifulSoup(page.content)\n",
    "soup"
   ]
  },
  {
   "cell_type": "code",
   "execution_count": 118,
   "id": "2be59714",
   "metadata": {},
   "outputs": [
    {
     "data": {
      "text/plain": [
       "['Babar Azam']"
      ]
     },
     "execution_count": 118,
     "metadata": {},
     "output_type": "execute_result"
    }
   ],
   "source": [
    "first_name = []\n",
    "\n",
    "for i in soup.find_all('div',class_=\"rankings-block__banner--name-large\"):\n",
    "    first_name.append(i.text)\n",
    "    \n",
    "first_name"
   ]
  },
  {
   "cell_type": "code",
   "execution_count": 119,
   "id": "232bb67c",
   "metadata": {},
   "outputs": [
    {
     "data": {
      "text/plain": [
       "['\\n\\nPAK\\n                    ']"
      ]
     },
     "execution_count": 119,
     "metadata": {},
     "output_type": "execute_result"
    }
   ],
   "source": [
    "first_team = []\n",
    "for i in soup.find_all('div',class_=\"rankings-block__banner--nationality\"):\n",
    "    first_team.append(i.text)\n",
    "    \n",
    "first_team"
   ]
  },
  {
   "cell_type": "code",
   "execution_count": 120,
   "id": "9c850991",
   "metadata": {},
   "outputs": [
    {
     "data": {
      "text/plain": [
       "['863']"
      ]
     },
     "execution_count": 120,
     "metadata": {},
     "output_type": "execute_result"
    }
   ],
   "source": [
    "first_rating = []\n",
    "\n",
    "for i in soup.find_all('div',class_=\"rankings-block__banner--rating\"):\n",
    "    first_rating.append(i.text)\n",
    "    \n",
    "first_rating"
   ]
  },
  {
   "cell_type": "code",
   "execution_count": 121,
   "id": "2e5b9264",
   "metadata": {},
   "outputs": [
    {
     "data": {
      "text/plain": [
       "['\\nShubman Gill\\n',\n",
       " '\\nRassie van der Dussen\\n',\n",
       " '\\nDavid Warner\\n',\n",
       " '\\nImam-ul-Haq\\n',\n",
       " '\\nHarry Tector\\n',\n",
       " '\\nQuinton de Kock\\n',\n",
       " '\\nVirat Kohli\\n',\n",
       " '\\nRohit Sharma\\n',\n",
       " '\\nFakhar Zaman\\n']"
      ]
     },
     "execution_count": 121,
     "metadata": {},
     "output_type": "execute_result"
    }
   ],
   "source": [
    "Name = []\n",
    "\n",
    "for i in soup.find_all('td',class_=\"table-body__cell rankings-table__name name\"):\n",
    "    Name.append(i.text)\n",
    "    \n",
    "Name[:9]"
   ]
  },
  {
   "cell_type": "code",
   "execution_count": 122,
   "id": "3997c31d",
   "metadata": {},
   "outputs": [
    {
     "data": {
      "text/plain": [
       "['\\n\\nIND\\n',\n",
       " '\\n\\nSA\\n',\n",
       " '\\n\\nAUS\\n',\n",
       " '\\n\\nPAK\\n',\n",
       " '\\n\\nIRE\\n',\n",
       " '\\n\\nSA\\n',\n",
       " '\\n\\nIND\\n',\n",
       " '\\n\\nIND\\n',\n",
       " '\\n\\nPAK\\n']"
      ]
     },
     "execution_count": 122,
     "metadata": {},
     "output_type": "execute_result"
    }
   ],
   "source": [
    "team = []\n",
    "\n",
    "for i in soup.find_all('td',class_=\"table-body__cell nationality-logo rankings-table__team\"):\n",
    "    team.append(i.text)\n",
    "    \n",
    "team[:9]"
   ]
  },
  {
   "cell_type": "code",
   "execution_count": 123,
   "id": "fb2f9fe6",
   "metadata": {},
   "outputs": [
    {
     "data": {
      "text/plain": [
       "['759', '745', '739', '735', '726', '721', '715', '707', '705']"
      ]
     },
     "execution_count": 123,
     "metadata": {},
     "output_type": "execute_result"
    }
   ],
   "source": [
    "rating = [] \n",
    "\n",
    "for i in soup.find_all('td',class_=\"table-body__cell rating\"):\n",
    "    rating.append(i.text)\n",
    "    \n",
    "rating[:9]"
   ]
  },
  {
   "cell_type": "code",
   "execution_count": 124,
   "id": "2cc72647",
   "metadata": {},
   "outputs": [
    {
     "data": {
      "text/plain": [
       "['Babar Azam',\n",
       " '\\nShubman Gill\\n',\n",
       " '\\nRassie van der Dussen\\n',\n",
       " '\\nDavid Warner\\n',\n",
       " '\\nImam-ul-Haq\\n',\n",
       " '\\nHarry Tector\\n',\n",
       " '\\nQuinton de Kock\\n',\n",
       " '\\nVirat Kohli\\n',\n",
       " '\\nRohit Sharma\\n',\n",
       " '\\nFakhar Zaman\\n']"
      ]
     },
     "execution_count": 124,
     "metadata": {},
     "output_type": "execute_result"
    }
   ],
   "source": [
    "name = first_name + Name[:9]\n",
    "\n",
    "name"
   ]
  },
  {
   "cell_type": "code",
   "execution_count": 125,
   "id": "f7a251bc",
   "metadata": {},
   "outputs": [
    {
     "data": {
      "text/plain": [
       "['\\n\\nPAK\\n                    ',\n",
       " '\\n\\nIND\\n',\n",
       " '\\n\\nSA\\n',\n",
       " '\\n\\nAUS\\n',\n",
       " '\\n\\nPAK\\n',\n",
       " '\\n\\nIRE\\n',\n",
       " '\\n\\nSA\\n',\n",
       " '\\n\\nIND\\n',\n",
       " '\\n\\nIND\\n',\n",
       " '\\n\\nPAK\\n']"
      ]
     },
     "execution_count": 125,
     "metadata": {},
     "output_type": "execute_result"
    }
   ],
   "source": [
    "team= first_team + team[:9]\n",
    "team"
   ]
  },
  {
   "cell_type": "code",
   "execution_count": 126,
   "id": "cc3fae25",
   "metadata": {},
   "outputs": [
    {
     "data": {
      "text/plain": [
       "['863', '759', '745', '739', '735', '726', '721', '715', '707', '705']"
      ]
     },
     "execution_count": 126,
     "metadata": {},
     "output_type": "execute_result"
    }
   ],
   "source": [
    "Rating = first_rating + rating[:9]\n",
    "Rating"
   ]
  },
  {
   "cell_type": "code",
   "execution_count": 127,
   "id": "b173170b",
   "metadata": {},
   "outputs": [
    {
     "data": {
      "text/html": [
       "<div>\n",
       "<style scoped>\n",
       "    .dataframe tbody tr th:only-of-type {\n",
       "        vertical-align: middle;\n",
       "    }\n",
       "\n",
       "    .dataframe tbody tr th {\n",
       "        vertical-align: top;\n",
       "    }\n",
       "\n",
       "    .dataframe thead th {\n",
       "        text-align: right;\n",
       "    }\n",
       "</style>\n",
       "<table border=\"1\" class=\"dataframe\">\n",
       "  <thead>\n",
       "    <tr style=\"text-align: right;\">\n",
       "      <th></th>\n",
       "      <th>Name</th>\n",
       "      <th>Team</th>\n",
       "      <th>Rating</th>\n",
       "    </tr>\n",
       "  </thead>\n",
       "  <tbody>\n",
       "    <tr>\n",
       "      <th>0</th>\n",
       "      <td>Babar Azam</td>\n",
       "      <td>\\n\\nPAK\\n</td>\n",
       "      <td>863</td>\n",
       "    </tr>\n",
       "    <tr>\n",
       "      <th>1</th>\n",
       "      <td>\\nShubman Gill\\n</td>\n",
       "      <td>\\n\\nIND\\n</td>\n",
       "      <td>759</td>\n",
       "    </tr>\n",
       "    <tr>\n",
       "      <th>2</th>\n",
       "      <td>\\nRassie van der Dussen\\n</td>\n",
       "      <td>\\n\\nSA\\n</td>\n",
       "      <td>745</td>\n",
       "    </tr>\n",
       "    <tr>\n",
       "      <th>3</th>\n",
       "      <td>\\nDavid Warner\\n</td>\n",
       "      <td>\\n\\nAUS\\n</td>\n",
       "      <td>739</td>\n",
       "    </tr>\n",
       "    <tr>\n",
       "      <th>4</th>\n",
       "      <td>\\nImam-ul-Haq\\n</td>\n",
       "      <td>\\n\\nPAK\\n</td>\n",
       "      <td>735</td>\n",
       "    </tr>\n",
       "    <tr>\n",
       "      <th>5</th>\n",
       "      <td>\\nHarry Tector\\n</td>\n",
       "      <td>\\n\\nIRE\\n</td>\n",
       "      <td>726</td>\n",
       "    </tr>\n",
       "    <tr>\n",
       "      <th>6</th>\n",
       "      <td>\\nQuinton de Kock\\n</td>\n",
       "      <td>\\n\\nSA\\n</td>\n",
       "      <td>721</td>\n",
       "    </tr>\n",
       "    <tr>\n",
       "      <th>7</th>\n",
       "      <td>\\nVirat Kohli\\n</td>\n",
       "      <td>\\n\\nIND\\n</td>\n",
       "      <td>715</td>\n",
       "    </tr>\n",
       "    <tr>\n",
       "      <th>8</th>\n",
       "      <td>\\nRohit Sharma\\n</td>\n",
       "      <td>\\n\\nIND\\n</td>\n",
       "      <td>707</td>\n",
       "    </tr>\n",
       "    <tr>\n",
       "      <th>9</th>\n",
       "      <td>\\nFakhar Zaman\\n</td>\n",
       "      <td>\\n\\nPAK\\n</td>\n",
       "      <td>705</td>\n",
       "    </tr>\n",
       "  </tbody>\n",
       "</table>\n",
       "</div>"
      ],
      "text/plain": [
       "                        Name                           Team Rating\n",
       "0                 Babar Azam  \\n\\nPAK\\n                        863\n",
       "1           \\nShubman Gill\\n                      \\n\\nIND\\n    759\n",
       "2  \\nRassie van der Dussen\\n                       \\n\\nSA\\n    745\n",
       "3           \\nDavid Warner\\n                      \\n\\nAUS\\n    739\n",
       "4            \\nImam-ul-Haq\\n                      \\n\\nPAK\\n    735\n",
       "5           \\nHarry Tector\\n                      \\n\\nIRE\\n    726\n",
       "6        \\nQuinton de Kock\\n                       \\n\\nSA\\n    721\n",
       "7            \\nVirat Kohli\\n                      \\n\\nIND\\n    715\n",
       "8           \\nRohit Sharma\\n                      \\n\\nIND\\n    707\n",
       "9           \\nFakhar Zaman\\n                      \\n\\nPAK\\n    705"
      ]
     },
     "execution_count": 127,
     "metadata": {},
     "output_type": "execute_result"
    }
   ],
   "source": [
    "import pandas as pd\n",
    "df = pd.DataFrame({\"Name\":name,\"Team\":team,\"Rating\":Rating})\n",
    "df"
   ]
  },
  {
   "cell_type": "markdown",
   "id": "e5540e3b",
   "metadata": {},
   "source": [
    "##### c) Top 10 ODI bowlers along with the records of their team andrating."
   ]
  },
  {
   "cell_type": "code",
   "execution_count": 128,
   "id": "b95e543d",
   "metadata": {},
   "outputs": [
    {
     "data": {
      "text/plain": [
       "<Response [200]>"
      ]
     },
     "execution_count": 128,
     "metadata": {},
     "output_type": "execute_result"
    }
   ],
   "source": [
    "page = requests.get('https://www.icc-cricket.com/rankings/mens/player-rankings/odi/bowling')\n",
    "page"
   ]
  },
  {
   "cell_type": "code",
   "execution_count": null,
   "id": "6bca5aa3",
   "metadata": {},
   "outputs": [],
   "source": [
    "soup = BeautifulSoup(page.content)\n",
    "soup"
   ]
  },
  {
   "cell_type": "code",
   "execution_count": 130,
   "id": "7ff62fb0",
   "metadata": {},
   "outputs": [
    {
     "data": {
      "text/plain": [
       "['Josh Hazlewood']"
      ]
     },
     "execution_count": 130,
     "metadata": {},
     "output_type": "execute_result"
    }
   ],
   "source": [
    "first_name = []\n",
    "\n",
    "for i in soup.find_all('div',class_=\"rankings-block__banner--name-large\"):\n",
    "    first_name.append(i.text)\n",
    "    \n",
    "first_name"
   ]
  },
  {
   "cell_type": "code",
   "execution_count": 131,
   "id": "cadbe658",
   "metadata": {},
   "outputs": [
    {
     "data": {
      "text/plain": [
       "['\\n\\nAUS\\n                    ']"
      ]
     },
     "execution_count": 131,
     "metadata": {},
     "output_type": "execute_result"
    }
   ],
   "source": [
    "first_team = []\n",
    "for i in soup.find_all('div',class_=\"rankings-block__banner--nationality\"):\n",
    "    first_team.append(i.text)\n",
    "    \n",
    "first_team"
   ]
  },
  {
   "cell_type": "code",
   "execution_count": 132,
   "id": "7250110f",
   "metadata": {},
   "outputs": [
    {
     "data": {
      "text/plain": [
       "['692']"
      ]
     },
     "execution_count": 132,
     "metadata": {},
     "output_type": "execute_result"
    }
   ],
   "source": [
    "first_rating = []\n",
    "\n",
    "for i in soup.find_all('div',class_=\"rankings-block__banner--rating\"):\n",
    "    first_rating.append(i.text)\n",
    "    \n",
    "first_rating"
   ]
  },
  {
   "cell_type": "code",
   "execution_count": 133,
   "id": "7a353b4c",
   "metadata": {},
   "outputs": [
    {
     "data": {
      "text/plain": [
       "['\\nMitchell Starc\\n',\n",
       " '\\nTrent Boult\\n',\n",
       " '\\nAdam Zampa\\n',\n",
       " '\\nMatt Henry\\n',\n",
       " '\\nMujeeb Ur Rahman\\n',\n",
       " '\\nKuldeep Yadav\\n',\n",
       " '\\nRashid Khan\\n',\n",
       " '\\nMohammed Siraj\\n',\n",
       " '\\nShaheen Afridi\\n']"
      ]
     },
     "execution_count": 133,
     "metadata": {},
     "output_type": "execute_result"
    }
   ],
   "source": [
    "Name = []\n",
    "\n",
    "for i in soup.find_all('td',class_=\"table-body__cell rankings-table__name name\"):\n",
    "    Name.append(i.text)\n",
    "    \n",
    "Name[:9]"
   ]
  },
  {
   "cell_type": "code",
   "execution_count": 134,
   "id": "567d9655",
   "metadata": {},
   "outputs": [
    {
     "data": {
      "text/plain": [
       "['\\n\\nAUS\\n',\n",
       " '\\n\\nNZ\\n',\n",
       " '\\n\\nAUS\\n',\n",
       " '\\n\\nNZ\\n',\n",
       " '\\n\\nAFG\\n',\n",
       " '\\n\\nIND\\n',\n",
       " '\\n\\nAFG\\n',\n",
       " '\\n\\nIND\\n',\n",
       " '\\n\\nPAK\\n']"
      ]
     },
     "execution_count": 134,
     "metadata": {},
     "output_type": "execute_result"
    }
   ],
   "source": [
    "team = []\n",
    "\n",
    "for i in soup.find_all('td',class_=\"table-body__cell nationality-logo rankings-table__team\"):\n",
    "    team.append(i.text)\n",
    "    \n",
    "team[:9]"
   ]
  },
  {
   "cell_type": "code",
   "execution_count": 135,
   "id": "a5659b54",
   "metadata": {},
   "outputs": [
    {
     "data": {
      "text/plain": [
       "['666', '666', '663', '658', '657', '656', '655', '643', '635']"
      ]
     },
     "execution_count": 135,
     "metadata": {},
     "output_type": "execute_result"
    }
   ],
   "source": [
    "rating = [] \n",
    "\n",
    "for i in soup.find_all('td',class_=\"table-body__cell rating\"):\n",
    "    rating.append(i.text)\n",
    "    \n",
    "rating[:9]"
   ]
  },
  {
   "cell_type": "code",
   "execution_count": 136,
   "id": "4e4b1d2d",
   "metadata": {},
   "outputs": [
    {
     "data": {
      "text/plain": [
       "['Josh Hazlewood',\n",
       " '\\nMitchell Starc\\n',\n",
       " '\\nTrent Boult\\n',\n",
       " '\\nAdam Zampa\\n',\n",
       " '\\nMatt Henry\\n',\n",
       " '\\nMujeeb Ur Rahman\\n',\n",
       " '\\nKuldeep Yadav\\n',\n",
       " '\\nRashid Khan\\n',\n",
       " '\\nMohammed Siraj\\n',\n",
       " '\\nShaheen Afridi\\n']"
      ]
     },
     "execution_count": 136,
     "metadata": {},
     "output_type": "execute_result"
    }
   ],
   "source": [
    "name = first_name + Name[:9]\n",
    "\n",
    "name"
   ]
  },
  {
   "cell_type": "code",
   "execution_count": 137,
   "id": "4cd538ef",
   "metadata": {},
   "outputs": [
    {
     "data": {
      "text/plain": [
       "['\\n\\nAUS\\n                    ',\n",
       " '\\n\\nAUS\\n',\n",
       " '\\n\\nNZ\\n',\n",
       " '\\n\\nAUS\\n',\n",
       " '\\n\\nNZ\\n',\n",
       " '\\n\\nAFG\\n',\n",
       " '\\n\\nIND\\n',\n",
       " '\\n\\nAFG\\n',\n",
       " '\\n\\nIND\\n',\n",
       " '\\n\\nPAK\\n']"
      ]
     },
     "execution_count": 137,
     "metadata": {},
     "output_type": "execute_result"
    }
   ],
   "source": [
    "team= first_team + team[:9]\n",
    "team"
   ]
  },
  {
   "cell_type": "code",
   "execution_count": 138,
   "id": "f4b649e5",
   "metadata": {},
   "outputs": [],
   "source": [
    "Rating = first_rating + rating[:9]\n"
   ]
  },
  {
   "cell_type": "code",
   "execution_count": 139,
   "id": "cabbfded",
   "metadata": {},
   "outputs": [
    {
     "data": {
      "text/html": [
       "<div>\n",
       "<style scoped>\n",
       "    .dataframe tbody tr th:only-of-type {\n",
       "        vertical-align: middle;\n",
       "    }\n",
       "\n",
       "    .dataframe tbody tr th {\n",
       "        vertical-align: top;\n",
       "    }\n",
       "\n",
       "    .dataframe thead th {\n",
       "        text-align: right;\n",
       "    }\n",
       "</style>\n",
       "<table border=\"1\" class=\"dataframe\">\n",
       "  <thead>\n",
       "    <tr style=\"text-align: right;\">\n",
       "      <th></th>\n",
       "      <th>Name</th>\n",
       "      <th>Team</th>\n",
       "      <th>Rating</th>\n",
       "    </tr>\n",
       "  </thead>\n",
       "  <tbody>\n",
       "    <tr>\n",
       "      <th>0</th>\n",
       "      <td>Josh Hazlewood</td>\n",
       "      <td>\\n\\nAUS\\n</td>\n",
       "      <td>692</td>\n",
       "    </tr>\n",
       "    <tr>\n",
       "      <th>1</th>\n",
       "      <td>\\nMitchell Starc\\n</td>\n",
       "      <td>\\n\\nAUS\\n</td>\n",
       "      <td>666</td>\n",
       "    </tr>\n",
       "    <tr>\n",
       "      <th>2</th>\n",
       "      <td>\\nTrent Boult\\n</td>\n",
       "      <td>\\n\\nNZ\\n</td>\n",
       "      <td>666</td>\n",
       "    </tr>\n",
       "    <tr>\n",
       "      <th>3</th>\n",
       "      <td>\\nAdam Zampa\\n</td>\n",
       "      <td>\\n\\nAUS\\n</td>\n",
       "      <td>663</td>\n",
       "    </tr>\n",
       "    <tr>\n",
       "      <th>4</th>\n",
       "      <td>\\nMatt Henry\\n</td>\n",
       "      <td>\\n\\nNZ\\n</td>\n",
       "      <td>658</td>\n",
       "    </tr>\n",
       "    <tr>\n",
       "      <th>5</th>\n",
       "      <td>\\nMujeeb Ur Rahman\\n</td>\n",
       "      <td>\\n\\nAFG\\n</td>\n",
       "      <td>657</td>\n",
       "    </tr>\n",
       "    <tr>\n",
       "      <th>6</th>\n",
       "      <td>\\nKuldeep Yadav\\n</td>\n",
       "      <td>\\n\\nIND\\n</td>\n",
       "      <td>656</td>\n",
       "    </tr>\n",
       "    <tr>\n",
       "      <th>7</th>\n",
       "      <td>\\nRashid Khan\\n</td>\n",
       "      <td>\\n\\nAFG\\n</td>\n",
       "      <td>655</td>\n",
       "    </tr>\n",
       "    <tr>\n",
       "      <th>8</th>\n",
       "      <td>\\nMohammed Siraj\\n</td>\n",
       "      <td>\\n\\nIND\\n</td>\n",
       "      <td>643</td>\n",
       "    </tr>\n",
       "    <tr>\n",
       "      <th>9</th>\n",
       "      <td>\\nShaheen Afridi\\n</td>\n",
       "      <td>\\n\\nPAK\\n</td>\n",
       "      <td>635</td>\n",
       "    </tr>\n",
       "  </tbody>\n",
       "</table>\n",
       "</div>"
      ],
      "text/plain": [
       "                   Name                           Team Rating\n",
       "0        Josh Hazlewood  \\n\\nAUS\\n                        692\n",
       "1    \\nMitchell Starc\\n                      \\n\\nAUS\\n    666\n",
       "2       \\nTrent Boult\\n                       \\n\\nNZ\\n    666\n",
       "3        \\nAdam Zampa\\n                      \\n\\nAUS\\n    663\n",
       "4        \\nMatt Henry\\n                       \\n\\nNZ\\n    658\n",
       "5  \\nMujeeb Ur Rahman\\n                      \\n\\nAFG\\n    657\n",
       "6     \\nKuldeep Yadav\\n                      \\n\\nIND\\n    656\n",
       "7       \\nRashid Khan\\n                      \\n\\nAFG\\n    655\n",
       "8    \\nMohammed Siraj\\n                      \\n\\nIND\\n    643\n",
       "9    \\nShaheen Afridi\\n                      \\n\\nPAK\\n    635"
      ]
     },
     "execution_count": 139,
     "metadata": {},
     "output_type": "execute_result"
    }
   ],
   "source": [
    "import pandas as pd\n",
    "df= pd.DataFrame({\"Name\":name,\"Team\":team,\"Rating\":Rating})\n",
    "df"
   ]
  },
  {
   "cell_type": "code",
   "execution_count": null,
   "id": "12592296",
   "metadata": {},
   "outputs": [],
   "source": []
  },
  {
   "cell_type": "code",
   "execution_count": null,
   "id": "582fd22e",
   "metadata": {},
   "outputs": [],
   "source": []
  },
  {
   "cell_type": "code",
   "execution_count": null,
   "id": "6f1259fb",
   "metadata": {},
   "outputs": [],
   "source": []
  },
  {
   "cell_type": "code",
   "execution_count": null,
   "id": "357711b5",
   "metadata": {},
   "outputs": [],
   "source": []
  },
  {
   "cell_type": "markdown",
   "id": "a3cd4311",
   "metadata": {},
   "source": [
    "#### 4) Write a python program to scrape cricket rankings from icc-cricket.com. You have to scrape and make data frame\u0002\n"
   ]
  },
  {
   "cell_type": "markdown",
   "id": "c95a3d5c",
   "metadata": {},
   "source": [
    "##### a) Top 10 ODI teams in women’s cricket along with the records for matches, points and rating"
   ]
  },
  {
   "cell_type": "code",
   "execution_count": 140,
   "id": "940eee9c",
   "metadata": {},
   "outputs": [
    {
     "data": {
      "text/plain": [
       "<Response [200]>"
      ]
     },
     "execution_count": 140,
     "metadata": {},
     "output_type": "execute_result"
    }
   ],
   "source": [
    "page = requests.get('https://www.icc-cricket.com/rankings/womens/team-rankings/odi')\n",
    "page"
   ]
  },
  {
   "cell_type": "code",
   "execution_count": null,
   "id": "a852a5c0",
   "metadata": {},
   "outputs": [],
   "source": [
    "soup = BeautifulSoup(page.content)\n",
    "soup"
   ]
  },
  {
   "cell_type": "code",
   "execution_count": 142,
   "id": "2b563edb",
   "metadata": {},
   "outputs": [
    {
     "data": {
      "text/plain": [
       "['Australia',\n",
       " 'England',\n",
       " 'South Africa',\n",
       " 'India',\n",
       " 'New Zealand',\n",
       " 'West Indies',\n",
       " 'Bangladesh',\n",
       " 'Sri Lanka',\n",
       " 'Thailand',\n",
       " 'Pakistan',\n",
       " 'Ireland',\n",
       " 'Netherlands',\n",
       " 'Zimbabwe']"
      ]
     },
     "execution_count": 142,
     "metadata": {},
     "output_type": "execute_result"
    }
   ],
   "source": [
    "ODI_Womens = []\n",
    "\n",
    "for i in soup.find_all('span',class_=\"u-hide-phablet\"):\n",
    "    ODI_Womens.append(i.text)\n",
    "    \n",
    "ODI_Womens"
   ]
  },
  {
   "cell_type": "code",
   "execution_count": 143,
   "id": "ccd1c4ca",
   "metadata": {},
   "outputs": [
    {
     "data": {
      "text/plain": [
       "['31',\n",
       " '3,875',\n",
       " '26',\n",
       " '3,098',\n",
       " '30',\n",
       " '3,039',\n",
       " '28',\n",
       " '2,688',\n",
       " '29',\n",
       " '2,743',\n",
       " '17',\n",
       " '1,284',\n",
       " '12',\n",
       " '820',\n",
       " '13',\n",
       " '883',\n",
       " '27',\n",
       " '1,678',\n",
       " '18',\n",
       " '660',\n",
       " '11',\n",
       " '89',\n",
       " '11',\n",
       " '0']"
      ]
     },
     "execution_count": 143,
     "metadata": {},
     "output_type": "execute_result"
    }
   ],
   "source": [
    "Points = []\n",
    "\n",
    "for i in soup.find_all('td',class_=\"table-body__cell u-center-text\"):\n",
    "    Points.append(i.text)\n",
    "    \n",
    "Points"
   ]
  },
  {
   "cell_type": "code",
   "execution_count": 144,
   "id": "67c4c9e5",
   "metadata": {},
   "outputs": [
    {
     "data": {
      "text/plain": [
       "['125', '119', '101', '96', '95', '76', '68', '68', '62', '37', '8', '0']"
      ]
     },
     "execution_count": 144,
     "metadata": {},
     "output_type": "execute_result"
    }
   ],
   "source": [
    "Rating= []\n",
    "for i in soup.find_all('td',class_=\"table-body__cell u-text-right rating\"):\n",
    "    Rating.append(i.text)\n",
    "    \n",
    "Rating"
   ]
  },
  {
   "cell_type": "code",
   "execution_count": 145,
   "id": "ffedd47b",
   "metadata": {},
   "outputs": [],
   "source": [
    "import pandas as pd\n",
    "df = pd.DataFrame({\"Matches\":ODI_Womens[:10],\"Points\":Points[1:21:2],\"Rating\":Rating[:10]})"
   ]
  },
  {
   "cell_type": "code",
   "execution_count": 146,
   "id": "f7a60546",
   "metadata": {},
   "outputs": [
    {
     "data": {
      "text/html": [
       "<div>\n",
       "<style scoped>\n",
       "    .dataframe tbody tr th:only-of-type {\n",
       "        vertical-align: middle;\n",
       "    }\n",
       "\n",
       "    .dataframe tbody tr th {\n",
       "        vertical-align: top;\n",
       "    }\n",
       "\n",
       "    .dataframe thead th {\n",
       "        text-align: right;\n",
       "    }\n",
       "</style>\n",
       "<table border=\"1\" class=\"dataframe\">\n",
       "  <thead>\n",
       "    <tr style=\"text-align: right;\">\n",
       "      <th></th>\n",
       "      <th>Matches</th>\n",
       "      <th>Points</th>\n",
       "      <th>Rating</th>\n",
       "    </tr>\n",
       "  </thead>\n",
       "  <tbody>\n",
       "    <tr>\n",
       "      <th>0</th>\n",
       "      <td>Australia</td>\n",
       "      <td>3,875</td>\n",
       "      <td>125</td>\n",
       "    </tr>\n",
       "    <tr>\n",
       "      <th>1</th>\n",
       "      <td>England</td>\n",
       "      <td>3,098</td>\n",
       "      <td>119</td>\n",
       "    </tr>\n",
       "    <tr>\n",
       "      <th>2</th>\n",
       "      <td>South Africa</td>\n",
       "      <td>3,039</td>\n",
       "      <td>101</td>\n",
       "    </tr>\n",
       "    <tr>\n",
       "      <th>3</th>\n",
       "      <td>India</td>\n",
       "      <td>2,688</td>\n",
       "      <td>96</td>\n",
       "    </tr>\n",
       "    <tr>\n",
       "      <th>4</th>\n",
       "      <td>New Zealand</td>\n",
       "      <td>2,743</td>\n",
       "      <td>95</td>\n",
       "    </tr>\n",
       "    <tr>\n",
       "      <th>5</th>\n",
       "      <td>West Indies</td>\n",
       "      <td>1,284</td>\n",
       "      <td>76</td>\n",
       "    </tr>\n",
       "    <tr>\n",
       "      <th>6</th>\n",
       "      <td>Bangladesh</td>\n",
       "      <td>820</td>\n",
       "      <td>68</td>\n",
       "    </tr>\n",
       "    <tr>\n",
       "      <th>7</th>\n",
       "      <td>Sri Lanka</td>\n",
       "      <td>883</td>\n",
       "      <td>68</td>\n",
       "    </tr>\n",
       "    <tr>\n",
       "      <th>8</th>\n",
       "      <td>Thailand</td>\n",
       "      <td>1,678</td>\n",
       "      <td>62</td>\n",
       "    </tr>\n",
       "    <tr>\n",
       "      <th>9</th>\n",
       "      <td>Pakistan</td>\n",
       "      <td>660</td>\n",
       "      <td>37</td>\n",
       "    </tr>\n",
       "  </tbody>\n",
       "</table>\n",
       "</div>"
      ],
      "text/plain": [
       "        Matches Points Rating\n",
       "0     Australia  3,875    125\n",
       "1       England  3,098    119\n",
       "2  South Africa  3,039    101\n",
       "3         India  2,688     96\n",
       "4   New Zealand  2,743     95\n",
       "5   West Indies  1,284     76\n",
       "6    Bangladesh    820     68\n",
       "7     Sri Lanka    883     68\n",
       "8      Thailand  1,678     62\n",
       "9      Pakistan    660     37"
      ]
     },
     "execution_count": 146,
     "metadata": {},
     "output_type": "execute_result"
    }
   ],
   "source": [
    "df"
   ]
  },
  {
   "cell_type": "markdown",
   "id": "0f9ee114",
   "metadata": {},
   "source": [
    "##### b) Top 10 women’s ODI Batting players along with the records of their team and rating.\n"
   ]
  },
  {
   "cell_type": "code",
   "execution_count": 147,
   "id": "20050037",
   "metadata": {},
   "outputs": [
    {
     "data": {
      "text/plain": [
       "<Response [200]>"
      ]
     },
     "execution_count": 147,
     "metadata": {},
     "output_type": "execute_result"
    }
   ],
   "source": [
    "page = requests.get('https://www.icc-cricket.com/rankings/womens/player-rankings/odi/batting')\n",
    "page"
   ]
  },
  {
   "cell_type": "code",
   "execution_count": null,
   "id": "d270fffa",
   "metadata": {},
   "outputs": [],
   "source": [
    "soup = BeautifulSoup(page.content)\n",
    "soup"
   ]
  },
  {
   "cell_type": "code",
   "execution_count": 149,
   "id": "720e9107",
   "metadata": {},
   "outputs": [
    {
     "data": {
      "text/plain": [
       "['Natalie Sciver-Brunt']"
      ]
     },
     "execution_count": 149,
     "metadata": {},
     "output_type": "execute_result"
    }
   ],
   "source": [
    "first_name = []\n",
    "\n",
    "for i in soup.find_all('div',class_=\"rankings-block__banner--name-large\"):\n",
    "    first_name.append(i.text)\n",
    "    \n",
    "first_name"
   ]
  },
  {
   "cell_type": "code",
   "execution_count": 150,
   "id": "106636aa",
   "metadata": {},
   "outputs": [
    {
     "data": {
      "text/plain": [
       "['\\n\\nENG\\n                    ']"
      ]
     },
     "execution_count": 150,
     "metadata": {},
     "output_type": "execute_result"
    }
   ],
   "source": [
    "first_team = []\n",
    "for i in soup.find_all('div',class_=\"rankings-block__banner--nationality\"):\n",
    "    first_team.append(i.text)\n",
    "    \n",
    "first_team"
   ]
  },
  {
   "cell_type": "code",
   "execution_count": 151,
   "id": "b3e904bb",
   "metadata": {},
   "outputs": [
    {
     "data": {
      "text/plain": [
       "['801']"
      ]
     },
     "execution_count": 151,
     "metadata": {},
     "output_type": "execute_result"
    }
   ],
   "source": [
    "first_rating = []\n",
    "\n",
    "for i in soup.find_all('div',class_=\"rankings-block__banner--rating\"):\n",
    "    first_rating.append(i.text)\n",
    "    \n",
    "first_rating"
   ]
  },
  {
   "cell_type": "code",
   "execution_count": 155,
   "id": "ca3fb58a",
   "metadata": {},
   "outputs": [
    {
     "data": {
      "text/plain": [
       "['\\nBeth Mooney\\n',\n",
       " '\\nChamari Athapaththu\\n',\n",
       " '\\nLaura Wolvaardt\\n',\n",
       " '\\nSmriti Mandhana\\n',\n",
       " '\\nAlyssa Healy\\n',\n",
       " '\\nHarmanpreet Kaur\\n',\n",
       " '\\nEllyse Perry\\n',\n",
       " '\\nMeg Lanning\\n',\n",
       " '\\nStafanie Taylor\\n']"
      ]
     },
     "execution_count": 155,
     "metadata": {},
     "output_type": "execute_result"
    }
   ],
   "source": [
    "Name = []\n",
    "\n",
    "for i in soup.find_all('td',class_=\"table-body__cell rankings-table__name name\"):\n",
    "    Name.append(i.text)\n",
    "    \n",
    "Name[:9]"
   ]
  },
  {
   "cell_type": "code",
   "execution_count": 156,
   "id": "8c90ee98",
   "metadata": {},
   "outputs": [
    {
     "data": {
      "text/plain": [
       "['\\n\\nAUS\\n',\n",
       " '\\n\\nSL\\n',\n",
       " '\\n\\nSA\\n',\n",
       " '\\n\\nIND\\n',\n",
       " '\\n\\nAUS\\n',\n",
       " '\\n\\nIND\\n',\n",
       " '\\n\\nAUS\\n',\n",
       " '\\n\\nAUS\\n',\n",
       " '\\n\\nWI\\n']"
      ]
     },
     "execution_count": 156,
     "metadata": {},
     "output_type": "execute_result"
    }
   ],
   "source": [
    "team = []\n",
    "\n",
    "for i in soup.find_all('td',class_=\"table-body__cell nationality-logo rankings-table__team\"):\n",
    "    team.append(i.text)\n",
    "    \n",
    "team[:9]"
   ]
  },
  {
   "cell_type": "code",
   "execution_count": 157,
   "id": "5566adeb",
   "metadata": {},
   "outputs": [
    {
     "data": {
      "text/plain": [
       "['751', '743', '708', '708', '702', '694', '686', '682', '618']"
      ]
     },
     "execution_count": 157,
     "metadata": {},
     "output_type": "execute_result"
    }
   ],
   "source": [
    "rating = [] \n",
    "\n",
    "for i in soup.find_all('td',class_=\"table-body__cell rating\"):\n",
    "    rating.append(i.text)\n",
    "    \n",
    "rating[:9]"
   ]
  },
  {
   "cell_type": "code",
   "execution_count": 158,
   "id": "20bf81dc",
   "metadata": {},
   "outputs": [],
   "source": [
    "name = first_name + Name[:9]"
   ]
  },
  {
   "cell_type": "code",
   "execution_count": 159,
   "id": "73978a9b",
   "metadata": {},
   "outputs": [],
   "source": [
    "team= first_team + team[:9]"
   ]
  },
  {
   "cell_type": "code",
   "execution_count": 160,
   "id": "3ec5d895",
   "metadata": {},
   "outputs": [],
   "source": [
    "Rating = first_rating + rating[:9]"
   ]
  },
  {
   "cell_type": "code",
   "execution_count": 161,
   "id": "0492befb",
   "metadata": {},
   "outputs": [
    {
     "data": {
      "text/html": [
       "<div>\n",
       "<style scoped>\n",
       "    .dataframe tbody tr th:only-of-type {\n",
       "        vertical-align: middle;\n",
       "    }\n",
       "\n",
       "    .dataframe tbody tr th {\n",
       "        vertical-align: top;\n",
       "    }\n",
       "\n",
       "    .dataframe thead th {\n",
       "        text-align: right;\n",
       "    }\n",
       "</style>\n",
       "<table border=\"1\" class=\"dataframe\">\n",
       "  <thead>\n",
       "    <tr style=\"text-align: right;\">\n",
       "      <th></th>\n",
       "      <th>Name</th>\n",
       "      <th>Team</th>\n",
       "      <th>Rating</th>\n",
       "    </tr>\n",
       "  </thead>\n",
       "  <tbody>\n",
       "    <tr>\n",
       "      <th>0</th>\n",
       "      <td>Natalie Sciver-Brunt</td>\n",
       "      <td>\\n\\nENG\\n</td>\n",
       "      <td>801</td>\n",
       "    </tr>\n",
       "    <tr>\n",
       "      <th>1</th>\n",
       "      <td>\\nBeth Mooney\\n</td>\n",
       "      <td>\\n\\nAUS\\n</td>\n",
       "      <td>751</td>\n",
       "    </tr>\n",
       "    <tr>\n",
       "      <th>2</th>\n",
       "      <td>\\nChamari Athapaththu\\n</td>\n",
       "      <td>\\n\\nSL\\n</td>\n",
       "      <td>743</td>\n",
       "    </tr>\n",
       "    <tr>\n",
       "      <th>3</th>\n",
       "      <td>\\nLaura Wolvaardt\\n</td>\n",
       "      <td>\\n\\nSA\\n</td>\n",
       "      <td>708</td>\n",
       "    </tr>\n",
       "    <tr>\n",
       "      <th>4</th>\n",
       "      <td>\\nSmriti Mandhana\\n</td>\n",
       "      <td>\\n\\nIND\\n</td>\n",
       "      <td>708</td>\n",
       "    </tr>\n",
       "    <tr>\n",
       "      <th>5</th>\n",
       "      <td>\\nAlyssa Healy\\n</td>\n",
       "      <td>\\n\\nAUS\\n</td>\n",
       "      <td>702</td>\n",
       "    </tr>\n",
       "    <tr>\n",
       "      <th>6</th>\n",
       "      <td>\\nHarmanpreet Kaur\\n</td>\n",
       "      <td>\\n\\nIND\\n</td>\n",
       "      <td>694</td>\n",
       "    </tr>\n",
       "    <tr>\n",
       "      <th>7</th>\n",
       "      <td>\\nEllyse Perry\\n</td>\n",
       "      <td>\\n\\nAUS\\n</td>\n",
       "      <td>686</td>\n",
       "    </tr>\n",
       "    <tr>\n",
       "      <th>8</th>\n",
       "      <td>\\nMeg Lanning\\n</td>\n",
       "      <td>\\n\\nAUS\\n</td>\n",
       "      <td>682</td>\n",
       "    </tr>\n",
       "    <tr>\n",
       "      <th>9</th>\n",
       "      <td>\\nStafanie Taylor\\n</td>\n",
       "      <td>\\n\\nWI\\n</td>\n",
       "      <td>618</td>\n",
       "    </tr>\n",
       "  </tbody>\n",
       "</table>\n",
       "</div>"
      ],
      "text/plain": [
       "                      Name                           Team Rating\n",
       "0     Natalie Sciver-Brunt  \\n\\nENG\\n                        801\n",
       "1          \\nBeth Mooney\\n                      \\n\\nAUS\\n    751\n",
       "2  \\nChamari Athapaththu\\n                       \\n\\nSL\\n    743\n",
       "3      \\nLaura Wolvaardt\\n                       \\n\\nSA\\n    708\n",
       "4      \\nSmriti Mandhana\\n                      \\n\\nIND\\n    708\n",
       "5         \\nAlyssa Healy\\n                      \\n\\nAUS\\n    702\n",
       "6     \\nHarmanpreet Kaur\\n                      \\n\\nIND\\n    694\n",
       "7         \\nEllyse Perry\\n                      \\n\\nAUS\\n    686\n",
       "8          \\nMeg Lanning\\n                      \\n\\nAUS\\n    682\n",
       "9      \\nStafanie Taylor\\n                       \\n\\nWI\\n    618"
      ]
     },
     "execution_count": 161,
     "metadata": {},
     "output_type": "execute_result"
    }
   ],
   "source": [
    "import pandas as pd\n",
    "df = pd.DataFrame({\"Name\":name,\"Team\":team,\"Rating\":Rating})\n",
    "df"
   ]
  },
  {
   "cell_type": "markdown",
   "id": "fdecc1bf",
   "metadata": {},
   "source": [
    "##### c) Top 10 women’s ODI all-rounder along with the records of their team and rating."
   ]
  },
  {
   "cell_type": "code",
   "execution_count": 162,
   "id": "ccaafa35",
   "metadata": {},
   "outputs": [
    {
     "data": {
      "text/plain": [
       "<Response [200]>"
      ]
     },
     "execution_count": 162,
     "metadata": {},
     "output_type": "execute_result"
    }
   ],
   "source": [
    "page = requests.get('https://www.icc-cricket.com/rankings/womens/player-rankings/odi/all-rounder')\n",
    "page"
   ]
  },
  {
   "cell_type": "code",
   "execution_count": null,
   "id": "f6667fc2",
   "metadata": {},
   "outputs": [],
   "source": [
    "soup = BeautifulSoup(page.content)\n",
    "soup"
   ]
  },
  {
   "cell_type": "code",
   "execution_count": 164,
   "id": "a7da61ec",
   "metadata": {},
   "outputs": [
    {
     "data": {
      "text/plain": [
       "['Natalie Sciver-Brunt']"
      ]
     },
     "execution_count": 164,
     "metadata": {},
     "output_type": "execute_result"
    }
   ],
   "source": [
    "first_name = []\n",
    "\n",
    "for i in soup.find_all('div',class_=\"rankings-block__banner--name-large\"):\n",
    "    first_name.append(i.text)\n",
    "    \n",
    "first_name"
   ]
  },
  {
   "cell_type": "code",
   "execution_count": 165,
   "id": "f98c9c75",
   "metadata": {},
   "outputs": [
    {
     "data": {
      "text/plain": [
       "['\\n\\nENG\\n                    ']"
      ]
     },
     "execution_count": 165,
     "metadata": {},
     "output_type": "execute_result"
    }
   ],
   "source": [
    "first_team = []\n",
    "for i in soup.find_all('div',class_=\"rankings-block__banner--nationality\"):\n",
    "    first_team.append(i.text)\n",
    "    \n",
    "first_team"
   ]
  },
  {
   "cell_type": "code",
   "execution_count": 166,
   "id": "086f1668",
   "metadata": {},
   "outputs": [
    {
     "data": {
      "text/plain": [
       "['398']"
      ]
     },
     "execution_count": 166,
     "metadata": {},
     "output_type": "execute_result"
    }
   ],
   "source": [
    "first_rating = []\n",
    "\n",
    "for i in soup.find_all('div',class_=\"rankings-block__banner--rating\"):\n",
    "    first_rating.append(i.text)\n",
    "    \n",
    "first_rating"
   ]
  },
  {
   "cell_type": "code",
   "execution_count": 167,
   "id": "58ece5ac",
   "metadata": {},
   "outputs": [
    {
     "data": {
      "text/plain": [
       "['\\nAshleigh Gardner\\n',\n",
       " '\\nHayley Matthews\\n',\n",
       " '\\nMarizanne Kapp\\n',\n",
       " '\\nEllyse Perry\\n',\n",
       " '\\nAmelia Kerr\\n',\n",
       " '\\nDeepti Sharma\\n',\n",
       " '\\nJess Jonassen\\n',\n",
       " '\\nSophie Devine\\n',\n",
       " '\\nNida Dar\\n']"
      ]
     },
     "execution_count": 167,
     "metadata": {},
     "output_type": "execute_result"
    }
   ],
   "source": [
    "Name = []\n",
    "\n",
    "for i in soup.find_all('td',class_=\"table-body__cell rankings-table__name name\"):\n",
    "    Name.append(i.text)\n",
    "    \n",
    "Name[:9]"
   ]
  },
  {
   "cell_type": "code",
   "execution_count": 168,
   "id": "5b178973",
   "metadata": {},
   "outputs": [
    {
     "data": {
      "text/plain": [
       "['\\n\\nAUS\\n',\n",
       " '\\n\\nWI\\n',\n",
       " '\\n\\nSA\\n',\n",
       " '\\n\\nAUS\\n',\n",
       " '\\n\\nNZ\\n',\n",
       " '\\n\\nIND\\n',\n",
       " '\\n\\nAUS\\n',\n",
       " '\\n\\nNZ\\n',\n",
       " '\\n\\nPAK\\n']"
      ]
     },
     "execution_count": 168,
     "metadata": {},
     "output_type": "execute_result"
    }
   ],
   "source": [
    "team = []\n",
    "\n",
    "for i in soup.find_all('td',class_=\"table-body__cell nationality-logo rankings-table__team\"):\n",
    "    team.append(i.text)\n",
    "    \n",
    "team[:9]"
   ]
  },
  {
   "cell_type": "code",
   "execution_count": 169,
   "id": "53b8a679",
   "metadata": {},
   "outputs": [
    {
     "data": {
      "text/plain": [
       "['389', '382', '362', '329', '328', '312', '241', '233', '217']"
      ]
     },
     "execution_count": 169,
     "metadata": {},
     "output_type": "execute_result"
    }
   ],
   "source": [
    "rating = [] \n",
    "\n",
    "for i in soup.find_all('td',class_=\"table-body__cell rating\"):\n",
    "    rating.append(i.text)\n",
    "    \n",
    "rating[:9]"
   ]
  },
  {
   "cell_type": "code",
   "execution_count": 170,
   "id": "23319013",
   "metadata": {},
   "outputs": [
    {
     "data": {
      "text/plain": [
       "['Natalie Sciver-Brunt',\n",
       " '\\nAshleigh Gardner\\n',\n",
       " '\\nHayley Matthews\\n',\n",
       " '\\nMarizanne Kapp\\n',\n",
       " '\\nEllyse Perry\\n',\n",
       " '\\nAmelia Kerr\\n',\n",
       " '\\nDeepti Sharma\\n',\n",
       " '\\nJess Jonassen\\n',\n",
       " '\\nSophie Devine\\n',\n",
       " '\\nNida Dar\\n']"
      ]
     },
     "execution_count": 170,
     "metadata": {},
     "output_type": "execute_result"
    }
   ],
   "source": [
    "name = first_name + Name[:9]\n",
    "\n",
    "name"
   ]
  },
  {
   "cell_type": "code",
   "execution_count": 171,
   "id": "9418b4c0",
   "metadata": {},
   "outputs": [
    {
     "data": {
      "text/plain": [
       "['\\n\\nENG\\n                    ',\n",
       " '\\n\\nAUS\\n',\n",
       " '\\n\\nWI\\n',\n",
       " '\\n\\nSA\\n',\n",
       " '\\n\\nAUS\\n',\n",
       " '\\n\\nNZ\\n',\n",
       " '\\n\\nIND\\n',\n",
       " '\\n\\nAUS\\n',\n",
       " '\\n\\nNZ\\n',\n",
       " '\\n\\nPAK\\n']"
      ]
     },
     "execution_count": 171,
     "metadata": {},
     "output_type": "execute_result"
    }
   ],
   "source": [
    "team= first_team + team[:9]\n",
    "team"
   ]
  },
  {
   "cell_type": "code",
   "execution_count": 172,
   "id": "92848cb3",
   "metadata": {},
   "outputs": [
    {
     "data": {
      "text/plain": [
       "['398', '389', '382', '362', '329', '328', '312', '241', '233', '217']"
      ]
     },
     "execution_count": 172,
     "metadata": {},
     "output_type": "execute_result"
    }
   ],
   "source": [
    "Rating = first_rating + rating[:9]\n",
    "Rating"
   ]
  },
  {
   "cell_type": "code",
   "execution_count": 173,
   "id": "cfb90414",
   "metadata": {},
   "outputs": [
    {
     "data": {
      "text/html": [
       "<div>\n",
       "<style scoped>\n",
       "    .dataframe tbody tr th:only-of-type {\n",
       "        vertical-align: middle;\n",
       "    }\n",
       "\n",
       "    .dataframe tbody tr th {\n",
       "        vertical-align: top;\n",
       "    }\n",
       "\n",
       "    .dataframe thead th {\n",
       "        text-align: right;\n",
       "    }\n",
       "</style>\n",
       "<table border=\"1\" class=\"dataframe\">\n",
       "  <thead>\n",
       "    <tr style=\"text-align: right;\">\n",
       "      <th></th>\n",
       "      <th>Name</th>\n",
       "      <th>Team</th>\n",
       "      <th>Rating</th>\n",
       "    </tr>\n",
       "  </thead>\n",
       "  <tbody>\n",
       "    <tr>\n",
       "      <th>0</th>\n",
       "      <td>Natalie Sciver-Brunt</td>\n",
       "      <td>\\n\\nENG\\n</td>\n",
       "      <td>398</td>\n",
       "    </tr>\n",
       "    <tr>\n",
       "      <th>1</th>\n",
       "      <td>\\nAshleigh Gardner\\n</td>\n",
       "      <td>\\n\\nAUS\\n</td>\n",
       "      <td>389</td>\n",
       "    </tr>\n",
       "    <tr>\n",
       "      <th>2</th>\n",
       "      <td>\\nHayley Matthews\\n</td>\n",
       "      <td>\\n\\nWI\\n</td>\n",
       "      <td>382</td>\n",
       "    </tr>\n",
       "    <tr>\n",
       "      <th>3</th>\n",
       "      <td>\\nMarizanne Kapp\\n</td>\n",
       "      <td>\\n\\nSA\\n</td>\n",
       "      <td>362</td>\n",
       "    </tr>\n",
       "    <tr>\n",
       "      <th>4</th>\n",
       "      <td>\\nEllyse Perry\\n</td>\n",
       "      <td>\\n\\nAUS\\n</td>\n",
       "      <td>329</td>\n",
       "    </tr>\n",
       "    <tr>\n",
       "      <th>5</th>\n",
       "      <td>\\nAmelia Kerr\\n</td>\n",
       "      <td>\\n\\nNZ\\n</td>\n",
       "      <td>328</td>\n",
       "    </tr>\n",
       "    <tr>\n",
       "      <th>6</th>\n",
       "      <td>\\nDeepti Sharma\\n</td>\n",
       "      <td>\\n\\nIND\\n</td>\n",
       "      <td>312</td>\n",
       "    </tr>\n",
       "    <tr>\n",
       "      <th>7</th>\n",
       "      <td>\\nJess Jonassen\\n</td>\n",
       "      <td>\\n\\nAUS\\n</td>\n",
       "      <td>241</td>\n",
       "    </tr>\n",
       "    <tr>\n",
       "      <th>8</th>\n",
       "      <td>\\nSophie Devine\\n</td>\n",
       "      <td>\\n\\nNZ\\n</td>\n",
       "      <td>233</td>\n",
       "    </tr>\n",
       "    <tr>\n",
       "      <th>9</th>\n",
       "      <td>\\nNida Dar\\n</td>\n",
       "      <td>\\n\\nPAK\\n</td>\n",
       "      <td>217</td>\n",
       "    </tr>\n",
       "  </tbody>\n",
       "</table>\n",
       "</div>"
      ],
      "text/plain": [
       "                   Name                           Team Rating\n",
       "0  Natalie Sciver-Brunt  \\n\\nENG\\n                        398\n",
       "1  \\nAshleigh Gardner\\n                      \\n\\nAUS\\n    389\n",
       "2   \\nHayley Matthews\\n                       \\n\\nWI\\n    382\n",
       "3    \\nMarizanne Kapp\\n                       \\n\\nSA\\n    362\n",
       "4      \\nEllyse Perry\\n                      \\n\\nAUS\\n    329\n",
       "5       \\nAmelia Kerr\\n                       \\n\\nNZ\\n    328\n",
       "6     \\nDeepti Sharma\\n                      \\n\\nIND\\n    312\n",
       "7     \\nJess Jonassen\\n                      \\n\\nAUS\\n    241\n",
       "8     \\nSophie Devine\\n                       \\n\\nNZ\\n    233\n",
       "9          \\nNida Dar\\n                      \\n\\nPAK\\n    217"
      ]
     },
     "execution_count": 173,
     "metadata": {},
     "output_type": "execute_result"
    }
   ],
   "source": [
    "import pandas as pd\n",
    "df = pd.DataFrame({\"Name\":name,\"Team\":team,\"Rating\":Rating})\n",
    "df"
   ]
  },
  {
   "cell_type": "code",
   "execution_count": null,
   "id": "0bf835fe",
   "metadata": {},
   "outputs": [],
   "source": []
  },
  {
   "cell_type": "markdown",
   "id": "a7ae21cb",
   "metadata": {},
   "source": [
    "#### 5) Write a python program to scrape mentioned news details from https://www.cnbc.com/world/?region=world and make data frame\n",
    "i) Headline ii) Time iii) News Link"
   ]
  },
  {
   "cell_type": "code",
   "execution_count": 174,
   "id": "fd91ff37",
   "metadata": {},
   "outputs": [
    {
     "data": {
      "text/plain": [
       "<Response [200]>"
      ]
     },
     "execution_count": 174,
     "metadata": {},
     "output_type": "execute_result"
    }
   ],
   "source": [
    "page = requests.get('https://www.cnbc.com/world/?region=world')\n",
    "page"
   ]
  },
  {
   "cell_type": "code",
   "execution_count": null,
   "id": "8e459a51",
   "metadata": {},
   "outputs": [],
   "source": [
    "soup = BeautifulSoup(page.content)\n",
    "soup"
   ]
  },
  {
   "cell_type": "code",
   "execution_count": 176,
   "id": "2d5924a4",
   "metadata": {},
   "outputs": [
    {
     "data": {
      "text/plain": [
       "['These are the 11 sectors of the S&P 500 — and the stocks we own in each',\n",
       " 'No. 1 tip for starting a side hustle, from 2 moms who make thousands',\n",
       " 'These are the top 10 states for young workers, says new report',\n",
       " 'Why health insurance is poised to make inflation jump',\n",
       " 'Hollywood pays a steep price for never really figuring out the streaming model',\n",
       " \"Disney asset sales won't break the bank, but they will move legacy media forward\",\n",
       " 'It’s been one year since the Ethereum merge. Here’s how the network is doing.',\n",
       " \"Behind Warren Buffett's $100 billion-plus bet on Apple and the iPhone\",\n",
       " 'One individual investor favorite has endured even as other meme stocks waned ',\n",
       " 'Stellantis offers raises, inflation protection to UAW as strikes continue',\n",
       " 'Strong retail sales despite stubborn inflation bodes well for two consumer stocks',\n",
       " \"4 things the world's longest-living people do to stay healthy, happy\",\n",
       " \"How Olipop's founders started a soda brand bringing in $20 million/month\",\n",
       " \"Here are three things we're watching in the markets in the week ahead\",\n",
       " 'U.S. states where property taxes are highest—New Jersey is No. 1',\n",
       " 'The No. 1 thing successful parents who raise the strongest and most resilient kids do differently',\n",
       " \"Mark Cuban: If someone says they can make you rich, 'they're lying'\",\n",
       " 'Top investor Jenny Harrington breaks down her best trade ever',\n",
       " '3 financial tips for couples moving in together for the first time',\n",
       " 'Analysts said obesity drugs would be blockbusters — Now forecasts are rising',\n",
       " \"Analysts see stocks like Microsoft offering 'double digit growth' thanks to AI\",\n",
       " 'Stocks churn with the S&P 500 sitting at the same level it was two years ago',\n",
       " 'We gave the $2.1 million Rimac Nevera electric hypercar a spin. Check it out',\n",
       " \"Trump lashes out at Jack Smith's bid for partial gag order in D.C. election case\",\n",
       " \"Cramer's Lightning Round: Sell Joby Aviation\",\n",
       " \"Cramer's week ahead: Pay attention to the Federal Reserve's meeting\",\n",
       " \"Okta CEO on MGM breach: Companies are under 'massive attack from cybercriminals'\",\n",
       " 'Jack Smith wants Trump barred from posting on witnesses or evidence in D.C. case',\n",
       " 'Adobe falls after posting quarterly results. How to play the stock',\n",
       " 'Bernie Sanders calls out automaker CEOs at UAW rally: ‘End your greed’']"
      ]
     },
     "execution_count": 176,
     "metadata": {},
     "output_type": "execute_result"
    }
   ],
   "source": [
    "Headline = []\n",
    "\n",
    "for i in soup.find_all('a',class_=\"LatestNews-headline\"):\n",
    "    Headline.append(i.text)\n",
    "    \n",
    "Headline"
   ]
  },
  {
   "cell_type": "code",
   "execution_count": 177,
   "id": "e25dee33",
   "metadata": {},
   "outputs": [
    {
     "data": {
      "text/plain": [
       "['35 Min Ago',\n",
       " '1 Hour Ago',\n",
       " '2 Hours Ago',\n",
       " '2 Hours Ago',\n",
       " '3 Hours Ago',\n",
       " '3 Hours Ago',\n",
       " '3 Hours Ago',\n",
       " '3 Hours Ago',\n",
       " '3 Hours Ago',\n",
       " '20 Hours Ago',\n",
       " '21 Hours Ago',\n",
       " '24 Hours Ago',\n",
       " 'September 16, 2023',\n",
       " 'September 16, 2023',\n",
       " 'September 16, 2023',\n",
       " 'September 16, 2023',\n",
       " 'September 16, 2023',\n",
       " 'September 16, 2023',\n",
       " 'September 16, 2023',\n",
       " 'September 16, 2023',\n",
       " 'September 16, 2023',\n",
       " 'September 16, 2023',\n",
       " 'September 16, 2023',\n",
       " 'September 15, 2023',\n",
       " 'September 15, 2023',\n",
       " 'September 15, 2023',\n",
       " 'September 15, 2023',\n",
       " 'September 15, 2023',\n",
       " 'September 15, 2023',\n",
       " 'September 15, 2023']"
      ]
     },
     "execution_count": 177,
     "metadata": {},
     "output_type": "execute_result"
    }
   ],
   "source": [
    "Time = []\n",
    "\n",
    "for i in soup.find_all('span',class_=\"LatestNews-wrapper\"):\n",
    "    Time.append(i.text)\n",
    "    \n",
    "Time"
   ]
  },
  {
   "cell_type": "code",
   "execution_count": null,
   "id": "90f41bb2",
   "metadata": {},
   "outputs": [],
   "source": [
    "New_link=[]\n",
    "\n",
    "for i in soup.find_all('a'):\n",
    "    New_link.append(i.text)\n",
    "    \n",
    "New_link"
   ]
  },
  {
   "cell_type": "code",
   "execution_count": 178,
   "id": "835edabf",
   "metadata": {},
   "outputs": [
    {
     "name": "stdout",
     "output_type": "stream",
     "text": [
      "30 30\n"
     ]
    }
   ],
   "source": [
    "print(len(Headline),len(Time))"
   ]
  },
  {
   "cell_type": "code",
   "execution_count": 179,
   "id": "2870f0a5",
   "metadata": {},
   "outputs": [],
   "source": [
    "import pandas as pd\n",
    "df= pd.DataFrame({'Headlines': Headline,'Time':Time})"
   ]
  },
  {
   "cell_type": "code",
   "execution_count": 180,
   "id": "ea3eafb6",
   "metadata": {},
   "outputs": [
    {
     "data": {
      "text/html": [
       "<div>\n",
       "<style scoped>\n",
       "    .dataframe tbody tr th:only-of-type {\n",
       "        vertical-align: middle;\n",
       "    }\n",
       "\n",
       "    .dataframe tbody tr th {\n",
       "        vertical-align: top;\n",
       "    }\n",
       "\n",
       "    .dataframe thead th {\n",
       "        text-align: right;\n",
       "    }\n",
       "</style>\n",
       "<table border=\"1\" class=\"dataframe\">\n",
       "  <thead>\n",
       "    <tr style=\"text-align: right;\">\n",
       "      <th></th>\n",
       "      <th>Headlines</th>\n",
       "      <th>Time</th>\n",
       "    </tr>\n",
       "  </thead>\n",
       "  <tbody>\n",
       "    <tr>\n",
       "      <th>0</th>\n",
       "      <td>These are the 11 sectors of the S&amp;P 500 — and ...</td>\n",
       "      <td>35 Min Ago</td>\n",
       "    </tr>\n",
       "    <tr>\n",
       "      <th>1</th>\n",
       "      <td>No. 1 tip for starting a side hustle, from 2 m...</td>\n",
       "      <td>1 Hour Ago</td>\n",
       "    </tr>\n",
       "    <tr>\n",
       "      <th>2</th>\n",
       "      <td>These are the top 10 states for young workers,...</td>\n",
       "      <td>2 Hours Ago</td>\n",
       "    </tr>\n",
       "    <tr>\n",
       "      <th>3</th>\n",
       "      <td>Why health insurance is poised to make inflati...</td>\n",
       "      <td>2 Hours Ago</td>\n",
       "    </tr>\n",
       "    <tr>\n",
       "      <th>4</th>\n",
       "      <td>Hollywood pays a steep price for never really ...</td>\n",
       "      <td>3 Hours Ago</td>\n",
       "    </tr>\n",
       "    <tr>\n",
       "      <th>5</th>\n",
       "      <td>Disney asset sales won't break the bank, but t...</td>\n",
       "      <td>3 Hours Ago</td>\n",
       "    </tr>\n",
       "    <tr>\n",
       "      <th>6</th>\n",
       "      <td>It’s been one year since the Ethereum merge. H...</td>\n",
       "      <td>3 Hours Ago</td>\n",
       "    </tr>\n",
       "    <tr>\n",
       "      <th>7</th>\n",
       "      <td>Behind Warren Buffett's $100 billion-plus bet ...</td>\n",
       "      <td>3 Hours Ago</td>\n",
       "    </tr>\n",
       "    <tr>\n",
       "      <th>8</th>\n",
       "      <td>One individual investor favorite has endured e...</td>\n",
       "      <td>3 Hours Ago</td>\n",
       "    </tr>\n",
       "    <tr>\n",
       "      <th>9</th>\n",
       "      <td>Stellantis offers raises, inflation protection...</td>\n",
       "      <td>20 Hours Ago</td>\n",
       "    </tr>\n",
       "    <tr>\n",
       "      <th>10</th>\n",
       "      <td>Strong retail sales despite stubborn inflation...</td>\n",
       "      <td>21 Hours Ago</td>\n",
       "    </tr>\n",
       "    <tr>\n",
       "      <th>11</th>\n",
       "      <td>4 things the world's longest-living people do ...</td>\n",
       "      <td>24 Hours Ago</td>\n",
       "    </tr>\n",
       "    <tr>\n",
       "      <th>12</th>\n",
       "      <td>How Olipop's founders started a soda brand bri...</td>\n",
       "      <td>September 16, 2023</td>\n",
       "    </tr>\n",
       "    <tr>\n",
       "      <th>13</th>\n",
       "      <td>Here are three things we're watching in the ma...</td>\n",
       "      <td>September 16, 2023</td>\n",
       "    </tr>\n",
       "    <tr>\n",
       "      <th>14</th>\n",
       "      <td>U.S. states where property taxes are highest—N...</td>\n",
       "      <td>September 16, 2023</td>\n",
       "    </tr>\n",
       "    <tr>\n",
       "      <th>15</th>\n",
       "      <td>The No. 1 thing successful parents who raise t...</td>\n",
       "      <td>September 16, 2023</td>\n",
       "    </tr>\n",
       "    <tr>\n",
       "      <th>16</th>\n",
       "      <td>Mark Cuban: If someone says they can make you ...</td>\n",
       "      <td>September 16, 2023</td>\n",
       "    </tr>\n",
       "    <tr>\n",
       "      <th>17</th>\n",
       "      <td>Top investor Jenny Harrington breaks down her ...</td>\n",
       "      <td>September 16, 2023</td>\n",
       "    </tr>\n",
       "    <tr>\n",
       "      <th>18</th>\n",
       "      <td>3 financial tips for couples moving in togethe...</td>\n",
       "      <td>September 16, 2023</td>\n",
       "    </tr>\n",
       "    <tr>\n",
       "      <th>19</th>\n",
       "      <td>Analysts said obesity drugs would be blockbust...</td>\n",
       "      <td>September 16, 2023</td>\n",
       "    </tr>\n",
       "    <tr>\n",
       "      <th>20</th>\n",
       "      <td>Analysts see stocks like Microsoft offering 'd...</td>\n",
       "      <td>September 16, 2023</td>\n",
       "    </tr>\n",
       "    <tr>\n",
       "      <th>21</th>\n",
       "      <td>Stocks churn with the S&amp;P 500 sitting at the s...</td>\n",
       "      <td>September 16, 2023</td>\n",
       "    </tr>\n",
       "    <tr>\n",
       "      <th>22</th>\n",
       "      <td>We gave the $2.1 million Rimac Nevera electric...</td>\n",
       "      <td>September 16, 2023</td>\n",
       "    </tr>\n",
       "    <tr>\n",
       "      <th>23</th>\n",
       "      <td>Trump lashes out at Jack Smith's bid for parti...</td>\n",
       "      <td>September 15, 2023</td>\n",
       "    </tr>\n",
       "    <tr>\n",
       "      <th>24</th>\n",
       "      <td>Cramer's Lightning Round: Sell Joby Aviation</td>\n",
       "      <td>September 15, 2023</td>\n",
       "    </tr>\n",
       "    <tr>\n",
       "      <th>25</th>\n",
       "      <td>Cramer's week ahead: Pay attention to the Fede...</td>\n",
       "      <td>September 15, 2023</td>\n",
       "    </tr>\n",
       "    <tr>\n",
       "      <th>26</th>\n",
       "      <td>Okta CEO on MGM breach: Companies are under 'm...</td>\n",
       "      <td>September 15, 2023</td>\n",
       "    </tr>\n",
       "    <tr>\n",
       "      <th>27</th>\n",
       "      <td>Jack Smith wants Trump barred from posting on ...</td>\n",
       "      <td>September 15, 2023</td>\n",
       "    </tr>\n",
       "    <tr>\n",
       "      <th>28</th>\n",
       "      <td>Adobe falls after posting quarterly results. H...</td>\n",
       "      <td>September 15, 2023</td>\n",
       "    </tr>\n",
       "    <tr>\n",
       "      <th>29</th>\n",
       "      <td>Bernie Sanders calls out automaker CEOs at UAW...</td>\n",
       "      <td>September 15, 2023</td>\n",
       "    </tr>\n",
       "  </tbody>\n",
       "</table>\n",
       "</div>"
      ],
      "text/plain": [
       "                                            Headlines                Time\n",
       "0   These are the 11 sectors of the S&P 500 — and ...          35 Min Ago\n",
       "1   No. 1 tip for starting a side hustle, from 2 m...          1 Hour Ago\n",
       "2   These are the top 10 states for young workers,...         2 Hours Ago\n",
       "3   Why health insurance is poised to make inflati...         2 Hours Ago\n",
       "4   Hollywood pays a steep price for never really ...         3 Hours Ago\n",
       "5   Disney asset sales won't break the bank, but t...         3 Hours Ago\n",
       "6   It’s been one year since the Ethereum merge. H...         3 Hours Ago\n",
       "7   Behind Warren Buffett's $100 billion-plus bet ...         3 Hours Ago\n",
       "8   One individual investor favorite has endured e...         3 Hours Ago\n",
       "9   Stellantis offers raises, inflation protection...        20 Hours Ago\n",
       "10  Strong retail sales despite stubborn inflation...        21 Hours Ago\n",
       "11  4 things the world's longest-living people do ...        24 Hours Ago\n",
       "12  How Olipop's founders started a soda brand bri...  September 16, 2023\n",
       "13  Here are three things we're watching in the ma...  September 16, 2023\n",
       "14  U.S. states where property taxes are highest—N...  September 16, 2023\n",
       "15  The No. 1 thing successful parents who raise t...  September 16, 2023\n",
       "16  Mark Cuban: If someone says they can make you ...  September 16, 2023\n",
       "17  Top investor Jenny Harrington breaks down her ...  September 16, 2023\n",
       "18  3 financial tips for couples moving in togethe...  September 16, 2023\n",
       "19  Analysts said obesity drugs would be blockbust...  September 16, 2023\n",
       "20  Analysts see stocks like Microsoft offering 'd...  September 16, 2023\n",
       "21  Stocks churn with the S&P 500 sitting at the s...  September 16, 2023\n",
       "22  We gave the $2.1 million Rimac Nevera electric...  September 16, 2023\n",
       "23  Trump lashes out at Jack Smith's bid for parti...  September 15, 2023\n",
       "24       Cramer's Lightning Round: Sell Joby Aviation  September 15, 2023\n",
       "25  Cramer's week ahead: Pay attention to the Fede...  September 15, 2023\n",
       "26  Okta CEO on MGM breach: Companies are under 'm...  September 15, 2023\n",
       "27  Jack Smith wants Trump barred from posting on ...  September 15, 2023\n",
       "28  Adobe falls after posting quarterly results. H...  September 15, 2023\n",
       "29  Bernie Sanders calls out automaker CEOs at UAW...  September 15, 2023"
      ]
     },
     "execution_count": 180,
     "metadata": {},
     "output_type": "execute_result"
    }
   ],
   "source": [
    "df"
   ]
  },
  {
   "cell_type": "code",
   "execution_count": null,
   "id": "c7a758a5",
   "metadata": {},
   "outputs": [],
   "source": []
  },
  {
   "cell_type": "markdown",
   "id": "e5b950c4",
   "metadata": {},
   "source": [
    "#### 6) Write a python program to scrape the details of most downloaded articles from AI in last 90\n",
    "days. https://www.theguardian.com/news/datablog/2012/aug/09/best-selling-books-all-time-fifty-shades-grey-compare Scrape below mentioned details and make data frame\n",
    "\n",
    "i) Paper Title ii) Authors iii) Published Date iv) Paper URL"
   ]
  },
  {
   "cell_type": "code",
   "execution_count": 181,
   "id": "8c0fb42d",
   "metadata": {},
   "outputs": [
    {
     "data": {
      "text/plain": [
       "<Response [200]>"
      ]
     },
     "execution_count": 181,
     "metadata": {},
     "output_type": "execute_result"
    }
   ],
   "source": [
    "page = requests.get('https://www.theguardian.com/news/datablog/2012/aug/09/best-selling-books-all-time-fifty-shades-grey-compare')\n",
    "page"
   ]
  },
  {
   "cell_type": "code",
   "execution_count": null,
   "id": "97b24adf",
   "metadata": {},
   "outputs": [],
   "source": [
    "soup = BeautifulSoup(page.content)\n",
    "soup"
   ]
  },
  {
   "cell_type": "code",
   "execution_count": 183,
   "id": "b920b197",
   "metadata": {},
   "outputs": [
    {
     "data": {
      "text/plain": [
       "['\\n\\n\\nSOURCE: NIELSEN BOOK SCAN\\n\\n ',\n",
       " ' 1 ',\n",
       " ' Da Vinci Code,The ',\n",
       " ' Brown, Dan ',\n",
       " ' 5,094,805 ',\n",
       " ' Transworld ',\n",
       " ' Crime, Thriller & Adventure ',\n",
       " ' 2 ',\n",
       " ' Harry Potter and the Deathly Hallows ',\n",
       " ' Rowling, J.K. ',\n",
       " ' 4,475,152 ',\n",
       " ' Bloomsbury ',\n",
       " \" Children's Fiction \",\n",
       " ' 3 ',\n",
       " \" Harry Potter and the Philosopher's Stone \",\n",
       " ' Rowling, J.K. ',\n",
       " ' 4,200,654 ',\n",
       " ' Bloomsbury ',\n",
       " \" Children's Fiction \",\n",
       " ' 4 ',\n",
       " ' Harry Potter and the Order of the Phoenix ',\n",
       " ' Rowling, J.K. ',\n",
       " ' 4,179,479 ',\n",
       " ' Bloomsbury ',\n",
       " \" Children's Fiction \",\n",
       " ' 5 ',\n",
       " ' Fifty Shades of Grey ',\n",
       " ' James, E. L. ',\n",
       " ' 3,758,936 ',\n",
       " ' Random House ',\n",
       " ' Romance & Sagas ',\n",
       " ' 6 ',\n",
       " ' Harry Potter and the Goblet of Fire ',\n",
       " ' Rowling, J.K. ',\n",
       " ' 3,583,215 ',\n",
       " ' Bloomsbury ',\n",
       " \" Children's Fiction \",\n",
       " ' 7 ',\n",
       " ' Harry Potter and the Chamber of Secrets ',\n",
       " ' Rowling, J.K. ',\n",
       " ' 3,484,047 ',\n",
       " ' Bloomsbury ',\n",
       " \" Children's Fiction \",\n",
       " ' 8 ',\n",
       " ' Harry Potter and the Prisoner of Azkaban ',\n",
       " ' Rowling, J.K. ',\n",
       " ' 3,377,906 ',\n",
       " ' Bloomsbury ',\n",
       " \" Children's Fiction \",\n",
       " ' 9 ',\n",
       " ' Angels and Demons ',\n",
       " ' Brown, Dan ',\n",
       " ' 3,193,946 ',\n",
       " ' Transworld ',\n",
       " ' Crime, Thriller & Adventure ',\n",
       " ' 10 ',\n",
       " \" Harry Potter and the Half-blood Prince:Children's Edition \",\n",
       " ' Rowling, J.K. ',\n",
       " ' 2,950,264 ',\n",
       " ' Bloomsbury ',\n",
       " \" Children's Fiction \",\n",
       " ' 11 ',\n",
       " ' Fifty Shades Darker ',\n",
       " ' James, E. L. ',\n",
       " ' 2,479,784 ',\n",
       " ' Random House ',\n",
       " ' Romance & Sagas ',\n",
       " ' 12 ',\n",
       " ' Twilight ',\n",
       " ' Meyer, Stephenie ',\n",
       " ' 2,315,405 ',\n",
       " ' Little, Brown Book ',\n",
       " ' Young Adult Fiction ',\n",
       " ' 13 ',\n",
       " ' Girl with the Dragon Tattoo,The:Millennium Trilogy ',\n",
       " ' Larsson, Stieg ',\n",
       " ' 2,233,570 ',\n",
       " ' Quercus ',\n",
       " ' Crime, Thriller & Adventure ',\n",
       " ' 14 ',\n",
       " ' Fifty Shades Freed ',\n",
       " ' James, E. L. ',\n",
       " ' 2,193,928 ',\n",
       " ' Random House ',\n",
       " ' Romance & Sagas ',\n",
       " ' 15 ',\n",
       " ' Lost Symbol,The ',\n",
       " ' Brown, Dan ',\n",
       " ' 2,183,031 ',\n",
       " ' Transworld ',\n",
       " ' Crime, Thriller & Adventure ',\n",
       " ' 16 ',\n",
       " ' New Moon ',\n",
       " ' Meyer, Stephenie ',\n",
       " ' 2,152,737 ',\n",
       " ' Little, Brown Book ',\n",
       " ' Young Adult Fiction ',\n",
       " ' 17 ',\n",
       " ' Deception Point ',\n",
       " ' Brown, Dan ',\n",
       " ' 2,062,145 ',\n",
       " ' Transworld ',\n",
       " ' Crime, Thriller & Adventure ',\n",
       " ' 18 ',\n",
       " ' Eclipse ',\n",
       " ' Meyer, Stephenie ',\n",
       " ' 2,052,876 ',\n",
       " ' Little, Brown Book ',\n",
       " ' Young Adult Fiction ',\n",
       " ' 19 ',\n",
       " ' Lovely Bones,The ',\n",
       " ' Sebold, Alice ',\n",
       " ' 2,005,598 ',\n",
       " ' Pan Macmillan ',\n",
       " ' General & Literary Fiction ',\n",
       " ' 20 ',\n",
       " ' Curious Incident of the Dog in the Night-time,The ',\n",
       " ' Haddon, Mark ',\n",
       " ' 1,979,552 ',\n",
       " ' Random House ',\n",
       " ' General & Literary Fiction ',\n",
       " ' 21 ',\n",
       " ' Digital Fortress ',\n",
       " ' Brown, Dan ',\n",
       " ' 1,928,900 ',\n",
       " ' Transworld ',\n",
       " ' Crime, Thriller & Adventure ',\n",
       " ' 22 ',\n",
       " ' Short History of Nearly Everything,A ',\n",
       " ' Bryson, Bill ',\n",
       " ' 1,852,919 ',\n",
       " ' Transworld ',\n",
       " ' Popular Science ',\n",
       " ' 23 ',\n",
       " ' Girl Who Played with Fire,The:Millennium Trilogy ',\n",
       " ' Larsson, Stieg ',\n",
       " ' 1,814,784 ',\n",
       " ' Quercus ',\n",
       " ' Crime, Thriller & Adventure ',\n",
       " ' 24 ',\n",
       " ' Breaking Dawn ',\n",
       " ' Meyer, Stephenie ',\n",
       " ' 1,787,118 ',\n",
       " ' Little, Brown Book ',\n",
       " ' Young Adult Fiction ',\n",
       " ' 25 ',\n",
       " ' Very Hungry Caterpillar,The:The Very Hungry Caterpillar ',\n",
       " ' Carle, Eric ',\n",
       " ' 1,783,535 ',\n",
       " ' Penguin ',\n",
       " ' Picture Books ',\n",
       " ' 26 ',\n",
       " ' Gruffalo,The ',\n",
       " ' Donaldson, Julia ',\n",
       " ' 1,781,269 ',\n",
       " ' Pan Macmillan ',\n",
       " ' Picture Books ',\n",
       " ' 27 ',\n",
       " \" Jamie's 30-Minute Meals \",\n",
       " ' Oliver, Jamie ',\n",
       " ' 1,743,266 ',\n",
       " ' Penguin ',\n",
       " ' Food & Drink: General ',\n",
       " ' 28 ',\n",
       " ' Kite Runner,The ',\n",
       " ' Hosseini, Khaled ',\n",
       " ' 1,629,119 ',\n",
       " ' Bloomsbury ',\n",
       " ' General & Literary Fiction ',\n",
       " ' 29 ',\n",
       " ' One Day ',\n",
       " ' Nicholls, David ',\n",
       " ' 1,616,068 ',\n",
       " ' Hodder & Stoughton ',\n",
       " ' General & Literary Fiction ',\n",
       " ' 30 ',\n",
       " ' Thousand Splendid Suns,A ',\n",
       " ' Hosseini, Khaled ',\n",
       " ' 1,583,992 ',\n",
       " ' Bloomsbury ',\n",
       " ' General & Literary Fiction ',\n",
       " ' 31 ',\n",
       " \" Girl Who Kicked the Hornets' Nest,The:Millennium Trilogy \",\n",
       " ' Larsson, Stieg ',\n",
       " ' 1,555,135 ',\n",
       " ' Quercus ',\n",
       " ' Crime, Thriller & Adventure ',\n",
       " ' 32 ',\n",
       " \" Time Traveler's Wife,The \",\n",
       " ' Niffenegger, Audrey ',\n",
       " ' 1,546,886 ',\n",
       " ' Random House ',\n",
       " ' General & Literary Fiction ',\n",
       " ' 33 ',\n",
       " ' Atonement ',\n",
       " ' McEwan, Ian ',\n",
       " ' 1,539,428 ',\n",
       " ' Random House ',\n",
       " ' General & Literary Fiction ',\n",
       " ' 34 ',\n",
       " \" Bridget Jones's Diary:A Novel \",\n",
       " ' Fielding, Helen ',\n",
       " ' 1,508,205 ',\n",
       " ' Pan Macmillan ',\n",
       " ' General & Literary Fiction ',\n",
       " ' 35 ',\n",
       " ' World According to Clarkson,The ',\n",
       " ' Clarkson, Jeremy ',\n",
       " ' 1,489,403 ',\n",
       " ' Penguin ',\n",
       " ' Humour: Collections & General ',\n",
       " ' 36 ',\n",
       " \" Captain Corelli's Mandolin \",\n",
       " ' Bernieres, Louis de ',\n",
       " ' 1,352,318 ',\n",
       " ' Random House ',\n",
       " ' General & Literary Fiction ',\n",
       " ' 37 ',\n",
       " ' Sound of Laughter,The ',\n",
       " ' Kay, Peter ',\n",
       " ' 1,310,207 ',\n",
       " ' Random House ',\n",
       " ' Autobiography: General ',\n",
       " ' 38 ',\n",
       " ' Life of Pi ',\n",
       " ' Martel, Yann ',\n",
       " ' 1,310,176 ',\n",
       " ' Canongate ',\n",
       " ' General & Literary Fiction ',\n",
       " ' 39 ',\n",
       " ' Billy Connolly ',\n",
       " ' Stephenson, Pamela ',\n",
       " ' 1,231,957 ',\n",
       " ' HarperCollins ',\n",
       " ' Biography: The Arts ',\n",
       " ' 40 ',\n",
       " ' Child Called It,A ',\n",
       " ' Pelzer, Dave ',\n",
       " ' 1,217,712 ',\n",
       " ' Orion ',\n",
       " ' Autobiography: General ',\n",
       " ' 41 ',\n",
       " \" Gruffalo's Child,The \",\n",
       " ' Donaldson, Julia ',\n",
       " ' 1,208,711 ',\n",
       " ' Pan Macmillan ',\n",
       " ' Picture Books ',\n",
       " ' 42 ',\n",
       " \" Angela's Ashes:A Memoir of a Childhood \",\n",
       " ' McCourt, Frank ',\n",
       " ' 1,204,058 ',\n",
       " ' HarperCollins ',\n",
       " ' Autobiography: General ',\n",
       " ' 43 ',\n",
       " ' Birdsong ',\n",
       " ' Faulks, Sebastian ',\n",
       " ' 1,184,967 ',\n",
       " ' Random House ',\n",
       " ' General & Literary Fiction ',\n",
       " ' 44 ',\n",
       " ' Northern Lights:His Dark Materials S. ',\n",
       " ' Pullman, Philip ',\n",
       " ' 1,181,503 ',\n",
       " ' Scholastic Ltd. ',\n",
       " ' Young Adult Fiction ',\n",
       " ' 45 ',\n",
       " ' Labyrinth ',\n",
       " ' Mosse, Kate ',\n",
       " ' 1,181,093 ',\n",
       " ' Orion ',\n",
       " ' General & Literary Fiction ',\n",
       " ' 46 ',\n",
       " ' Harry Potter and the Half-blood Prince ',\n",
       " ' Rowling, J.K. ',\n",
       " ' 1,153,181 ',\n",
       " ' Bloomsbury ',\n",
       " ' Science Fiction & Fantasy ',\n",
       " ' 47 ',\n",
       " ' Help,The ',\n",
       " ' Stockett, Kathryn ',\n",
       " ' 1,132,336 ',\n",
       " ' Penguin ',\n",
       " ' General & Literary Fiction ',\n",
       " ' 48 ',\n",
       " ' Man and Boy ',\n",
       " ' Parsons, Tony ',\n",
       " ' 1,130,802 ',\n",
       " ' HarperCollins ',\n",
       " ' General & Literary Fiction ',\n",
       " ' 49 ',\n",
       " ' Memoirs of a Geisha ',\n",
       " ' Golden, Arthur ',\n",
       " ' 1,126,337 ',\n",
       " ' Random House ',\n",
       " ' General & Literary Fiction ',\n",
       " ' 50 ',\n",
       " \" No.1 Ladies' Detective Agency,The:No.1 Ladies' Detective Agency S. \",\n",
       " ' McCall Smith, Alexander ',\n",
       " ' 1,115,549 ',\n",
       " ' Little, Brown Book ',\n",
       " ' Crime, Thriller & Adventure ',\n",
       " ' 51 ',\n",
       " ' Island,The ',\n",
       " ' Hislop, Victoria ',\n",
       " ' 1,108,328 ',\n",
       " ' Headline ',\n",
       " ' General & Literary Fiction ',\n",
       " ' 52 ',\n",
       " ' PS, I Love You ',\n",
       " ' Ahern, Cecelia ',\n",
       " ' 1,107,379 ',\n",
       " ' HarperCollins ',\n",
       " ' General & Literary Fiction ',\n",
       " ' 53 ',\n",
       " ' You are What You Eat:The Plan That Will Change Your Life ',\n",
       " ' McKeith, Gillian ',\n",
       " ' 1,104,403 ',\n",
       " ' Penguin ',\n",
       " ' Fitness & Diet ',\n",
       " ' 54 ',\n",
       " ' Shadow of the Wind,The ',\n",
       " ' Zafon, Carlos Ruiz ',\n",
       " ' 1,092,349 ',\n",
       " ' Orion ',\n",
       " ' General & Literary Fiction ',\n",
       " ' 55 ',\n",
       " ' Tales of Beedle the Bard,The ',\n",
       " ' Rowling, J.K. ',\n",
       " ' 1,090,847 ',\n",
       " ' Bloomsbury ',\n",
       " \" Children's Fiction \",\n",
       " ' 56 ',\n",
       " ' Broker,The ',\n",
       " ' Grisham, John ',\n",
       " ' 1,087,262 ',\n",
       " ' Random House ',\n",
       " ' Crime, Thriller & Adventure ',\n",
       " ' 57 ',\n",
       " \" Dr. Atkins' New Diet Revolution:The No-hunger, Luxurious Weight Loss P \",\n",
       " ' Atkins, Robert C. ',\n",
       " ' 1,054,196 ',\n",
       " ' Random House ',\n",
       " ' Fitness & Diet ',\n",
       " ' 58 ',\n",
       " ' Subtle Knife,The:His Dark Materials S. ',\n",
       " ' Pullman, Philip ',\n",
       " ' 1,037,160 ',\n",
       " ' Scholastic Ltd. ',\n",
       " ' Young Adult Fiction ',\n",
       " ' 59 ',\n",
       " ' Eats, Shoots and Leaves:The Zero Tolerance Approach to Punctuation ',\n",
       " ' Truss, Lynne ',\n",
       " ' 1,023,688 ',\n",
       " ' Profile Books Group ',\n",
       " ' Usage & Writing Guides ',\n",
       " ' 60 ',\n",
       " \" Delia's How to Cook:(Bk.1) \",\n",
       " ' Smith, Delia ',\n",
       " ' 1,015,956 ',\n",
       " ' Random House ',\n",
       " ' Food & Drink: General ',\n",
       " ' 61 ',\n",
       " ' Chocolat ',\n",
       " ' Harris, Joanne ',\n",
       " ' 1,009,873 ',\n",
       " ' Transworld ',\n",
       " ' General & Literary Fiction ',\n",
       " ' 62 ',\n",
       " ' Boy in the Striped Pyjamas,The ',\n",
       " ' Boyne, John ',\n",
       " ' 1,004,414 ',\n",
       " ' Random House Childrens Books G ',\n",
       " ' Young Adult Fiction ',\n",
       " ' 63 ',\n",
       " \" My Sister's Keeper \",\n",
       " ' Picoult, Jodi ',\n",
       " ' 1,003,780 ',\n",
       " ' Hodder & Stoughton ',\n",
       " ' General & Literary Fiction ',\n",
       " ' 64 ',\n",
       " ' Amber Spyglass,The:His Dark Materials S. ',\n",
       " ' Pullman, Philip ',\n",
       " ' 1,002,314 ',\n",
       " ' Scholastic Ltd. ',\n",
       " ' Young Adult Fiction ',\n",
       " ' 65 ',\n",
       " ' To Kill a Mockingbird ',\n",
       " ' Lee, Harper ',\n",
       " ' 998,213 ',\n",
       " ' Random House ',\n",
       " ' General & Literary Fiction ',\n",
       " ' 66 ',\n",
       " ' Men are from Mars, Women are from Venus:A Practical Guide for Improvin ',\n",
       " ' Gray, John ',\n",
       " ' 992,846 ',\n",
       " ' HarperCollins ',\n",
       " ' Popular Culture & Media: General Interest ',\n",
       " ' 67 ',\n",
       " ' Dear Fatty ',\n",
       " ' French, Dawn ',\n",
       " ' 986,753 ',\n",
       " ' Random House ',\n",
       " ' Autobiography: The Arts ',\n",
       " ' 68 ',\n",
       " ' Short History of Tractors in Ukrainian,A ',\n",
       " ' Lewycka, Marina ',\n",
       " ' 986,115 ',\n",
       " ' Penguin ',\n",
       " ' General & Literary Fiction ',\n",
       " ' 69 ',\n",
       " ' Hannibal ',\n",
       " ' Harris, Thomas ',\n",
       " ' 970,509 ',\n",
       " ' Random House ',\n",
       " ' Crime, Thriller & Adventure ',\n",
       " ' 70 ',\n",
       " ' Lord of the Rings,The ',\n",
       " ' Tolkien, J. R. R. ',\n",
       " ' 967,466 ',\n",
       " ' HarperCollins ',\n",
       " ' Science Fiction & Fantasy ',\n",
       " ' 71 ',\n",
       " ' Stupid White Men:...and Other Sorry Excuses for the State of the Natio ',\n",
       " ' Moore, Michael ',\n",
       " ' 963,353 ',\n",
       " ' Penguin ',\n",
       " ' Current Affairs & Issues ',\n",
       " ' 72 ',\n",
       " ' Interpretation of Murder,The ',\n",
       " ' Rubenfeld, Jed ',\n",
       " ' 962,515 ',\n",
       " ' Headline ',\n",
       " ' Crime, Thriller & Adventure ',\n",
       " ' 73 ',\n",
       " ' Sharon Osbourne Extreme:My Autobiography ',\n",
       " ' Osbourne, Sharon ',\n",
       " ' 959,496 ',\n",
       " ' Little, Brown Book ',\n",
       " ' Autobiography: The Arts ',\n",
       " ' 74 ',\n",
       " ' Alchemist,The:A Fable About Following Your Dream ',\n",
       " ' Coelho, Paulo ',\n",
       " ' 956,114 ',\n",
       " ' HarperCollins ',\n",
       " ' General & Literary Fiction ',\n",
       " ' 75 ',\n",
       " \" At My Mother's Knee ...:and Other Low Joints \",\n",
       " \" O'Grady, Paul \",\n",
       " ' 945,640 ',\n",
       " ' Transworld ',\n",
       " ' Autobiography: The Arts ',\n",
       " ' 76 ',\n",
       " ' Notes from a Small Island ',\n",
       " ' Bryson, Bill ',\n",
       " ' 931,312 ',\n",
       " ' Transworld ',\n",
       " ' Travel Writing ',\n",
       " ' 77 ',\n",
       " ' Return of the Naked Chef,The ',\n",
       " ' Oliver, Jamie ',\n",
       " ' 925,425 ',\n",
       " ' Penguin ',\n",
       " ' Food & Drink: General ',\n",
       " ' 78 ',\n",
       " ' Bridget Jones: The Edge of Reason ',\n",
       " ' Fielding, Helen ',\n",
       " ' 924,695 ',\n",
       " ' Pan Macmillan ',\n",
       " ' General & Literary Fiction ',\n",
       " ' 79 ',\n",
       " \" Jamie's Italy \",\n",
       " ' Oliver, Jamie ',\n",
       " ' 906,968 ',\n",
       " ' Penguin ',\n",
       " ' National & Regional Cuisine ',\n",
       " ' 80 ',\n",
       " ' I Can Make You Thin ',\n",
       " ' McKenna, Paul ',\n",
       " ' 905,086 ',\n",
       " ' Transworld ',\n",
       " ' Fitness & Diet ',\n",
       " ' 81 ',\n",
       " ' Down Under ',\n",
       " ' Bryson, Bill ',\n",
       " ' 890,847 ',\n",
       " ' Transworld ',\n",
       " ' Travel Writing ',\n",
       " ' 82 ',\n",
       " ' Summons,The ',\n",
       " ' Grisham, John ',\n",
       " ' 869,671 ',\n",
       " ' Random House ',\n",
       " ' Crime, Thriller & Adventure ',\n",
       " ' 83 ',\n",
       " ' Small Island ',\n",
       " ' Levy, Andrea ',\n",
       " ' 869,659 ',\n",
       " ' Headline ',\n",
       " ' General & Literary Fiction ',\n",
       " ' 84 ',\n",
       " ' Nigella Express ',\n",
       " ' Lawson, Nigella ',\n",
       " ' 862,602 ',\n",
       " ' Random House ',\n",
       " ' Food & Drink: General ',\n",
       " ' 85 ',\n",
       " ' Brick Lane ',\n",
       " ' Ali, Monica ',\n",
       " ' 856,540 ',\n",
       " ' Transworld ',\n",
       " ' General & Literary Fiction ',\n",
       " ' 86 ',\n",
       " \" Memory Keeper's Daughter,The \",\n",
       " ' Edwards, Kim ',\n",
       " ' 845,858 ',\n",
       " ' Penguin ',\n",
       " ' General & Literary Fiction ',\n",
       " ' 87 ',\n",
       " ' Room on the Broom ',\n",
       " ' Donaldson, Julia ',\n",
       " ' 842,535 ',\n",
       " ' Pan Macmillan ',\n",
       " ' Picture Books ',\n",
       " ' 88 ',\n",
       " ' About a Boy ',\n",
       " ' Hornby, Nick ',\n",
       " ' 828,215 ',\n",
       " ' Penguin ',\n",
       " ' General & Literary Fiction ',\n",
       " ' 89 ',\n",
       " ' My Booky Wook ',\n",
       " ' Brand, Russell ',\n",
       " ' 820,563 ',\n",
       " ' Hodder & Stoughton ',\n",
       " ' Autobiography: The Arts ',\n",
       " ' 90 ',\n",
       " ' God Delusion,The ',\n",
       " ' Dawkins, Richard ',\n",
       " ' 816,907 ',\n",
       " ' Transworld ',\n",
       " ' Popular Science ',\n",
       " ' 91 ',\n",
       " ' \"Beano\" Annual,The ',\n",
       " ' 0 ',\n",
       " ' 816,585 ',\n",
       " ' D.C. Thomson ',\n",
       " \" Children's Annuals \",\n",
       " ' 92 ',\n",
       " ' White Teeth ',\n",
       " ' Smith, Zadie ',\n",
       " ' 815,586 ',\n",
       " ' Penguin ',\n",
       " ' General & Literary Fiction ',\n",
       " ' 93 ',\n",
       " ' House at Riverton,The ',\n",
       " ' Morton, Kate ',\n",
       " ' 814,370 ',\n",
       " ' Pan Macmillan ',\n",
       " ' General & Literary Fiction ',\n",
       " ' 94 ',\n",
       " ' Book Thief,The ',\n",
       " ' Zusak, Markus ',\n",
       " ' 809,641 ',\n",
       " ' Transworld ',\n",
       " ' General & Literary Fiction ',\n",
       " ' 95 ',\n",
       " ' Nights of Rain and Stars ',\n",
       " ' Binchy, Maeve ',\n",
       " ' 808,900 ',\n",
       " ' Orion ',\n",
       " ' General & Literary Fiction ',\n",
       " ' 96 ',\n",
       " ' Ghost,The ',\n",
       " ' Harris, Robert ',\n",
       " ' 807,311 ',\n",
       " ' Random House ',\n",
       " ' General & Literary Fiction ',\n",
       " ' 97 ',\n",
       " ' Happy Days with the Naked Chef ',\n",
       " ' Oliver, Jamie ',\n",
       " ' 794,201 ',\n",
       " ' Penguin ',\n",
       " ' Food & Drink: General ',\n",
       " ' 98 ',\n",
       " ' Hunger Games,The:Hunger Games Trilogy ',\n",
       " ' Collins, Suzanne ',\n",
       " ' 792,187 ',\n",
       " ' Scholastic Ltd. ',\n",
       " ' Young Adult Fiction ',\n",
       " ' 99 ',\n",
       " \" Lost Boy,The:A Foster Child's Search for the Love of a Family \",\n",
       " ' Pelzer, Dave ',\n",
       " ' 791,507 ',\n",
       " ' Orion ',\n",
       " ' Biography: General ',\n",
       " ' 100 ',\n",
       " \" Jamie's Ministry of Food:Anyone Can Learn to Cook in 24 Hours \",\n",
       " ' Oliver, Jamie ',\n",
       " ' 791,095 ',\n",
       " ' Penguin ',\n",
       " ' Food & Drink: General ']"
      ]
     },
     "execution_count": 183,
     "metadata": {},
     "output_type": "execute_result"
    }
   ],
   "source": [
    "title = []\n",
    "\n",
    "for i in soup.find_all('td'):\n",
    "    title.append(i.text)\n",
    "    \n",
    "title"
   ]
  },
  {
   "cell_type": "code",
   "execution_count": 184,
   "id": "54727ac7",
   "metadata": {},
   "outputs": [
    {
     "data": {
      "text/html": [
       "<div>\n",
       "<style scoped>\n",
       "    .dataframe tbody tr th:only-of-type {\n",
       "        vertical-align: middle;\n",
       "    }\n",
       "\n",
       "    .dataframe tbody tr th {\n",
       "        vertical-align: top;\n",
       "    }\n",
       "\n",
       "    .dataframe thead th {\n",
       "        text-align: right;\n",
       "    }\n",
       "</style>\n",
       "<table border=\"1\" class=\"dataframe\">\n",
       "  <thead>\n",
       "    <tr style=\"text-align: right;\">\n",
       "      <th></th>\n",
       "      <th>Books</th>\n",
       "      <th>Authors</th>\n",
       "      <th>Volume Sales</th>\n",
       "      <th>Genre</th>\n",
       "    </tr>\n",
       "  </thead>\n",
       "  <tbody>\n",
       "    <tr>\n",
       "      <th>0</th>\n",
       "      <td>Da Vinci Code,The</td>\n",
       "      <td>Brown, Dan</td>\n",
       "      <td>5,094,805</td>\n",
       "      <td>Crime, Thriller &amp; Adventure</td>\n",
       "    </tr>\n",
       "    <tr>\n",
       "      <th>1</th>\n",
       "      <td>Harry Potter and the Deathly Hallows</td>\n",
       "      <td>Rowling, J.K.</td>\n",
       "      <td>4,475,152</td>\n",
       "      <td>Children's Fiction</td>\n",
       "    </tr>\n",
       "    <tr>\n",
       "      <th>2</th>\n",
       "      <td>Harry Potter and the Philosopher's Stone</td>\n",
       "      <td>Rowling, J.K.</td>\n",
       "      <td>4,200,654</td>\n",
       "      <td>Children's Fiction</td>\n",
       "    </tr>\n",
       "    <tr>\n",
       "      <th>3</th>\n",
       "      <td>Harry Potter and the Order of the Phoenix</td>\n",
       "      <td>Rowling, J.K.</td>\n",
       "      <td>4,179,479</td>\n",
       "      <td>Children's Fiction</td>\n",
       "    </tr>\n",
       "    <tr>\n",
       "      <th>4</th>\n",
       "      <td>Fifty Shades of Grey</td>\n",
       "      <td>James, E. L.</td>\n",
       "      <td>3,758,936</td>\n",
       "      <td>Romance &amp; Sagas</td>\n",
       "    </tr>\n",
       "    <tr>\n",
       "      <th>...</th>\n",
       "      <td>...</td>\n",
       "      <td>...</td>\n",
       "      <td>...</td>\n",
       "      <td>...</td>\n",
       "    </tr>\n",
       "    <tr>\n",
       "      <th>95</th>\n",
       "      <td>Ghost,The</td>\n",
       "      <td>Harris, Robert</td>\n",
       "      <td>807,311</td>\n",
       "      <td>General &amp; Literary Fiction</td>\n",
       "    </tr>\n",
       "    <tr>\n",
       "      <th>96</th>\n",
       "      <td>Happy Days with the Naked Chef</td>\n",
       "      <td>Oliver, Jamie</td>\n",
       "      <td>794,201</td>\n",
       "      <td>Food &amp; Drink: General</td>\n",
       "    </tr>\n",
       "    <tr>\n",
       "      <th>97</th>\n",
       "      <td>Hunger Games,The:Hunger Games Trilogy</td>\n",
       "      <td>Collins, Suzanne</td>\n",
       "      <td>792,187</td>\n",
       "      <td>Young Adult Fiction</td>\n",
       "    </tr>\n",
       "    <tr>\n",
       "      <th>98</th>\n",
       "      <td>Lost Boy,The:A Foster Child's Search for the ...</td>\n",
       "      <td>Pelzer, Dave</td>\n",
       "      <td>791,507</td>\n",
       "      <td>Biography: General</td>\n",
       "    </tr>\n",
       "    <tr>\n",
       "      <th>99</th>\n",
       "      <td>Jamie's Ministry of Food:Anyone Can Learn to ...</td>\n",
       "      <td>Oliver, Jamie</td>\n",
       "      <td>791,095</td>\n",
       "      <td>Food &amp; Drink: General</td>\n",
       "    </tr>\n",
       "  </tbody>\n",
       "</table>\n",
       "<p>100 rows × 4 columns</p>\n",
       "</div>"
      ],
      "text/plain": [
       "                                                Books             Authors  \\\n",
       "0                                  Da Vinci Code,The          Brown, Dan    \n",
       "1               Harry Potter and the Deathly Hallows       Rowling, J.K.    \n",
       "2           Harry Potter and the Philosopher's Stone       Rowling, J.K.    \n",
       "3          Harry Potter and the Order of the Phoenix       Rowling, J.K.    \n",
       "4                               Fifty Shades of Grey        James, E. L.    \n",
       "..                                                ...                 ...   \n",
       "95                                         Ghost,The      Harris, Robert    \n",
       "96                    Happy Days with the Naked Chef       Oliver, Jamie    \n",
       "97             Hunger Games,The:Hunger Games Trilogy    Collins, Suzanne    \n",
       "98   Lost Boy,The:A Foster Child's Search for the ...       Pelzer, Dave    \n",
       "99   Jamie's Ministry of Food:Anyone Can Learn to ...      Oliver, Jamie    \n",
       "\n",
       "   Volume Sales                          Genre  \n",
       "0    5,094,805    Crime, Thriller & Adventure   \n",
       "1    4,475,152             Children's Fiction   \n",
       "2    4,200,654             Children's Fiction   \n",
       "3    4,179,479             Children's Fiction   \n",
       "4    3,758,936                Romance & Sagas   \n",
       "..          ...                            ...  \n",
       "95     807,311     General & Literary Fiction   \n",
       "96     794,201          Food & Drink: General   \n",
       "97     792,187            Young Adult Fiction   \n",
       "98     791,507             Biography: General   \n",
       "99     791,095          Food & Drink: General   \n",
       "\n",
       "[100 rows x 4 columns]"
      ]
     },
     "execution_count": 184,
     "metadata": {},
     "output_type": "execute_result"
    }
   ],
   "source": [
    "import pandas as pd\n",
    "df= pd.DataFrame({'Books':title[2::6],'Authors':title[3::6],'Volume Sales':title[4::6],'Genre':title[6::6]})\n",
    "df"
   ]
  },
  {
   "cell_type": "code",
   "execution_count": null,
   "id": "781822c3",
   "metadata": {},
   "outputs": [],
   "source": []
  },
  {
   "cell_type": "code",
   "execution_count": null,
   "id": "4176edf0",
   "metadata": {},
   "outputs": [],
   "source": []
  },
  {
   "cell_type": "markdown",
   "id": "92f6b3f2",
   "metadata": {},
   "source": [
    "#### 7) Write a python program to scrape mentioned details from dineout.co.in and make data frame\n",
    "i) Restaurant name ii) Cuisine iii) Location iv) Ratings v) Image URL"
   ]
  },
  {
   "cell_type": "code",
   "execution_count": null,
   "id": "01929c21",
   "metadata": {},
   "outputs": [],
   "source": [
    "page = requests.get('https://www.dineout.co.in/hyderabad?loc=Hyderabad')"
   ]
  },
  {
   "cell_type": "code",
   "execution_count": null,
   "id": "6e2f81f7",
   "metadata": {},
   "outputs": [],
   "source": [
    "page"
   ]
  },
  {
   "cell_type": "code",
   "execution_count": null,
   "id": "20318866",
   "metadata": {},
   "outputs": [],
   "source": [
    "soup = BeautifulSoup(page.content)\n",
    "soup"
   ]
  },
  {
   "cell_type": "code",
   "execution_count": null,
   "id": "d89d809f",
   "metadata": {},
   "outputs": [],
   "source": [
    "Restaurant=[]\n",
    "\n",
    "for i in soup.find_all('div',class_=\"restnt-info cursor\"):\n",
    "    Restaurant.append(i.text)\n",
    "    \n",
    "Restaurant"
   ]
  },
  {
   "cell_type": "code",
   "execution_count": null,
   "id": "0fc6a848",
   "metadata": {},
   "outputs": [],
   "source": [
    "cusine = []\n",
    "\n",
    "for n in soup.find_all('span',class_=\"double-line-ellipsis\"):\n",
    "    cusine.append(n.text)\n",
    "    \n",
    "cusine"
   ]
  },
  {
   "cell_type": "code",
   "execution_count": null,
   "id": "6fed37ed",
   "metadata": {},
   "outputs": [],
   "source": [
    "location =[]\n",
    "\n",
    "for i in soup.find_all('div',class_=\"restnt-loc ellipsis\"):\n",
    "    location.append(i.text)\n",
    "    \n",
    "location"
   ]
  },
  {
   "cell_type": "code",
   "execution_count": null,
   "id": "197e85dd",
   "metadata": {},
   "outputs": [],
   "source": [
    "Ratings = []\n",
    "\n",
    "for v in soup.find_all('div',class_=\"restnt-rating rating-4\"):\n",
    "    Ratings.append(v.text)\n",
    "    \n",
    "Ratings"
   ]
  },
  {
   "cell_type": "code",
   "execution_count": null,
   "id": "f5492811",
   "metadata": {},
   "outputs": [],
   "source": [
    "Img_url = []\n",
    "\n",
    "for v in soup.find_all('img',class_=\"no-img\"):\n",
    "    Img_url.append(v['data-src'])\n",
    "    \n",
    "Img_url"
   ]
  },
  {
   "cell_type": "code",
   "execution_count": null,
   "id": "39c56499",
   "metadata": {},
   "outputs": [],
   "source": [
    "print(len(Restaurant),len(cusine),len(location),len(Ratings),len(Img_url))"
   ]
  },
  {
   "cell_type": "code",
   "execution_count": null,
   "id": "06f81dbb",
   "metadata": {},
   "outputs": [],
   "source": [
    "import pandas as pd\n",
    "df = pd.DataFrame({'Restaurant name':Restaurant,'Cusine':cusine,'Location':location,'Ratings':Ratings,'Img_url':Img_url})\n",
    "df"
   ]
  },
  {
   "cell_type": "code",
   "execution_count": null,
   "id": "b490565d",
   "metadata": {},
   "outputs": [],
   "source": []
  },
  {
   "cell_type": "code",
   "execution_count": null,
   "id": "9204c8c2",
   "metadata": {},
   "outputs": [],
   "source": []
  }
 ],
 "metadata": {
  "kernelspec": {
   "display_name": "Python 3 (ipykernel)",
   "language": "python",
   "name": "python3"
  },
  "language_info": {
   "codemirror_mode": {
    "name": "ipython",
    "version": 3
   },
   "file_extension": ".py",
   "mimetype": "text/x-python",
   "name": "python",
   "nbconvert_exporter": "python",
   "pygments_lexer": "ipython3",
   "version": "3.11.4"
  }
 },
 "nbformat": 4,
 "nbformat_minor": 5
}
